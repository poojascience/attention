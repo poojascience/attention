{
 "cells": [
  {
   "cell_type": "code",
   "execution_count": 1,
   "id": "e97773f9",
   "metadata": {
    "execution": {
     "iopub.execute_input": "2024-08-20T14:36:53.123532Z",
     "iopub.status.busy": "2024-08-20T14:36:53.122770Z",
     "iopub.status.idle": "2024-08-20T14:37:34.223628Z",
     "shell.execute_reply": "2024-08-20T14:37:34.222449Z"
    },
    "papermill": {
     "duration": 41.109425,
     "end_time": "2024-08-20T14:37:34.226012",
     "exception": false,
     "start_time": "2024-08-20T14:36:53.116587",
     "status": "completed"
    },
    "tags": []
   },
   "outputs": [
    {
     "name": "stdout",
     "output_type": "stream",
     "text": [
      "Collecting indic-nlp-library\n",
      "  Downloading indic_nlp_library-0.92-py3-none-any.whl.metadata (5.7 kB)\n",
      "Collecting sphinx-argparse (from indic-nlp-library)\n",
      "  Downloading sphinx_argparse-0.5.2-py3-none-any.whl.metadata (3.7 kB)\n",
      "Collecting sphinx-rtd-theme (from indic-nlp-library)\n",
      "  Downloading sphinx_rtd_theme-2.0.0-py2.py3-none-any.whl.metadata (4.4 kB)\n",
      "Collecting morfessor (from indic-nlp-library)\n",
      "  Downloading Morfessor-2.0.6-py3-none-any.whl.metadata (628 bytes)\n",
      "Requirement already satisfied: pandas in c:\\users\\pooja\\appdata\\local\\packages\\pythonsoftwarefoundation.python.3.11_qbz5n2kfra8p0\\localcache\\local-packages\\python311\\site-packages (from indic-nlp-library) (2.2.2)\n",
      "Requirement already satisfied: numpy in c:\\users\\pooja\\appdata\\local\\packages\\pythonsoftwarefoundation.python.3.11_qbz5n2kfra8p0\\localcache\\local-packages\\python311\\site-packages (from indic-nlp-library) (1.26.4)\n",
      "Requirement already satisfied: python-dateutil>=2.8.2 in c:\\users\\pooja\\appdata\\local\\packages\\pythonsoftwarefoundation.python.3.11_qbz5n2kfra8p0\\localcache\\local-packages\\python311\\site-packages (from pandas->indic-nlp-library) (2.9.0.post0)\n",
      "Requirement already satisfied: pytz>=2020.1 in c:\\users\\pooja\\appdata\\local\\packages\\pythonsoftwarefoundation.python.3.11_qbz5n2kfra8p0\\localcache\\local-packages\\python311\\site-packages (from pandas->indic-nlp-library) (2024.1)\n",
      "Requirement already satisfied: tzdata>=2022.7 in c:\\users\\pooja\\appdata\\local\\packages\\pythonsoftwarefoundation.python.3.11_qbz5n2kfra8p0\\localcache\\local-packages\\python311\\site-packages (from pandas->indic-nlp-library) (2024.1)\n",
      "Collecting sphinx>=5.1.0 (from sphinx-argparse->indic-nlp-library)\n",
      "  Downloading sphinx-8.0.2-py3-none-any.whl.metadata (6.2 kB)\n",
      "Collecting docutils>=0.19 (from sphinx-argparse->indic-nlp-library)\n",
      "  Downloading docutils-0.21.2-py3-none-any.whl.metadata (2.8 kB)\n",
      "Collecting sphinx>=5.1.0 (from sphinx-argparse->indic-nlp-library)\n",
      "  Downloading sphinx-7.4.7-py3-none-any.whl.metadata (6.1 kB)\n",
      "Collecting docutils>=0.19 (from sphinx-argparse->indic-nlp-library)\n",
      "  Downloading docutils-0.20.1-py3-none-any.whl.metadata (2.8 kB)\n",
      "Collecting sphinxcontrib-jquery<5,>=4 (from sphinx-rtd-theme->indic-nlp-library)\n",
      "  Downloading sphinxcontrib_jquery-4.1-py2.py3-none-any.whl.metadata (2.6 kB)\n",
      "Requirement already satisfied: six>=1.5 in c:\\users\\pooja\\appdata\\local\\packages\\pythonsoftwarefoundation.python.3.11_qbz5n2kfra8p0\\localcache\\local-packages\\python311\\site-packages (from python-dateutil>=2.8.2->pandas->indic-nlp-library) (1.16.0)\n",
      "Collecting sphinxcontrib-applehelp (from sphinx>=5.1.0->sphinx-argparse->indic-nlp-library)\n",
      "  Downloading sphinxcontrib_applehelp-2.0.0-py3-none-any.whl.metadata (2.3 kB)\n",
      "Collecting sphinxcontrib-devhelp (from sphinx>=5.1.0->sphinx-argparse->indic-nlp-library)\n",
      "  Downloading sphinxcontrib_devhelp-2.0.0-py3-none-any.whl.metadata (2.3 kB)\n",
      "Collecting sphinxcontrib-jsmath (from sphinx>=5.1.0->sphinx-argparse->indic-nlp-library)\n",
      "  Downloading sphinxcontrib_jsmath-1.0.1-py2.py3-none-any.whl.metadata (1.4 kB)\n",
      "Collecting sphinxcontrib-htmlhelp>=2.0.0 (from sphinx>=5.1.0->sphinx-argparse->indic-nlp-library)\n",
      "  Downloading sphinxcontrib_htmlhelp-2.1.0-py3-none-any.whl.metadata (2.3 kB)\n",
      "Collecting sphinxcontrib-serializinghtml>=1.1.9 (from sphinx>=5.1.0->sphinx-argparse->indic-nlp-library)\n",
      "  Downloading sphinxcontrib_serializinghtml-2.0.0-py3-none-any.whl.metadata (2.4 kB)\n",
      "Collecting sphinxcontrib-qthelp (from sphinx>=5.1.0->sphinx-argparse->indic-nlp-library)\n",
      "  Downloading sphinxcontrib_qthelp-2.0.0-py3-none-any.whl.metadata (2.3 kB)\n",
      "Requirement already satisfied: Jinja2>=3.1 in c:\\users\\pooja\\appdata\\local\\packages\\pythonsoftwarefoundation.python.3.11_qbz5n2kfra8p0\\localcache\\local-packages\\python311\\site-packages (from sphinx>=5.1.0->sphinx-argparse->indic-nlp-library) (3.1.4)\n",
      "Requirement already satisfied: Pygments>=2.17 in c:\\users\\pooja\\appdata\\local\\packages\\pythonsoftwarefoundation.python.3.11_qbz5n2kfra8p0\\localcache\\local-packages\\python311\\site-packages (from sphinx>=5.1.0->sphinx-argparse->indic-nlp-library) (2.18.0)\n",
      "Collecting snowballstemmer>=2.2 (from sphinx>=5.1.0->sphinx-argparse->indic-nlp-library)\n",
      "  Downloading snowballstemmer-2.2.0-py2.py3-none-any.whl.metadata (6.5 kB)\n",
      "Collecting babel>=2.13 (from sphinx>=5.1.0->sphinx-argparse->indic-nlp-library)\n",
      "  Downloading babel-2.16.0-py3-none-any.whl.metadata (1.5 kB)\n",
      "Collecting alabaster~=0.7.14 (from sphinx>=5.1.0->sphinx-argparse->indic-nlp-library)\n",
      "  Downloading alabaster-0.7.16-py3-none-any.whl.metadata (2.9 kB)\n",
      "Collecting imagesize>=1.3 (from sphinx>=5.1.0->sphinx-argparse->indic-nlp-library)\n",
      "  Downloading imagesize-1.4.1-py2.py3-none-any.whl.metadata (1.5 kB)\n",
      "Requirement already satisfied: requests>=2.30.0 in c:\\users\\pooja\\appdata\\local\\packages\\pythonsoftwarefoundation.python.3.11_qbz5n2kfra8p0\\localcache\\local-packages\\python311\\site-packages (from sphinx>=5.1.0->sphinx-argparse->indic-nlp-library) (2.32.3)\n",
      "Requirement already satisfied: packaging>=23.0 in c:\\users\\pooja\\appdata\\local\\packages\\pythonsoftwarefoundation.python.3.11_qbz5n2kfra8p0\\localcache\\local-packages\\python311\\site-packages (from sphinx>=5.1.0->sphinx-argparse->indic-nlp-library) (24.1)\n",
      "Requirement already satisfied: colorama>=0.4.6 in c:\\users\\pooja\\appdata\\local\\packages\\pythonsoftwarefoundation.python.3.11_qbz5n2kfra8p0\\localcache\\local-packages\\python311\\site-packages (from sphinx>=5.1.0->sphinx-argparse->indic-nlp-library) (0.4.6)\n",
      "Requirement already satisfied: MarkupSafe>=2.0 in c:\\users\\pooja\\appdata\\local\\packages\\pythonsoftwarefoundation.python.3.11_qbz5n2kfra8p0\\localcache\\local-packages\\python311\\site-packages (from Jinja2>=3.1->sphinx>=5.1.0->sphinx-argparse->indic-nlp-library) (2.1.5)\n",
      "Requirement already satisfied: charset-normalizer<4,>=2 in c:\\users\\pooja\\appdata\\local\\packages\\pythonsoftwarefoundation.python.3.11_qbz5n2kfra8p0\\localcache\\local-packages\\python311\\site-packages (from requests>=2.30.0->sphinx>=5.1.0->sphinx-argparse->indic-nlp-library) (3.3.2)\n",
      "Requirement already satisfied: idna<4,>=2.5 in c:\\users\\pooja\\appdata\\local\\packages\\pythonsoftwarefoundation.python.3.11_qbz5n2kfra8p0\\localcache\\local-packages\\python311\\site-packages (from requests>=2.30.0->sphinx>=5.1.0->sphinx-argparse->indic-nlp-library) (3.7)\n",
      "Requirement already satisfied: urllib3<3,>=1.21.1 in c:\\users\\pooja\\appdata\\local\\packages\\pythonsoftwarefoundation.python.3.11_qbz5n2kfra8p0\\localcache\\local-packages\\python311\\site-packages (from requests>=2.30.0->sphinx>=5.1.0->sphinx-argparse->indic-nlp-library) (2.2.2)\n",
      "Requirement already satisfied: certifi>=2017.4.17 in c:\\users\\pooja\\appdata\\local\\packages\\pythonsoftwarefoundation.python.3.11_qbz5n2kfra8p0\\localcache\\local-packages\\python311\\site-packages (from requests>=2.30.0->sphinx>=5.1.0->sphinx-argparse->indic-nlp-library) (2024.7.4)\n",
      "Downloading indic_nlp_library-0.92-py3-none-any.whl (40 kB)\n",
      "   ---------------------------------------- 0.0/40.3 kB ? eta -:--:--\n",
      "   ---------- ----------------------------- 10.2/40.3 kB ? eta -:--:--\n",
      "   ------------------------------ --------- 30.7/40.3 kB 435.7 kB/s eta 0:00:01\n",
      "   ---------------------------------------- 40.3/40.3 kB 384.9 kB/s eta 0:00:00\n",
      "Downloading Morfessor-2.0.6-py3-none-any.whl (35 kB)\n",
      "Downloading sphinx_argparse-0.5.2-py3-none-any.whl (12 kB)\n",
      "Downloading sphinx_rtd_theme-2.0.0-py2.py3-none-any.whl (2.8 MB)\n",
      "   ---------------------------------------- 0.0/2.8 MB ? eta -:--:--\n",
      "    --------------------------------------- 0.0/2.8 MB 991.0 kB/s eta 0:00:03\n",
      "   - -------------------------------------- 0.1/2.8 MB 1.3 MB/s eta 0:00:03\n",
      "   --- ------------------------------------ 0.2/2.8 MB 1.7 MB/s eta 0:00:02\n",
      "   ------ --------------------------------- 0.4/2.8 MB 2.5 MB/s eta 0:00:01\n",
      "   --------- ------------------------------ 0.7/2.8 MB 3.0 MB/s eta 0:00:01\n",
      "   --------------- ------------------------ 1.1/2.8 MB 4.1 MB/s eta 0:00:01\n",
      "   ----------------------------- ---------- 2.1/2.8 MB 6.5 MB/s eta 0:00:01\n",
      "   -------------------------------------- - 2.7/2.8 MB 7.5 MB/s eta 0:00:01\n",
      "   ---------------------------------------- 2.8/2.8 MB 7.5 MB/s eta 0:00:00\n",
      "Downloading docutils-0.20.1-py3-none-any.whl (572 kB)\n",
      "   ---------------------------------------- 0.0/572.7 kB ? eta -:--:--\n",
      "   -------------------------------- ------- 471.0/572.7 kB ? eta -:--:--\n",
      "   ---------------------------------------  563.2/572.7 kB 5.9 MB/s eta 0:00:01\n",
      "   ---------------------------------------- 572.7/572.7 kB 5.1 MB/s eta 0:00:00\n",
      "Downloading sphinx-7.4.7-py3-none-any.whl (3.4 MB)\n",
      "   ---------------------------------------- 0.0/3.4 MB ? eta -:--:--\n",
      "   ------------ --------------------------- 1.0/3.4 MB 32.7 MB/s eta 0:00:01\n",
      "   ------------ --------------------------- 1.0/3.4 MB 32.7 MB/s eta 0:00:01\n",
      "   ------------------ --------------------- 1.6/3.4 MB 12.4 MB/s eta 0:00:01\n",
      "   ------------------------------------ --- 3.1/3.4 MB 22.1 MB/s eta 0:00:01\n",
      "   ---------------------------------------- 3.4/3.4 MB 15.5 MB/s eta 0:00:00\n",
      "Downloading sphinxcontrib_jquery-4.1-py2.py3-none-any.whl (121 kB)\n",
      "   ---------------------------------------- 0.0/121.1 kB ? eta -:--:--\n",
      "   ---------------------------------------- 121.1/121.1 kB 6.9 MB/s eta 0:00:00\n",
      "Downloading alabaster-0.7.16-py3-none-any.whl (13 kB)\n",
      "Downloading babel-2.16.0-py3-none-any.whl (9.6 MB)\n",
      "   ---------------------------------------- 0.0/9.6 MB ? eta -:--:--\n",
      "   ------- -------------------------------- 1.7/9.6 MB 53.8 MB/s eta 0:00:01\n",
      "   ------- -------------------------------- 1.7/9.6 MB 53.8 MB/s eta 0:00:01\n",
      "   ------- -------------------------------- 1.7/9.6 MB 53.8 MB/s eta 0:00:01\n",
      "   ------- -------------------------------- 1.7/9.6 MB 53.8 MB/s eta 0:00:01\n",
      "   ------- -------------------------------- 1.7/9.6 MB 53.8 MB/s eta 0:00:01\n",
      "   ----------------------- ---------------- 5.6/9.6 MB 24.0 MB/s eta 0:00:01\n",
      "   -------------------------- ------------- 6.3/9.6 MB 22.3 MB/s eta 0:00:01\n",
      "   ---------------------------- ----------- 6.9/9.6 MB 24.5 MB/s eta 0:00:01\n",
      "   ---------------------------- ----------- 6.9/9.6 MB 24.5 MB/s eta 0:00:01\n",
      "   --------------------------------- ------ 8.1/9.6 MB 20.0 MB/s eta 0:00:01\n",
      "   ---------------------------------------  9.6/9.6 MB 22.7 MB/s eta 0:00:01\n",
      "   ---------------------------------------- 9.6/9.6 MB 20.4 MB/s eta 0:00:00\n",
      "Downloading imagesize-1.4.1-py2.py3-none-any.whl (8.8 kB)\n",
      "Downloading snowballstemmer-2.2.0-py2.py3-none-any.whl (93 kB)\n",
      "   ---------------------------------------- 0.0/93.0 kB ? eta -:--:--\n",
      "   ---------------------------------------- 93.0/93.0 kB ? eta 0:00:00\n",
      "Downloading sphinxcontrib_htmlhelp-2.1.0-py3-none-any.whl (98 kB)\n",
      "   ---------------------------------------- 0.0/98.7 kB ? eta -:--:--\n",
      "   ---------------------------------------- 98.7/98.7 kB 5.5 MB/s eta 0:00:00\n",
      "Downloading sphinxcontrib_serializinghtml-2.0.0-py3-none-any.whl (92 kB)\n",
      "   ---------------------------------------- 0.0/92.1 kB ? eta -:--:--\n",
      "   ---------------------------------------- 92.1/92.1 kB 5.1 MB/s eta 0:00:00\n",
      "Downloading sphinxcontrib_applehelp-2.0.0-py3-none-any.whl (119 kB)\n",
      "   ---------------------------------------- 0.0/119.3 kB ? eta -:--:--\n",
      "   ---------------------------------------- 119.3/119.3 kB 6.8 MB/s eta 0:00:00\n",
      "Downloading sphinxcontrib_devhelp-2.0.0-py3-none-any.whl (82 kB)\n",
      "   ---------------------------------------- 0.0/82.5 kB ? eta -:--:--\n",
      "   ---------------------------------------- 82.5/82.5 kB ? eta 0:00:00\n",
      "Downloading sphinxcontrib_jsmath-1.0.1-py2.py3-none-any.whl (5.1 kB)\n",
      "Downloading sphinxcontrib_qthelp-2.0.0-py3-none-any.whl (88 kB)\n",
      "   ---------------------------------------- 0.0/88.7 kB ? eta -:--:--\n",
      "   ---------------------------------------- 88.7/88.7 kB 4.9 MB/s eta 0:00:00\n",
      "Installing collected packages: snowballstemmer, morfessor, sphinxcontrib-serializinghtml, sphinxcontrib-qthelp, sphinxcontrib-jsmath, sphinxcontrib-htmlhelp, sphinxcontrib-devhelp, sphinxcontrib-applehelp, imagesize, docutils, babel, alabaster, sphinx, sphinxcontrib-jquery, sphinx-argparse, sphinx-rtd-theme, indic-nlp-library\n",
      "Successfully installed alabaster-0.7.16 babel-2.16.0 docutils-0.20.1 imagesize-1.4.1 indic-nlp-library-0.92 morfessor-2.0.6 snowballstemmer-2.2.0 sphinx-7.4.7 sphinx-argparse-0.5.2 sphinx-rtd-theme-2.0.0 sphinxcontrib-applehelp-2.0.0 sphinxcontrib-devhelp-2.0.0 sphinxcontrib-htmlhelp-2.1.0 sphinxcontrib-jquery-4.1 sphinxcontrib-jsmath-1.0.1 sphinxcontrib-qthelp-2.0.0 sphinxcontrib-serializinghtml-2.0.0\n"
     ]
    },
    {
     "name": "stderr",
     "output_type": "stream",
     "text": [
      "\n",
      "[notice] A new release of pip is available: 24.0 -> 24.2\n",
      "[notice] To update, run: C:\\Users\\pooja\\AppData\\Local\\Microsoft\\WindowsApps\\PythonSoftwareFoundation.Python.3.11_qbz5n2kfra8p0\\python.exe -m pip install --upgrade pip\n"
     ]
    },
    {
     "name": "stdout",
     "output_type": "stream",
     "text": [
      "Requirement already satisfied: sacrebleu in c:\\users\\pooja\\appdata\\local\\packages\\pythonsoftwarefoundation.python.3.11_qbz5n2kfra8p0\\localcache\\local-packages\\python311\\site-packages (2.4.2)\n",
      "Requirement already satisfied: portalocker in c:\\users\\pooja\\appdata\\local\\packages\\pythonsoftwarefoundation.python.3.11_qbz5n2kfra8p0\\localcache\\local-packages\\python311\\site-packages (from sacrebleu) (2.10.1)\n",
      "Requirement already satisfied: regex in c:\\users\\pooja\\appdata\\local\\packages\\pythonsoftwarefoundation.python.3.11_qbz5n2kfra8p0\\localcache\\local-packages\\python311\\site-packages (from sacrebleu) (2024.5.15)\n",
      "Requirement already satisfied: tabulate>=0.8.9 in c:\\users\\pooja\\appdata\\local\\packages\\pythonsoftwarefoundation.python.3.11_qbz5n2kfra8p0\\localcache\\local-packages\\python311\\site-packages (from sacrebleu) (0.9.0)\n",
      "Requirement already satisfied: numpy>=1.17 in c:\\users\\pooja\\appdata\\local\\packages\\pythonsoftwarefoundation.python.3.11_qbz5n2kfra8p0\\localcache\\local-packages\\python311\\site-packages (from sacrebleu) (1.26.4)\n",
      "Requirement already satisfied: colorama in c:\\users\\pooja\\appdata\\local\\packages\\pythonsoftwarefoundation.python.3.11_qbz5n2kfra8p0\\localcache\\local-packages\\python311\\site-packages (from sacrebleu) (0.4.6)\n",
      "Requirement already satisfied: lxml in c:\\users\\pooja\\appdata\\local\\packages\\pythonsoftwarefoundation.python.3.11_qbz5n2kfra8p0\\localcache\\local-packages\\python311\\site-packages (from sacrebleu) (5.2.2)\n",
      "Requirement already satisfied: pywin32>=226 in c:\\users\\pooja\\appdata\\local\\packages\\pythonsoftwarefoundation.python.3.11_qbz5n2kfra8p0\\localcache\\local-packages\\python311\\site-packages (from portalocker->sacrebleu) (306)\n"
     ]
    },
    {
     "name": "stderr",
     "output_type": "stream",
     "text": [
      "\n",
      "[notice] A new release of pip is available: 24.0 -> 24.2\n",
      "[notice] To update, run: C:\\Users\\pooja\\AppData\\Local\\Microsoft\\WindowsApps\\PythonSoftwareFoundation.Python.3.11_qbz5n2kfra8p0\\python.exe -m pip install --upgrade pip\n"
     ]
    },
    {
     "name": "stdout",
     "output_type": "stream",
     "text": [
      "Collecting nltk\n",
      "  Downloading nltk-3.9.1-py3-none-any.whl.metadata (2.9 kB)\n",
      "Collecting click (from nltk)\n",
      "  Using cached click-8.1.7-py3-none-any.whl.metadata (3.0 kB)\n",
      "Collecting joblib (from nltk)\n",
      "  Using cached joblib-1.4.2-py3-none-any.whl.metadata (5.4 kB)\n",
      "Requirement already satisfied: regex>=2021.8.3 in c:\\users\\pooja\\appdata\\local\\packages\\pythonsoftwarefoundation.python.3.11_qbz5n2kfra8p0\\localcache\\local-packages\\python311\\site-packages (from nltk) (2024.5.15)\n",
      "Requirement already satisfied: tqdm in c:\\users\\pooja\\appdata\\local\\packages\\pythonsoftwarefoundation.python.3.11_qbz5n2kfra8p0\\localcache\\local-packages\\python311\\site-packages (from nltk) (4.66.4)\n",
      "Requirement already satisfied: colorama in c:\\users\\pooja\\appdata\\local\\packages\\pythonsoftwarefoundation.python.3.11_qbz5n2kfra8p0\\localcache\\local-packages\\python311\\site-packages (from click->nltk) (0.4.6)\n",
      "Downloading nltk-3.9.1-py3-none-any.whl (1.5 MB)\n",
      "   ---------------------------------------- 0.0/1.5 MB ? eta -:--:--\n",
      "   ---------------------------------------- 0.0/1.5 MB ? eta -:--:--\n",
      "    --------------------------------------- 0.0/1.5 MB 435.7 kB/s eta 0:00:04\n",
      "   - -------------------------------------- 0.1/1.5 MB 558.5 kB/s eta 0:00:03\n",
      "   ----- ---------------------------------- 0.2/1.5 MB 1.4 MB/s eta 0:00:01\n",
      "   ------------- -------------------------- 0.5/1.5 MB 2.4 MB/s eta 0:00:01\n",
      "   ---------------------- ----------------- 0.9/1.5 MB 3.6 MB/s eta 0:00:01\n",
      "   ---------------------------------------  1.5/1.5 MB 4.8 MB/s eta 0:00:01\n",
      "   ---------------------------------------- 1.5/1.5 MB 4.5 MB/s eta 0:00:00\n",
      "Using cached click-8.1.7-py3-none-any.whl (97 kB)\n",
      "Using cached joblib-1.4.2-py3-none-any.whl (301 kB)\n",
      "Installing collected packages: joblib, click, nltk\n",
      "Successfully installed click-8.1.7 joblib-1.4.2 nltk-3.9.1\n"
     ]
    },
    {
     "name": "stderr",
     "output_type": "stream",
     "text": [
      "\n",
      "[notice] A new release of pip is available: 24.0 -> 24.2\n",
      "[notice] To update, run: C:\\Users\\pooja\\AppData\\Local\\Microsoft\\WindowsApps\\PythonSoftwareFoundation.Python.3.11_qbz5n2kfra8p0\\python.exe -m pip install --upgrade pip\n"
     ]
    }
   ],
   "source": [
    "!pip install indic-nlp-library\n",
    "!pip install sacrebleu\n",
    "!pip install nltk"
   ]
  },
  {
   "cell_type": "code",
   "execution_count": 3,
   "id": "5b07e861",
   "metadata": {},
   "outputs": [
    {
     "name": "stdout",
     "output_type": "stream",
     "text": [
      "Collecting sklearn"
     ]
    },
    {
     "name": "stderr",
     "output_type": "stream",
     "text": [
      "  error: subprocess-exited-with-error\n",
      "  \n",
      "  × Getting requirements to build wheel did not run successfully.\n",
      "  │ exit code: 1\n",
      "  ╰─> [15 lines of output]\n",
      "      The 'sklearn' PyPI package is deprecated, use 'scikit-learn'\n",
      "      rather than 'sklearn' for pip commands.\n",
      "      \n",
      "      Here is how to fix this error in the main use cases:\n",
      "      - use 'pip install scikit-learn' rather than 'pip install sklearn'\n",
      "      - replace 'sklearn' by 'scikit-learn' in your pip requirements files\n",
      "        (requirements.txt, setup.py, setup.cfg, Pipfile, etc ...)\n",
      "      - if the 'sklearn' package is used by one of your dependencies,\n",
      "        it would be great if you take some time to track which package uses\n",
      "        'sklearn' instead of 'scikit-learn' and report it to their issue tracker\n",
      "      - as a last resort, set the environment variable\n",
      "        SKLEARN_ALLOW_DEPRECATED_SKLEARN_PACKAGE_INSTALL=True to avoid this error\n",
      "      \n",
      "      More information is available at\n",
      "      https://github.com/scikit-learn/sklearn-pypi-package\n",
      "      [end of output]\n",
      "  \n",
      "  note: This error originates from a subprocess, and is likely not a problem with pip.\n",
      "error: subprocess-exited-with-error\n",
      "\n",
      "× Getting requirements to build wheel did not run successfully.\n",
      "│ exit code: 1\n",
      "╰─> See above for output.\n",
      "\n",
      "note: This error originates from a subprocess, and is likely not a problem with pip.\n",
      "\n",
      "[notice] A new release of pip is available: 24.0 -> 24.2\n",
      "[notice] To update, run: C:\\Users\\pooja\\AppData\\Local\\Microsoft\\WindowsApps\\PythonSoftwareFoundation.Python.3.11_qbz5n2kfra8p0\\python.exe -m pip install --upgrade pip\n"
     ]
    },
    {
     "name": "stdout",
     "output_type": "stream",
     "text": [
      "\n",
      "  Using cached sklearn-0.0.post12.tar.gz (2.6 kB)\n",
      "  Installing build dependencies: started\n",
      "  Installing build dependencies: finished with status 'done'\n",
      "  Getting requirements to build wheel: started\n",
      "  Getting requirements to build wheel: finished with status 'error'\n"
     ]
    }
   ],
   "source": [
    "!pip install sklearn"
   ]
  },
  {
   "cell_type": "code",
   "execution_count": 2,
   "id": "a1ac8b93",
   "metadata": {
    "execution": {
     "iopub.execute_input": "2024-08-20T14:37:34.242938Z",
     "iopub.status.busy": "2024-08-20T14:37:34.242654Z",
     "iopub.status.idle": "2024-08-20T14:37:40.326607Z",
     "shell.execute_reply": "2024-08-20T14:37:40.325626Z"
    },
    "papermill": {
     "duration": 6.094894,
     "end_time": "2024-08-20T14:37:40.328939",
     "exception": false,
     "start_time": "2024-08-20T14:37:34.234045",
     "status": "completed"
    },
    "tags": []
   },
   "outputs": [
    {
     "ename": "ModuleNotFoundError",
     "evalue": "No module named 'sklearn'",
     "output_type": "error",
     "traceback": [
      "\u001b[1;31m---------------------------------------------------------------------------\u001b[0m",
      "\u001b[1;31mModuleNotFoundError\u001b[0m                       Traceback (most recent call last)",
      "Cell \u001b[1;32mIn[2], line 9\u001b[0m\n\u001b[0;32m      6\u001b[0m \u001b[38;5;66;03m# import sentencepiece as spm\u001b[39;00m\n\u001b[0;32m      7\u001b[0m \u001b[38;5;28;01mimport\u001b[39;00m \u001b[38;5;21;01mnumpy\u001b[39;00m \u001b[38;5;28;01mas\u001b[39;00m \u001b[38;5;21;01mnp\u001b[39;00m\n\u001b[1;32m----> 9\u001b[0m \u001b[38;5;28;01mfrom\u001b[39;00m \u001b[38;5;21;01msklearn\u001b[39;00m\u001b[38;5;21;01m.\u001b[39;00m\u001b[38;5;21;01mmodel_selection\u001b[39;00m \u001b[38;5;28;01mimport\u001b[39;00m train_test_split\n\u001b[0;32m     10\u001b[0m \u001b[38;5;28;01mfrom\u001b[39;00m \u001b[38;5;21;01mindicnlp\u001b[39;00m\u001b[38;5;21;01m.\u001b[39;00m\u001b[38;5;21;01mtokenize\u001b[39;00m \u001b[38;5;28;01mimport\u001b[39;00m indic_tokenize  \n\u001b[0;32m     11\u001b[0m \u001b[38;5;28;01mimport\u001b[39;00m \u001b[38;5;21;01mrandom\u001b[39;00m\n",
      "\u001b[1;31mModuleNotFoundError\u001b[0m: No module named 'sklearn'"
     ]
    }
   ],
   "source": [
    "import pandas as pd\n",
    "import torch\n",
    "import torch.nn as nn\n",
    "import torch.optim as optim\n",
    "from torch.utils.data import Dataset, DataLoader\n",
    "# import sentencepiece as spm\n",
    "import numpy as np\n",
    "\n",
    "from sklearn.model_selection import train_test_split\n",
    "from indicnlp.tokenize import indic_tokenize  \n",
    "import random\n",
    "import torch.nn.functional as F\n",
    "from tqdm import tqdm\n",
    "import tqdm as notebook_tqdm\n",
    "import json\n",
    "import nltk\n",
    "from nltk.translate.bleu_score import sentence_bleu, SmoothingFunction\n",
    "import sacrebleu"
   ]
  },
  {
   "cell_type": "code",
   "execution_count": null,
   "id": "358c7923",
   "metadata": {
    "execution": {
     "iopub.execute_input": "2024-08-20T14:37:40.345551Z",
     "iopub.status.busy": "2024-08-20T14:37:40.345133Z",
     "iopub.status.idle": "2024-08-20T14:37:40.501188Z",
     "shell.execute_reply": "2024-08-20T14:37:40.500340Z"
    },
    "papermill": {
     "duration": 0.16701,
     "end_time": "2024-08-20T14:37:40.503801",
     "exception": false,
     "start_time": "2024-08-20T14:37:40.336791",
     "status": "completed"
    },
    "tags": []
   },
   "outputs": [
    {
     "name": "stdout",
     "output_type": "stream",
     "text": [
      "14076\n",
      "14076\n",
      "11044 582\n"
     ]
    },
    {
     "data": {
      "text/html": [
       "<div>\n",
       "<style scoped>\n",
       "    .dataframe tbody tr th:only-of-type {\n",
       "        vertical-align: middle;\n",
       "    }\n",
       "\n",
       "    .dataframe tbody tr th {\n",
       "        vertical-align: top;\n",
       "    }\n",
       "\n",
       "    .dataframe thead th {\n",
       "        text-align: right;\n",
       "    }\n",
       "</style>\n",
       "<table border=\"1\" class=\"dataframe\">\n",
       "  <thead>\n",
       "    <tr style=\"text-align: right;\">\n",
       "      <th></th>\n",
       "      <th>Hindi</th>\n",
       "      <th>Bhili</th>\n",
       "    </tr>\n",
       "  </thead>\n",
       "  <tbody>\n",
       "    <tr>\n",
       "      <th>6618</th>\n",
       "      <td>मुझे आलू उबालकर खाना पसंद है ।</td>\n",
       "      <td>मन बटांका उका‍नीन खावानू असेल लाग छे ।</td>\n",
       "    </tr>\n",
       "    <tr>\n",
       "      <th>11729</th>\n",
       "      <td>और आज देश में व्‍यापक रूप से चर्चा चल रही है, ...</td>\n",
       "      <td>एक देह’ मा एक हाते सुनाव” ये वात पण थावी जोवे।</td>\n",
       "    </tr>\n",
       "    <tr>\n",
       "      <th>3420</th>\n",
       "      <td>मुझे अजीब लग रहा है।</td>\n",
       "      <td>मेसे वारू निही लागे ।</td>\n",
       "    </tr>\n",
       "    <tr>\n",
       "      <th>6445</th>\n",
       "      <td>तुम जाकर पौधों को छुओ।</td>\n",
       "      <td>तमे जाय ने तरू ने धरो ।</td>\n",
       "    </tr>\n",
       "    <tr>\n",
       "      <th>5750</th>\n",
       "      <td>तुम्‍हारी बहन को क्‍या पसंद है।</td>\n",
       "      <td>तारो बोहन काय काय पसंद दे</td>\n",
       "    </tr>\n",
       "    <tr>\n",
       "      <th>33</th>\n",
       "      <td>मैं अभी आई।</td>\n",
       "      <td>हूँ हमणेस आवी।</td>\n",
       "    </tr>\n",
       "    <tr>\n",
       "      <th>8647</th>\n",
       "      <td>वह दूध पीता है।</td>\n",
       "      <td>पेलो दुध पितेलो</td>\n",
       "    </tr>\n",
       "    <tr>\n",
       "      <th>3429</th>\n",
       "      <td>क्‍या सब ठीक है।</td>\n",
       "      <td>कायरे सुब वारलूत की ।</td>\n",
       "    </tr>\n",
       "    <tr>\n",
       "      <th>665</th>\n",
       "      <td>फलदार पेड़ों के नाम की सूची बनाइए।</td>\n",
       "      <td>फलदार झाडवा ना नाम नी सूची बणावो</td>\n",
       "    </tr>\n",
       "    <tr>\n",
       "      <th>13681</th>\n",
       "      <td>मैं आपके बीच प्रधान मंत्री के रूप में नहीं, प्...</td>\n",
       "      <td>हुं तमारे वस मा प्रधान मंत्री ना वेह मा कोईन, ...</td>\n",
       "    </tr>\n",
       "    <tr>\n",
       "      <th>12201</th>\n",
       "      <td>लेकिन सबसे ज्यादा एक बात मुझे कहनी है ये स्वच्...</td>\n",
       "      <td>पण हंगला थी वदु एक वात मने केहवी से यो साफ सफा...</td>\n",
       "    </tr>\n",
       "    <tr>\n",
       "      <th>10818</th>\n",
       "      <td>जब सरकार, किसी काम में विलंब हो जाता है, तो सि...</td>\n",
       "      <td>जैर सरकार ने करना काम मा बार थाई जाई से; तैर ख...</td>\n",
       "    </tr>\n",
       "    <tr>\n",
       "      <th>1159</th>\n",
       "      <td>बहुत खुशबूदार फूल है इस बगिया में।</td>\n",
       "      <td>असेल खुशबुदार फुलू स इना बगीचा मा</td>\n",
       "    </tr>\n",
       "    <tr>\n",
       "      <th>11009</th>\n",
       "      <td>आखिकार 1947 में देश आजाद हुआ, हजार साल की गुला...</td>\n",
       "      <td>आखिर कार 1947 मां देश आजाद थायो, हजार वरेह नीं...</td>\n",
       "    </tr>\n",
       "    <tr>\n",
       "      <th>12616</th>\n",
       "      <td>हर एक वैज्ञानिक जो हमारे देश के लिए इनोवेशन क...</td>\n",
       "      <td>हंगला जाणकार आपडा देह नो क्रम विकास करे से।</td>\n",
       "    </tr>\n",
       "    <tr>\n",
       "      <th>1734</th>\n",
       "      <td>रानी ने डटकर उसका सामना किया।</td>\n",
       "      <td>रानी भी हिनाने सामे जाय</td>\n",
       "    </tr>\n",
       "    <tr>\n",
       "      <th>12045</th>\n",
       "      <td>हमारे वैज्ञानिकों की सिद्धि है।\\n</td>\n",
       "      <td>आपड़ा मोटा घणा मोटा (वैज्ञानिक) नी यी कळियों से।\\n</td>\n",
       "    </tr>\n",
       "    <tr>\n",
       "      <th>5326</th>\n",
       "      <td>पानी ठंडा है। ठंडे पानी से नहीं नहा पाऊगां।</td>\n",
       "      <td>पाणी टाडू छे टाडे पाणी ही नी उगलवानू ।</td>\n",
       "    </tr>\n",
       "    <tr>\n",
       "      <th>10327</th>\n",
       "      <td>लोगों को, जन-औषधि केन्द्रों में, सस्ती दरों पर...</td>\n",
       "      <td>लोकुने दवाखाने कमरूपया थी दवादारू मकी री से।</td>\n",
       "    </tr>\n",
       "    <tr>\n",
       "      <th>4936</th>\n",
       "      <td>नाल काटने के बाद बच्‍चे को गुनगुने पानी से नहल...</td>\n",
       "      <td>डुटी काटणें बाद पुरीया काजे फोलकें पाणीयें उगं...</td>\n",
       "    </tr>\n",
       "  </tbody>\n",
       "</table>\n",
       "</div>"
      ],
      "text/plain": [
       "                                                   Hindi  \\\n",
       "6618                      मुझे आलू उबालकर खाना पसंद है ।   \n",
       "11729  और आज देश में व्‍यापक रूप से चर्चा चल रही है, ...   \n",
       "3420                                मुझे अजीब लग रहा है।   \n",
       "6445                              तुम जाकर पौधों को छुओ।   \n",
       "5750                     तुम्‍हारी बहन को क्‍या पसंद है।   \n",
       "33                                           मैं अभी आई।   \n",
       "8647                                     वह दूध पीता है।   \n",
       "3429                                    क्‍या सब ठीक है।   \n",
       "665                    फलदार पेड़ों के नाम की सूची बनाइए।   \n",
       "13681  मैं आपके बीच प्रधान मंत्री के रूप में नहीं, प्...   \n",
       "12201  लेकिन सबसे ज्यादा एक बात मुझे कहनी है ये स्वच्...   \n",
       "10818  जब सरकार, किसी काम में विलंब हो जाता है, तो सि...   \n",
       "1159                  बहुत खुशबूदार फूल है इस बगिया में।   \n",
       "11009  आखिकार 1947 में देश आजाद हुआ, हजार साल की गुला...   \n",
       "12616   हर एक वैज्ञानिक जो हमारे देश के लिए इनोवेशन क...   \n",
       "1734                       रानी ने डटकर उसका सामना किया।   \n",
       "12045                  हमारे वैज्ञानिकों की सिद्धि है।\\n   \n",
       "5326         पानी ठंडा है। ठंडे पानी से नहीं नहा पाऊगां।   \n",
       "10327  लोगों को, जन-औषधि केन्द्रों में, सस्ती दरों पर...   \n",
       "4936   नाल काटने के बाद बच्‍चे को गुनगुने पानी से नहल...   \n",
       "\n",
       "                                                   Bhili  \n",
       "6618             मन बटांका उका‍नीन खावानू असेल लाग छे ।   \n",
       "11729     एक देह’ मा एक हाते सुनाव” ये वात पण थावी जोवे।  \n",
       "3420                               मेसे वारू निही लागे ।  \n",
       "6445                            तमे जाय ने तरू ने धरो ।   \n",
       "5750                           तारो बोहन काय काय पसंद दे  \n",
       "33                                        हूँ हमणेस आवी।  \n",
       "8647                                     पेलो दुध पितेलो  \n",
       "3429                               कायरे सुब वारलूत की ।  \n",
       "665                     फलदार झाडवा ना नाम नी सूची बणावो  \n",
       "13681  हुं तमारे वस मा प्रधान मंत्री ना वेह मा कोईन, ...  \n",
       "12201  पण हंगला थी वदु एक वात मने केहवी से यो साफ सफा...  \n",
       "10818  जैर सरकार ने करना काम मा बार थाई जाई से; तैर ख...  \n",
       "1159                   असेल खुशबुदार फुलू स इना बगीचा मा  \n",
       "11009  आखिर कार 1947 मां देश आजाद थायो, हजार वरेह नीं...  \n",
       "12616       हंगला जाणकार आपडा देह नो क्रम विकास करे से।   \n",
       "1734                             रानी भी हिनाने सामे जाय  \n",
       "12045  आपड़ा मोटा घणा मोटा (वैज्ञानिक) नी यी कळियों से।\\n  \n",
       "5326              पाणी टाडू छे टाडे पाणी ही नी उगलवानू ।  \n",
       "10327       लोकुने दवाखाने कमरूपया थी दवादारू मकी री से।  \n",
       "4936   डुटी काटणें बाद पुरीया काजे फोलकें पाणीयें उगं...  "
      ]
     },
     "execution_count": 3,
     "metadata": {},
     "output_type": "execute_result"
    }
   ],
   "source": [
    "\n",
    "\n",
    "df= pd.read_csv('/kaggle/input/comb-modi/Combined_data.csv')\n",
    "# df = df.drop('Unnamed: 2', axis=1)\n",
    "print(len(df))\n",
    "df.dropna()\n",
    "print(len(df))\n",
    "\n",
    "# Identify duplicates in each column\n",
    "duplicates_col1 = df.duplicated('Hindi', keep=False)\n",
    "duplicates_col2 = df.duplicated('Bhili', keep=False)\n",
    "\n",
    "# Combine the conditions to identify rows where either column has duplicates\n",
    "duplicates_any_col = duplicates_col1 | duplicates_col2\n",
    "df_cleaned = df[~duplicates_any_col]\n",
    "\n",
    "len(df_cleaned)\n",
    "df= df_cleaned\n",
    "len(df)\n",
    "df_train, df_val = train_test_split(df, test_size=0.05, random_state=42, shuffle= True)\n",
    "print(len(df_train), len(df_val))\n",
    "df_train.head(n=20)\n",
    "df_train.tail(n=20)\n",
    "df_val.tail(n=20)"
   ]
  },
  {
   "cell_type": "code",
   "execution_count": null,
   "id": "93f69fdf",
   "metadata": {
    "execution": {
     "iopub.execute_input": "2024-08-20T14:37:40.521690Z",
     "iopub.status.busy": "2024-08-20T14:37:40.521391Z",
     "iopub.status.idle": "2024-08-20T22:28:42.900873Z",
     "shell.execute_reply": "2024-08-20T22:28:42.899996Z"
    },
    "papermill": {
     "duration": 28262.391745,
     "end_time": "2024-08-20T22:28:42.903744",
     "exception": false,
     "start_time": "2024-08-20T14:37:40.511999",
     "status": "completed"
    },
    "tags": []
   },
   "outputs": [
    {
     "name": "stdout",
     "output_type": "stream",
     "text": [
      "11044 582\n",
      "\n",
      "\n",
      "<class 'pandas.core.frame.DataFrame'>\n",
      "Index: 11044 entries, 871 to 8658\n",
      "Data columns (total 2 columns):\n",
      " #   Column  Non-Null Count  Dtype \n",
      "---  ------  --------------  ----- \n",
      " 0   Hindi   11044 non-null  object\n",
      " 1   Bhili   11044 non-null  object\n",
      "dtypes: object(2)\n",
      "memory usage: 258.8+ KB\n",
      "<class 'pandas.core.frame.DataFrame'>\n",
      "Index: 582 entries, 13501 to 4936\n",
      "Data columns (total 2 columns):\n",
      " #   Column  Non-Null Count  Dtype \n",
      "---  ------  --------------  ----- \n",
      " 0   Hindi   582 non-null    object\n",
      " 1   Bhili   582 non-null    object\n",
      "dtypes: object(2)\n",
      "memory usage: 13.6+ KB\n",
      "None None\n",
      "11044\n",
      "582\n",
      "tensor([[   9,  474,  135,  ...,    2,    2,    2],\n",
      "        [5055,   31,  362,  ...,    2,    2,    2],\n",
      "        [ 268,   88,  398,  ...,    2,    2,    2],\n",
      "        ...,\n",
      "        [8117, 8120, 8121,  ...,    2,    2,    2],\n",
      "        [6318,  114, 3752,  ...,    2,    2,    2],\n",
      "        [  47, 2668,  477,  ...,    2,    2,    2]])\n",
      "12730 23730\n",
      "enc dim : 16 | dec dim : 32\n"
     ]
    },
    {
     "name": "stderr",
     "output_type": "stream",
     "text": [
      "/opt/conda/lib/python3.10/site-packages/torch/nn/modules/rnn.py:82: UserWarning: dropout option adds dropout after all but last recurrent layer, so non-zero dropout expects num_layers greater than 1, but got dropout=0.5 and num_layers=1\n",
      "  warnings.warn(\"dropout option adds dropout after all but last \"\n",
      "100%|██████████| 346/346 [01:18<00:00,  4.43it/s]\n"
     ]
    },
    {
     "name": "stdout",
     "output_type": "stream",
     "text": [
      "Epoch: 1 | Train Loss: 9.091 | Val Loss : 7.650\n"
     ]
    },
    {
     "name": "stderr",
     "output_type": "stream",
     "text": [
      "100%|██████████| 346/346 [01:17<00:00,  4.46it/s]\n"
     ]
    },
    {
     "name": "stdout",
     "output_type": "stream",
     "text": [
      "Epoch: 2 | Train Loss: 7.343 | Val Loss : 7.356\n"
     ]
    },
    {
     "name": "stderr",
     "output_type": "stream",
     "text": [
      "100%|██████████| 346/346 [01:17<00:00,  4.47it/s]\n"
     ]
    },
    {
     "name": "stdout",
     "output_type": "stream",
     "text": [
      "Epoch: 3 | Train Loss: 7.105 | Val Loss : 7.292\n"
     ]
    },
    {
     "name": "stderr",
     "output_type": "stream",
     "text": [
      "100%|██████████| 346/346 [01:17<00:00,  4.46it/s]\n"
     ]
    },
    {
     "name": "stdout",
     "output_type": "stream",
     "text": [
      "Epoch: 4 | Train Loss: 6.952 | Val Loss : 7.272\n"
     ]
    },
    {
     "name": "stderr",
     "output_type": "stream",
     "text": [
      "100%|██████████| 346/346 [01:17<00:00,  4.46it/s]\n"
     ]
    },
    {
     "name": "stdout",
     "output_type": "stream",
     "text": [
      "Epoch: 5 | Train Loss: 6.836 | Val Loss : 7.283\n"
     ]
    },
    {
     "name": "stderr",
     "output_type": "stream",
     "text": [
      "100%|██████████| 346/346 [01:17<00:00,  4.46it/s]\n"
     ]
    },
    {
     "name": "stdout",
     "output_type": "stream",
     "text": [
      "Epoch: 6 | Train Loss: 6.747 | Val Loss : 7.259\n"
     ]
    },
    {
     "name": "stderr",
     "output_type": "stream",
     "text": [
      "100%|██████████| 346/346 [01:17<00:00,  4.44it/s]\n"
     ]
    },
    {
     "name": "stdout",
     "output_type": "stream",
     "text": [
      "Epoch: 7 | Train Loss: 6.642 | Val Loss : 7.267\n"
     ]
    },
    {
     "name": "stderr",
     "output_type": "stream",
     "text": [
      "100%|██████████| 346/346 [01:17<00:00,  4.44it/s]\n"
     ]
    },
    {
     "name": "stdout",
     "output_type": "stream",
     "text": [
      "Epoch: 8 | Train Loss: 6.565 | Val Loss : 7.266\n"
     ]
    },
    {
     "name": "stderr",
     "output_type": "stream",
     "text": [
      "100%|██████████| 346/346 [01:18<00:00,  4.43it/s]\n"
     ]
    },
    {
     "name": "stdout",
     "output_type": "stream",
     "text": [
      "Epoch: 9 | Train Loss: 6.484 | Val Loss : 7.323\n"
     ]
    },
    {
     "name": "stderr",
     "output_type": "stream",
     "text": [
      "100%|██████████| 346/346 [01:17<00:00,  4.45it/s]\n"
     ]
    },
    {
     "name": "stdout",
     "output_type": "stream",
     "text": [
      "Epoch: 10 | Train Loss: 6.401 | Val Loss : 7.342\n"
     ]
    },
    {
     "name": "stderr",
     "output_type": "stream",
     "text": [
      "100%|██████████| 346/346 [01:17<00:00,  4.46it/s]\n"
     ]
    },
    {
     "name": "stdout",
     "output_type": "stream",
     "text": [
      "Epoch: 11 | Train Loss: 6.333 | Val Loss : 7.405\n"
     ]
    },
    {
     "name": "stderr",
     "output_type": "stream",
     "text": [
      "100%|██████████| 346/346 [01:17<00:00,  4.46it/s]\n"
     ]
    },
    {
     "name": "stdout",
     "output_type": "stream",
     "text": [
      "Epoch: 12 | Train Loss: 6.276 | Val Loss : 7.403\n"
     ]
    },
    {
     "name": "stderr",
     "output_type": "stream",
     "text": [
      "100%|██████████| 346/346 [01:17<00:00,  4.44it/s]\n"
     ]
    },
    {
     "name": "stdout",
     "output_type": "stream",
     "text": [
      "Epoch: 13 | Train Loss: 6.204 | Val Loss : 7.441\n"
     ]
    },
    {
     "name": "stderr",
     "output_type": "stream",
     "text": [
      "100%|██████████| 346/346 [01:17<00:00,  4.44it/s]\n"
     ]
    },
    {
     "name": "stdout",
     "output_type": "stream",
     "text": [
      "Epoch: 14 | Train Loss: 6.154 | Val Loss : 7.477\n"
     ]
    },
    {
     "name": "stderr",
     "output_type": "stream",
     "text": [
      "100%|██████████| 346/346 [01:17<00:00,  4.46it/s]\n"
     ]
    },
    {
     "name": "stdout",
     "output_type": "stream",
     "text": [
      "Epoch: 15 | Train Loss: 6.084 | Val Loss : 7.519\n"
     ]
    },
    {
     "name": "stderr",
     "output_type": "stream",
     "text": [
      "100%|██████████| 346/346 [01:17<00:00,  4.45it/s]\n"
     ]
    },
    {
     "name": "stdout",
     "output_type": "stream",
     "text": [
      "Epoch: 16 | Train Loss: 6.030 | Val Loss : 7.462\n"
     ]
    },
    {
     "name": "stderr",
     "output_type": "stream",
     "text": [
      "100%|██████████| 346/346 [01:17<00:00,  4.46it/s]\n"
     ]
    },
    {
     "name": "stdout",
     "output_type": "stream",
     "text": [
      "Epoch: 17 | Train Loss: 5.975 | Val Loss : 7.584\n"
     ]
    },
    {
     "name": "stderr",
     "output_type": "stream",
     "text": [
      "100%|██████████| 346/346 [01:17<00:00,  4.45it/s]\n"
     ]
    },
    {
     "name": "stdout",
     "output_type": "stream",
     "text": [
      "Epoch: 18 | Train Loss: 5.923 | Val Loss : 7.530\n"
     ]
    },
    {
     "name": "stderr",
     "output_type": "stream",
     "text": [
      "100%|██████████| 346/346 [01:17<00:00,  4.45it/s]\n"
     ]
    },
    {
     "name": "stdout",
     "output_type": "stream",
     "text": [
      "Epoch: 19 | Train Loss: 5.873 | Val Loss : 7.554\n"
     ]
    },
    {
     "name": "stderr",
     "output_type": "stream",
     "text": [
      "100%|██████████| 346/346 [01:17<00:00,  4.45it/s]\n"
     ]
    },
    {
     "name": "stdout",
     "output_type": "stream",
     "text": [
      "Epoch: 20 | Train Loss: 5.825 | Val Loss : 7.609\n"
     ]
    },
    {
     "name": "stderr",
     "output_type": "stream",
     "text": [
      "100%|██████████| 346/346 [01:17<00:00,  4.45it/s]\n"
     ]
    },
    {
     "name": "stdout",
     "output_type": "stream",
     "text": [
      "Epoch: 21 | Train Loss: 5.781 | Val Loss : 7.559\n"
     ]
    },
    {
     "name": "stderr",
     "output_type": "stream",
     "text": [
      "100%|██████████| 346/346 [01:17<00:00,  4.45it/s]\n"
     ]
    },
    {
     "name": "stdout",
     "output_type": "stream",
     "text": [
      "Epoch: 22 | Train Loss: 5.746 | Val Loss : 7.540\n"
     ]
    },
    {
     "name": "stderr",
     "output_type": "stream",
     "text": [
      "100%|██████████| 346/346 [01:17<00:00,  4.45it/s]\n"
     ]
    },
    {
     "name": "stdout",
     "output_type": "stream",
     "text": [
      "Epoch: 23 | Train Loss: 5.719 | Val Loss : 7.557\n"
     ]
    },
    {
     "name": "stderr",
     "output_type": "stream",
     "text": [
      "100%|██████████| 346/346 [01:17<00:00,  4.46it/s]\n"
     ]
    },
    {
     "name": "stdout",
     "output_type": "stream",
     "text": [
      "Epoch: 24 | Train Loss: 5.674 | Val Loss : 7.576\n"
     ]
    },
    {
     "name": "stderr",
     "output_type": "stream",
     "text": [
      "100%|██████████| 346/346 [01:17<00:00,  4.45it/s]\n"
     ]
    },
    {
     "name": "stdout",
     "output_type": "stream",
     "text": [
      "Epoch: 25 | Train Loss: 5.633 | Val Loss : 7.554\n"
     ]
    },
    {
     "name": "stderr",
     "output_type": "stream",
     "text": [
      "100%|██████████| 346/346 [01:17<00:00,  4.46it/s]\n"
     ]
    },
    {
     "name": "stdout",
     "output_type": "stream",
     "text": [
      "Epoch: 26 | Train Loss: 5.600 | Val Loss : 7.583\n"
     ]
    },
    {
     "name": "stderr",
     "output_type": "stream",
     "text": [
      "100%|██████████| 346/346 [01:18<00:00,  4.43it/s]\n"
     ]
    },
    {
     "name": "stdout",
     "output_type": "stream",
     "text": [
      "Epoch: 27 | Train Loss: 5.570 | Val Loss : 7.633\n"
     ]
    },
    {
     "name": "stderr",
     "output_type": "stream",
     "text": [
      "100%|██████████| 346/346 [01:17<00:00,  4.46it/s]\n"
     ]
    },
    {
     "name": "stdout",
     "output_type": "stream",
     "text": [
      "Epoch: 28 | Train Loss: 5.542 | Val Loss : 7.635\n"
     ]
    },
    {
     "name": "stderr",
     "output_type": "stream",
     "text": [
      "100%|██████████| 346/346 [01:17<00:00,  4.45it/s]\n"
     ]
    },
    {
     "name": "stdout",
     "output_type": "stream",
     "text": [
      "Epoch: 29 | Train Loss: 5.518 | Val Loss : 7.561\n"
     ]
    },
    {
     "name": "stderr",
     "output_type": "stream",
     "text": [
      "100%|██████████| 346/346 [01:17<00:00,  4.46it/s]\n"
     ]
    },
    {
     "name": "stdout",
     "output_type": "stream",
     "text": [
      "Epoch: 30 | Train Loss: 5.474 | Val Loss : 7.595\n"
     ]
    },
    {
     "name": "stderr",
     "output_type": "stream",
     "text": [
      "100%|██████████| 346/346 [01:18<00:00,  4.43it/s]\n"
     ]
    },
    {
     "name": "stdout",
     "output_type": "stream",
     "text": [
      "Epoch: 31 | Train Loss: 5.456 | Val Loss : 7.571\n"
     ]
    },
    {
     "name": "stderr",
     "output_type": "stream",
     "text": [
      "100%|██████████| 346/346 [01:17<00:00,  4.45it/s]\n"
     ]
    },
    {
     "name": "stdout",
     "output_type": "stream",
     "text": [
      "Epoch: 32 | Train Loss: 5.429 | Val Loss : 7.655\n"
     ]
    },
    {
     "name": "stderr",
     "output_type": "stream",
     "text": [
      "100%|██████████| 346/346 [01:17<00:00,  4.46it/s]\n"
     ]
    },
    {
     "name": "stdout",
     "output_type": "stream",
     "text": [
      "Epoch: 33 | Train Loss: 5.402 | Val Loss : 7.614\n"
     ]
    },
    {
     "name": "stderr",
     "output_type": "stream",
     "text": [
      "100%|██████████| 346/346 [01:17<00:00,  4.44it/s]\n"
     ]
    },
    {
     "name": "stdout",
     "output_type": "stream",
     "text": [
      "Epoch: 34 | Train Loss: 5.376 | Val Loss : 7.546\n"
     ]
    },
    {
     "name": "stderr",
     "output_type": "stream",
     "text": [
      "100%|██████████| 346/346 [01:17<00:00,  4.46it/s]\n"
     ]
    },
    {
     "name": "stdout",
     "output_type": "stream",
     "text": [
      "Epoch: 35 | Train Loss: 5.356 | Val Loss : 7.583\n"
     ]
    },
    {
     "name": "stderr",
     "output_type": "stream",
     "text": [
      "100%|██████████| 346/346 [01:17<00:00,  4.45it/s]\n"
     ]
    },
    {
     "name": "stdout",
     "output_type": "stream",
     "text": [
      "Epoch: 36 | Train Loss: 5.333 | Val Loss : 7.597\n"
     ]
    },
    {
     "name": "stderr",
     "output_type": "stream",
     "text": [
      "100%|██████████| 346/346 [01:17<00:00,  4.45it/s]\n"
     ]
    },
    {
     "name": "stdout",
     "output_type": "stream",
     "text": [
      "Epoch: 37 | Train Loss: 5.310 | Val Loss : 7.554\n"
     ]
    },
    {
     "name": "stderr",
     "output_type": "stream",
     "text": [
      "100%|██████████| 346/346 [01:17<00:00,  4.45it/s]\n"
     ]
    },
    {
     "name": "stdout",
     "output_type": "stream",
     "text": [
      "Epoch: 38 | Train Loss: 5.296 | Val Loss : 7.556\n"
     ]
    },
    {
     "name": "stderr",
     "output_type": "stream",
     "text": [
      "100%|██████████| 346/346 [01:17<00:00,  4.45it/s]\n"
     ]
    },
    {
     "name": "stdout",
     "output_type": "stream",
     "text": [
      "Epoch: 39 | Train Loss: 5.261 | Val Loss : 7.571\n"
     ]
    },
    {
     "name": "stderr",
     "output_type": "stream",
     "text": [
      "100%|██████████| 346/346 [01:17<00:00,  4.44it/s]\n"
     ]
    },
    {
     "name": "stdout",
     "output_type": "stream",
     "text": [
      "Epoch: 40 | Train Loss: 5.235 | Val Loss : 7.555\n"
     ]
    },
    {
     "name": "stderr",
     "output_type": "stream",
     "text": [
      "100%|██████████| 346/346 [01:17<00:00,  4.44it/s]\n"
     ]
    },
    {
     "name": "stdout",
     "output_type": "stream",
     "text": [
      "Epoch: 41 | Train Loss: 5.223 | Val Loss : 7.577\n"
     ]
    },
    {
     "name": "stderr",
     "output_type": "stream",
     "text": [
      "100%|██████████| 346/346 [01:17<00:00,  4.46it/s]\n"
     ]
    },
    {
     "name": "stdout",
     "output_type": "stream",
     "text": [
      "Epoch: 42 | Train Loss: 5.196 | Val Loss : 7.575\n"
     ]
    },
    {
     "name": "stderr",
     "output_type": "stream",
     "text": [
      "100%|██████████| 346/346 [01:17<00:00,  4.44it/s]\n"
     ]
    },
    {
     "name": "stdout",
     "output_type": "stream",
     "text": [
      "Epoch: 43 | Train Loss: 5.178 | Val Loss : 7.514\n"
     ]
    },
    {
     "name": "stderr",
     "output_type": "stream",
     "text": [
      "100%|██████████| 346/346 [01:17<00:00,  4.45it/s]\n"
     ]
    },
    {
     "name": "stdout",
     "output_type": "stream",
     "text": [
      "Epoch: 44 | Train Loss: 5.157 | Val Loss : 7.511\n"
     ]
    },
    {
     "name": "stderr",
     "output_type": "stream",
     "text": [
      "100%|██████████| 346/346 [01:17<00:00,  4.44it/s]\n"
     ]
    },
    {
     "name": "stdout",
     "output_type": "stream",
     "text": [
      "Epoch: 45 | Train Loss: 5.145 | Val Loss : 7.513\n"
     ]
    },
    {
     "name": "stderr",
     "output_type": "stream",
     "text": [
      "100%|██████████| 346/346 [01:17<00:00,  4.45it/s]\n"
     ]
    },
    {
     "name": "stdout",
     "output_type": "stream",
     "text": [
      "Epoch: 46 | Train Loss: 5.128 | Val Loss : 7.576\n"
     ]
    },
    {
     "name": "stderr",
     "output_type": "stream",
     "text": [
      "100%|██████████| 346/346 [01:18<00:00,  4.43it/s]\n"
     ]
    },
    {
     "name": "stdout",
     "output_type": "stream",
     "text": [
      "Epoch: 47 | Train Loss: 5.109 | Val Loss : 7.488\n"
     ]
    },
    {
     "name": "stderr",
     "output_type": "stream",
     "text": [
      "100%|██████████| 346/346 [01:17<00:00,  4.45it/s]\n"
     ]
    },
    {
     "name": "stdout",
     "output_type": "stream",
     "text": [
      "Epoch: 48 | Train Loss: 5.095 | Val Loss : 7.520\n"
     ]
    },
    {
     "name": "stderr",
     "output_type": "stream",
     "text": [
      "100%|██████████| 346/346 [01:17<00:00,  4.44it/s]\n"
     ]
    },
    {
     "name": "stdout",
     "output_type": "stream",
     "text": [
      "Epoch: 49 | Train Loss: 5.066 | Val Loss : 7.459\n"
     ]
    },
    {
     "name": "stderr",
     "output_type": "stream",
     "text": [
      "100%|██████████| 346/346 [01:17<00:00,  4.45it/s]\n"
     ]
    },
    {
     "name": "stdout",
     "output_type": "stream",
     "text": [
      "Epoch: 50 | Train Loss: 5.059 | Val Loss : 7.465\n"
     ]
    },
    {
     "name": "stderr",
     "output_type": "stream",
     "text": [
      "100%|██████████| 346/346 [01:17<00:00,  4.44it/s]\n"
     ]
    },
    {
     "name": "stdout",
     "output_type": "stream",
     "text": [
      "Epoch: 51 | Train Loss: 5.035 | Val Loss : 7.497\n"
     ]
    },
    {
     "name": "stderr",
     "output_type": "stream",
     "text": [
      "100%|██████████| 346/346 [01:17<00:00,  4.44it/s]\n"
     ]
    },
    {
     "name": "stdout",
     "output_type": "stream",
     "text": [
      "Epoch: 52 | Train Loss: 5.036 | Val Loss : 7.528\n"
     ]
    },
    {
     "name": "stderr",
     "output_type": "stream",
     "text": [
      "100%|██████████| 346/346 [01:17<00:00,  4.44it/s]\n"
     ]
    },
    {
     "name": "stdout",
     "output_type": "stream",
     "text": [
      "Epoch: 53 | Train Loss: 5.020 | Val Loss : 7.513\n"
     ]
    },
    {
     "name": "stderr",
     "output_type": "stream",
     "text": [
      "100%|██████████| 346/346 [01:17<00:00,  4.44it/s]\n"
     ]
    },
    {
     "name": "stdout",
     "output_type": "stream",
     "text": [
      "Epoch: 54 | Train Loss: 5.006 | Val Loss : 7.517\n"
     ]
    },
    {
     "name": "stderr",
     "output_type": "stream",
     "text": [
      "100%|██████████| 346/346 [01:17<00:00,  4.45it/s]\n"
     ]
    },
    {
     "name": "stdout",
     "output_type": "stream",
     "text": [
      "Epoch: 55 | Train Loss: 4.990 | Val Loss : 7.524\n"
     ]
    },
    {
     "name": "stderr",
     "output_type": "stream",
     "text": [
      "100%|██████████| 346/346 [01:17<00:00,  4.45it/s]\n"
     ]
    },
    {
     "name": "stdout",
     "output_type": "stream",
     "text": [
      "Epoch: 56 | Train Loss: 4.963 | Val Loss : 7.565\n"
     ]
    },
    {
     "name": "stderr",
     "output_type": "stream",
     "text": [
      "100%|██████████| 346/346 [01:18<00:00,  4.43it/s]\n"
     ]
    },
    {
     "name": "stdout",
     "output_type": "stream",
     "text": [
      "Epoch: 57 | Train Loss: 4.957 | Val Loss : 7.543\n"
     ]
    },
    {
     "name": "stderr",
     "output_type": "stream",
     "text": [
      "100%|██████████| 346/346 [01:17<00:00,  4.45it/s]\n"
     ]
    },
    {
     "name": "stdout",
     "output_type": "stream",
     "text": [
      "Epoch: 58 | Train Loss: 4.942 | Val Loss : 7.563\n"
     ]
    },
    {
     "name": "stderr",
     "output_type": "stream",
     "text": [
      "100%|██████████| 346/346 [01:17<00:00,  4.44it/s]\n"
     ]
    },
    {
     "name": "stdout",
     "output_type": "stream",
     "text": [
      "Epoch: 59 | Train Loss: 4.936 | Val Loss : 7.552\n"
     ]
    },
    {
     "name": "stderr",
     "output_type": "stream",
     "text": [
      "100%|██████████| 346/346 [01:17<00:00,  4.44it/s]\n"
     ]
    },
    {
     "name": "stdout",
     "output_type": "stream",
     "text": [
      "Epoch: 60 | Train Loss: 4.919 | Val Loss : 7.532\n"
     ]
    },
    {
     "name": "stderr",
     "output_type": "stream",
     "text": [
      "100%|██████████| 346/346 [01:17<00:00,  4.44it/s]\n"
     ]
    },
    {
     "name": "stdout",
     "output_type": "stream",
     "text": [
      "Epoch: 61 | Train Loss: 4.915 | Val Loss : 7.537\n"
     ]
    },
    {
     "name": "stderr",
     "output_type": "stream",
     "text": [
      "100%|██████████| 346/346 [01:17<00:00,  4.44it/s]\n"
     ]
    },
    {
     "name": "stdout",
     "output_type": "stream",
     "text": [
      "Epoch: 62 | Train Loss: 4.902 | Val Loss : 7.553\n"
     ]
    },
    {
     "name": "stderr",
     "output_type": "stream",
     "text": [
      "100%|██████████| 346/346 [01:17<00:00,  4.44it/s]\n"
     ]
    },
    {
     "name": "stdout",
     "output_type": "stream",
     "text": [
      "Epoch: 63 | Train Loss: 4.884 | Val Loss : 7.482\n"
     ]
    },
    {
     "name": "stderr",
     "output_type": "stream",
     "text": [
      "100%|██████████| 346/346 [01:17<00:00,  4.44it/s]\n"
     ]
    },
    {
     "name": "stdout",
     "output_type": "stream",
     "text": [
      "Epoch: 64 | Train Loss: 4.879 | Val Loss : 7.509\n"
     ]
    },
    {
     "name": "stderr",
     "output_type": "stream",
     "text": [
      "100%|██████████| 346/346 [01:17<00:00,  4.44it/s]\n"
     ]
    },
    {
     "name": "stdout",
     "output_type": "stream",
     "text": [
      "Epoch: 65 | Train Loss: 4.863 | Val Loss : 7.477\n"
     ]
    },
    {
     "name": "stderr",
     "output_type": "stream",
     "text": [
      "100%|██████████| 346/346 [01:18<00:00,  4.44it/s]\n"
     ]
    },
    {
     "name": "stdout",
     "output_type": "stream",
     "text": [
      "Epoch: 66 | Train Loss: 4.851 | Val Loss : 7.520\n"
     ]
    },
    {
     "name": "stderr",
     "output_type": "stream",
     "text": [
      "100%|██████████| 346/346 [01:18<00:00,  4.43it/s]\n"
     ]
    },
    {
     "name": "stdout",
     "output_type": "stream",
     "text": [
      "Epoch: 67 | Train Loss: 4.834 | Val Loss : 7.486\n"
     ]
    },
    {
     "name": "stderr",
     "output_type": "stream",
     "text": [
      "100%|██████████| 346/346 [01:17<00:00,  4.44it/s]\n"
     ]
    },
    {
     "name": "stdout",
     "output_type": "stream",
     "text": [
      "Epoch: 68 | Train Loss: 4.830 | Val Loss : 7.538\n"
     ]
    },
    {
     "name": "stderr",
     "output_type": "stream",
     "text": [
      "100%|██████████| 346/346 [01:17<00:00,  4.44it/s]\n"
     ]
    },
    {
     "name": "stdout",
     "output_type": "stream",
     "text": [
      "Epoch: 69 | Train Loss: 4.812 | Val Loss : 7.447\n"
     ]
    },
    {
     "name": "stderr",
     "output_type": "stream",
     "text": [
      "100%|██████████| 346/346 [01:17<00:00,  4.44it/s]\n"
     ]
    },
    {
     "name": "stdout",
     "output_type": "stream",
     "text": [
      "Epoch: 70 | Train Loss: 4.811 | Val Loss : 7.473\n"
     ]
    },
    {
     "name": "stderr",
     "output_type": "stream",
     "text": [
      "100%|██████████| 346/346 [01:18<00:00,  4.43it/s]\n"
     ]
    },
    {
     "name": "stdout",
     "output_type": "stream",
     "text": [
      "Epoch: 71 | Train Loss: 4.803 | Val Loss : 7.518\n"
     ]
    },
    {
     "name": "stderr",
     "output_type": "stream",
     "text": [
      "100%|██████████| 346/346 [01:17<00:00,  4.44it/s]\n"
     ]
    },
    {
     "name": "stdout",
     "output_type": "stream",
     "text": [
      "Epoch: 72 | Train Loss: 4.789 | Val Loss : 7.525\n"
     ]
    },
    {
     "name": "stderr",
     "output_type": "stream",
     "text": [
      "100%|██████████| 346/346 [01:18<00:00,  4.41it/s]\n"
     ]
    },
    {
     "name": "stdout",
     "output_type": "stream",
     "text": [
      "Epoch: 73 | Train Loss: 4.792 | Val Loss : 7.504\n"
     ]
    },
    {
     "name": "stderr",
     "output_type": "stream",
     "text": [
      "100%|██████████| 346/346 [01:17<00:00,  4.44it/s]\n"
     ]
    },
    {
     "name": "stdout",
     "output_type": "stream",
     "text": [
      "Epoch: 74 | Train Loss: 4.772 | Val Loss : 7.519\n"
     ]
    },
    {
     "name": "stderr",
     "output_type": "stream",
     "text": [
      "100%|██████████| 346/346 [01:18<00:00,  4.42it/s]\n"
     ]
    },
    {
     "name": "stdout",
     "output_type": "stream",
     "text": [
      "Epoch: 75 | Train Loss: 4.760 | Val Loss : 7.500\n"
     ]
    },
    {
     "name": "stderr",
     "output_type": "stream",
     "text": [
      "100%|██████████| 346/346 [01:17<00:00,  4.44it/s]\n"
     ]
    },
    {
     "name": "stdout",
     "output_type": "stream",
     "text": [
      "Epoch: 76 | Train Loss: 4.686 | Val Loss : 7.379\n"
     ]
    },
    {
     "name": "stderr",
     "output_type": "stream",
     "text": [
      "100%|██████████| 346/346 [01:18<00:00,  4.43it/s]\n"
     ]
    },
    {
     "name": "stdout",
     "output_type": "stream",
     "text": [
      "Epoch: 77 | Train Loss: 4.632 | Val Loss : 7.388\n"
     ]
    },
    {
     "name": "stderr",
     "output_type": "stream",
     "text": [
      "100%|██████████| 346/346 [01:18<00:00,  4.43it/s]\n"
     ]
    },
    {
     "name": "stdout",
     "output_type": "stream",
     "text": [
      "Epoch: 78 | Train Loss: 4.602 | Val Loss : 7.402\n"
     ]
    },
    {
     "name": "stderr",
     "output_type": "stream",
     "text": [
      "100%|██████████| 346/346 [01:18<00:00,  4.43it/s]\n"
     ]
    },
    {
     "name": "stdout",
     "output_type": "stream",
     "text": [
      "Epoch: 79 | Train Loss: 4.596 | Val Loss : 7.391\n"
     ]
    },
    {
     "name": "stderr",
     "output_type": "stream",
     "text": [
      "100%|██████████| 346/346 [01:18<00:00,  4.42it/s]\n"
     ]
    },
    {
     "name": "stdout",
     "output_type": "stream",
     "text": [
      "Epoch: 80 | Train Loss: 4.586 | Val Loss : 7.414\n"
     ]
    },
    {
     "name": "stderr",
     "output_type": "stream",
     "text": [
      "100%|██████████| 346/346 [01:17<00:00,  4.45it/s]\n"
     ]
    },
    {
     "name": "stdout",
     "output_type": "stream",
     "text": [
      "Epoch: 81 | Train Loss: 4.566 | Val Loss : 7.412\n"
     ]
    },
    {
     "name": "stderr",
     "output_type": "stream",
     "text": [
      "100%|██████████| 346/346 [01:17<00:00,  4.45it/s]\n"
     ]
    },
    {
     "name": "stdout",
     "output_type": "stream",
     "text": [
      "Epoch: 82 | Train Loss: 4.558 | Val Loss : 7.422\n"
     ]
    },
    {
     "name": "stderr",
     "output_type": "stream",
     "text": [
      "100%|██████████| 346/346 [01:17<00:00,  4.45it/s]\n"
     ]
    },
    {
     "name": "stdout",
     "output_type": "stream",
     "text": [
      "Epoch: 83 | Train Loss: 4.549 | Val Loss : 7.422\n"
     ]
    },
    {
     "name": "stderr",
     "output_type": "stream",
     "text": [
      "100%|██████████| 346/346 [01:18<00:00,  4.41it/s]\n"
     ]
    },
    {
     "name": "stdout",
     "output_type": "stream",
     "text": [
      "Epoch: 84 | Train Loss: 4.537 | Val Loss : 7.429\n"
     ]
    },
    {
     "name": "stderr",
     "output_type": "stream",
     "text": [
      "100%|██████████| 346/346 [01:18<00:00,  4.39it/s]\n"
     ]
    },
    {
     "name": "stdout",
     "output_type": "stream",
     "text": [
      "Epoch: 85 | Train Loss: 4.532 | Val Loss : 7.431\n"
     ]
    },
    {
     "name": "stderr",
     "output_type": "stream",
     "text": [
      "100%|██████████| 346/346 [01:18<00:00,  4.40it/s]\n"
     ]
    },
    {
     "name": "stdout",
     "output_type": "stream",
     "text": [
      "Epoch: 86 | Train Loss: 4.522 | Val Loss : 7.429\n"
     ]
    },
    {
     "name": "stderr",
     "output_type": "stream",
     "text": [
      "100%|██████████| 346/346 [01:18<00:00,  4.39it/s]\n"
     ]
    },
    {
     "name": "stdout",
     "output_type": "stream",
     "text": [
      "Epoch: 87 | Train Loss: 4.526 | Val Loss : 7.458\n"
     ]
    },
    {
     "name": "stderr",
     "output_type": "stream",
     "text": [
      "100%|██████████| 346/346 [01:18<00:00,  4.42it/s]\n"
     ]
    },
    {
     "name": "stdout",
     "output_type": "stream",
     "text": [
      "Epoch: 88 | Train Loss: 4.526 | Val Loss : 7.444\n"
     ]
    },
    {
     "name": "stderr",
     "output_type": "stream",
     "text": [
      "100%|██████████| 346/346 [01:18<00:00,  4.40it/s]\n"
     ]
    },
    {
     "name": "stdout",
     "output_type": "stream",
     "text": [
      "Epoch: 89 | Train Loss: 4.509 | Val Loss : 7.456\n"
     ]
    },
    {
     "name": "stderr",
     "output_type": "stream",
     "text": [
      "100%|██████████| 346/346 [01:18<00:00,  4.42it/s]\n"
     ]
    },
    {
     "name": "stdout",
     "output_type": "stream",
     "text": [
      "Epoch: 90 | Train Loss: 4.516 | Val Loss : 7.452\n"
     ]
    },
    {
     "name": "stderr",
     "output_type": "stream",
     "text": [
      "100%|██████████| 346/346 [01:18<00:00,  4.40it/s]\n"
     ]
    },
    {
     "name": "stdout",
     "output_type": "stream",
     "text": [
      "Epoch: 91 | Train Loss: 4.506 | Val Loss : 7.442\n"
     ]
    },
    {
     "name": "stderr",
     "output_type": "stream",
     "text": [
      "100%|██████████| 346/346 [01:18<00:00,  4.42it/s]\n"
     ]
    },
    {
     "name": "stdout",
     "output_type": "stream",
     "text": [
      "Epoch: 92 | Train Loss: 4.504 | Val Loss : 7.451\n"
     ]
    },
    {
     "name": "stderr",
     "output_type": "stream",
     "text": [
      "100%|██████████| 346/346 [01:18<00:00,  4.42it/s]\n"
     ]
    },
    {
     "name": "stdout",
     "output_type": "stream",
     "text": [
      "Epoch: 93 | Train Loss: 4.502 | Val Loss : 7.477\n"
     ]
    },
    {
     "name": "stderr",
     "output_type": "stream",
     "text": [
      "100%|██████████| 346/346 [01:18<00:00,  4.42it/s]\n"
     ]
    },
    {
     "name": "stdout",
     "output_type": "stream",
     "text": [
      "Epoch: 94 | Train Loss: 4.493 | Val Loss : 7.472\n"
     ]
    },
    {
     "name": "stderr",
     "output_type": "stream",
     "text": [
      "100%|██████████| 346/346 [01:18<00:00,  4.41it/s]\n"
     ]
    },
    {
     "name": "stdout",
     "output_type": "stream",
     "text": [
      "Epoch: 95 | Train Loss: 4.492 | Val Loss : 7.459\n"
     ]
    },
    {
     "name": "stderr",
     "output_type": "stream",
     "text": [
      "100%|██████████| 346/346 [01:18<00:00,  4.41it/s]\n"
     ]
    },
    {
     "name": "stdout",
     "output_type": "stream",
     "text": [
      "Epoch: 96 | Train Loss: 4.483 | Val Loss : 7.474\n"
     ]
    },
    {
     "name": "stderr",
     "output_type": "stream",
     "text": [
      "100%|██████████| 346/346 [01:18<00:00,  4.41it/s]\n"
     ]
    },
    {
     "name": "stdout",
     "output_type": "stream",
     "text": [
      "Epoch: 97 | Train Loss: 4.481 | Val Loss : 7.461\n"
     ]
    },
    {
     "name": "stderr",
     "output_type": "stream",
     "text": [
      "100%|██████████| 346/346 [01:19<00:00,  4.37it/s]\n"
     ]
    },
    {
     "name": "stdout",
     "output_type": "stream",
     "text": [
      "Epoch: 98 | Train Loss: 4.484 | Val Loss : 7.449\n"
     ]
    },
    {
     "name": "stderr",
     "output_type": "stream",
     "text": [
      "100%|██████████| 346/346 [01:18<00:00,  4.41it/s]\n"
     ]
    },
    {
     "name": "stdout",
     "output_type": "stream",
     "text": [
      "Epoch: 99 | Train Loss: 4.482 | Val Loss : 7.458\n"
     ]
    },
    {
     "name": "stderr",
     "output_type": "stream",
     "text": [
      "100%|██████████| 346/346 [01:18<00:00,  4.40it/s]\n"
     ]
    },
    {
     "name": "stdout",
     "output_type": "stream",
     "text": [
      "Epoch: 100 | Train Loss: 4.477 | Val Loss : 7.452\n"
     ]
    },
    {
     "name": "stderr",
     "output_type": "stream",
     "text": [
      "100%|██████████| 346/346 [01:18<00:00,  4.42it/s]\n"
     ]
    },
    {
     "name": "stdout",
     "output_type": "stream",
     "text": [
      "Epoch: 101 | Train Loss: 4.471 | Val Loss : 7.467\n"
     ]
    },
    {
     "name": "stderr",
     "output_type": "stream",
     "text": [
      "100%|██████████| 346/346 [01:18<00:00,  4.43it/s]\n"
     ]
    },
    {
     "name": "stdout",
     "output_type": "stream",
     "text": [
      "Epoch: 102 | Train Loss: 4.470 | Val Loss : 7.452\n"
     ]
    },
    {
     "name": "stderr",
     "output_type": "stream",
     "text": [
      "100%|██████████| 346/346 [01:18<00:00,  4.42it/s]\n"
     ]
    },
    {
     "name": "stdout",
     "output_type": "stream",
     "text": [
      "Epoch: 103 | Train Loss: 4.469 | Val Loss : 7.462\n"
     ]
    },
    {
     "name": "stderr",
     "output_type": "stream",
     "text": [
      "100%|██████████| 346/346 [01:18<00:00,  4.41it/s]\n"
     ]
    },
    {
     "name": "stdout",
     "output_type": "stream",
     "text": [
      "Epoch: 104 | Train Loss: 4.462 | Val Loss : 7.472\n"
     ]
    },
    {
     "name": "stderr",
     "output_type": "stream",
     "text": [
      "100%|██████████| 346/346 [01:18<00:00,  4.39it/s]\n"
     ]
    },
    {
     "name": "stdout",
     "output_type": "stream",
     "text": [
      "Epoch: 105 | Train Loss: 4.463 | Val Loss : 7.468\n"
     ]
    },
    {
     "name": "stderr",
     "output_type": "stream",
     "text": [
      "100%|██████████| 346/346 [01:18<00:00,  4.41it/s]\n"
     ]
    },
    {
     "name": "stdout",
     "output_type": "stream",
     "text": [
      "Epoch: 106 | Train Loss: 4.460 | Val Loss : 7.462\n"
     ]
    },
    {
     "name": "stderr",
     "output_type": "stream",
     "text": [
      "100%|██████████| 346/346 [01:18<00:00,  4.42it/s]\n"
     ]
    },
    {
     "name": "stdout",
     "output_type": "stream",
     "text": [
      "Epoch: 107 | Train Loss: 4.466 | Val Loss : 7.455\n"
     ]
    },
    {
     "name": "stderr",
     "output_type": "stream",
     "text": [
      "100%|██████████| 346/346 [01:18<00:00,  4.38it/s]\n"
     ]
    },
    {
     "name": "stdout",
     "output_type": "stream",
     "text": [
      "Epoch: 108 | Train Loss: 4.452 | Val Loss : 7.464\n"
     ]
    },
    {
     "name": "stderr",
     "output_type": "stream",
     "text": [
      "100%|██████████| 346/346 [01:18<00:00,  4.38it/s]\n"
     ]
    },
    {
     "name": "stdout",
     "output_type": "stream",
     "text": [
      "Epoch: 109 | Train Loss: 4.457 | Val Loss : 7.470\n"
     ]
    },
    {
     "name": "stderr",
     "output_type": "stream",
     "text": [
      "100%|██████████| 346/346 [01:19<00:00,  4.37it/s]\n"
     ]
    },
    {
     "name": "stdout",
     "output_type": "stream",
     "text": [
      "Epoch: 110 | Train Loss: 4.454 | Val Loss : 7.456\n"
     ]
    },
    {
     "name": "stderr",
     "output_type": "stream",
     "text": [
      "100%|██████████| 346/346 [01:19<00:00,  4.37it/s]\n"
     ]
    },
    {
     "name": "stdout",
     "output_type": "stream",
     "text": [
      "Epoch: 111 | Train Loss: 4.447 | Val Loss : 7.479\n"
     ]
    },
    {
     "name": "stderr",
     "output_type": "stream",
     "text": [
      "100%|██████████| 346/346 [01:19<00:00,  4.38it/s]\n"
     ]
    },
    {
     "name": "stdout",
     "output_type": "stream",
     "text": [
      "Epoch: 112 | Train Loss: 4.451 | Val Loss : 7.471\n"
     ]
    },
    {
     "name": "stderr",
     "output_type": "stream",
     "text": [
      "100%|██████████| 346/346 [01:19<00:00,  4.38it/s]\n"
     ]
    },
    {
     "name": "stdout",
     "output_type": "stream",
     "text": [
      "Epoch: 113 | Train Loss: 4.449 | Val Loss : 7.467\n"
     ]
    },
    {
     "name": "stderr",
     "output_type": "stream",
     "text": [
      "100%|██████████| 346/346 [01:19<00:00,  4.36it/s]\n"
     ]
    },
    {
     "name": "stdout",
     "output_type": "stream",
     "text": [
      "Epoch: 114 | Train Loss: 4.439 | Val Loss : 7.467\n"
     ]
    },
    {
     "name": "stderr",
     "output_type": "stream",
     "text": [
      "100%|██████████| 346/346 [01:19<00:00,  4.37it/s]\n"
     ]
    },
    {
     "name": "stdout",
     "output_type": "stream",
     "text": [
      "Epoch: 115 | Train Loss: 4.446 | Val Loss : 7.471\n"
     ]
    },
    {
     "name": "stderr",
     "output_type": "stream",
     "text": [
      "100%|██████████| 346/346 [01:19<00:00,  4.37it/s]\n"
     ]
    },
    {
     "name": "stdout",
     "output_type": "stream",
     "text": [
      "Epoch: 116 | Train Loss: 4.439 | Val Loss : 7.479\n"
     ]
    },
    {
     "name": "stderr",
     "output_type": "stream",
     "text": [
      "100%|██████████| 346/346 [01:19<00:00,  4.37it/s]\n"
     ]
    },
    {
     "name": "stdout",
     "output_type": "stream",
     "text": [
      "Epoch: 117 | Train Loss: 4.441 | Val Loss : 7.490\n"
     ]
    },
    {
     "name": "stderr",
     "output_type": "stream",
     "text": [
      "100%|██████████| 346/346 [01:19<00:00,  4.37it/s]\n"
     ]
    },
    {
     "name": "stdout",
     "output_type": "stream",
     "text": [
      "Epoch: 118 | Train Loss: 4.441 | Val Loss : 7.463\n"
     ]
    },
    {
     "name": "stderr",
     "output_type": "stream",
     "text": [
      "100%|██████████| 346/346 [01:19<00:00,  4.37it/s]\n"
     ]
    },
    {
     "name": "stdout",
     "output_type": "stream",
     "text": [
      "Epoch: 119 | Train Loss: 4.427 | Val Loss : 7.462\n"
     ]
    },
    {
     "name": "stderr",
     "output_type": "stream",
     "text": [
      "100%|██████████| 346/346 [01:19<00:00,  4.37it/s]\n"
     ]
    },
    {
     "name": "stdout",
     "output_type": "stream",
     "text": [
      "Epoch: 120 | Train Loss: 4.430 | Val Loss : 7.480\n"
     ]
    },
    {
     "name": "stderr",
     "output_type": "stream",
     "text": [
      "100%|██████████| 346/346 [01:19<00:00,  4.37it/s]\n"
     ]
    },
    {
     "name": "stdout",
     "output_type": "stream",
     "text": [
      "Epoch: 121 | Train Loss: 4.431 | Val Loss : 7.482\n"
     ]
    },
    {
     "name": "stderr",
     "output_type": "stream",
     "text": [
      "100%|██████████| 346/346 [01:19<00:00,  4.37it/s]\n"
     ]
    },
    {
     "name": "stdout",
     "output_type": "stream",
     "text": [
      "Epoch: 122 | Train Loss: 4.421 | Val Loss : 7.480\n"
     ]
    },
    {
     "name": "stderr",
     "output_type": "stream",
     "text": [
      "100%|██████████| 346/346 [01:19<00:00,  4.35it/s]\n"
     ]
    },
    {
     "name": "stdout",
     "output_type": "stream",
     "text": [
      "Epoch: 123 | Train Loss: 4.425 | Val Loss : 7.474\n"
     ]
    },
    {
     "name": "stderr",
     "output_type": "stream",
     "text": [
      "100%|██████████| 346/346 [01:19<00:00,  4.37it/s]\n"
     ]
    },
    {
     "name": "stdout",
     "output_type": "stream",
     "text": [
      "Epoch: 124 | Train Loss: 4.426 | Val Loss : 7.478\n"
     ]
    },
    {
     "name": "stderr",
     "output_type": "stream",
     "text": [
      "100%|██████████| 346/346 [01:19<00:00,  4.37it/s]\n"
     ]
    },
    {
     "name": "stdout",
     "output_type": "stream",
     "text": [
      "Epoch: 125 | Train Loss: 4.420 | Val Loss : 7.471\n"
     ]
    },
    {
     "name": "stderr",
     "output_type": "stream",
     "text": [
      "100%|██████████| 346/346 [01:18<00:00,  4.38it/s]\n"
     ]
    },
    {
     "name": "stdout",
     "output_type": "stream",
     "text": [
      "Epoch: 126 | Train Loss: 4.413 | Val Loss : 7.493\n"
     ]
    },
    {
     "name": "stderr",
     "output_type": "stream",
     "text": [
      "100%|██████████| 346/346 [01:19<00:00,  4.36it/s]\n"
     ]
    },
    {
     "name": "stdout",
     "output_type": "stream",
     "text": [
      "Epoch: 127 | Train Loss: 4.413 | Val Loss : 7.480\n"
     ]
    },
    {
     "name": "stderr",
     "output_type": "stream",
     "text": [
      "100%|██████████| 346/346 [01:19<00:00,  4.36it/s]\n"
     ]
    },
    {
     "name": "stdout",
     "output_type": "stream",
     "text": [
      "Epoch: 128 | Train Loss: 4.412 | Val Loss : 7.483\n"
     ]
    },
    {
     "name": "stderr",
     "output_type": "stream",
     "text": [
      "100%|██████████| 346/346 [01:19<00:00,  4.36it/s]\n"
     ]
    },
    {
     "name": "stdout",
     "output_type": "stream",
     "text": [
      "Epoch: 129 | Train Loss: 4.410 | Val Loss : 7.482\n"
     ]
    },
    {
     "name": "stderr",
     "output_type": "stream",
     "text": [
      "100%|██████████| 346/346 [01:18<00:00,  4.39it/s]\n"
     ]
    },
    {
     "name": "stdout",
     "output_type": "stream",
     "text": [
      "Epoch: 130 | Train Loss: 4.412 | Val Loss : 7.492\n"
     ]
    },
    {
     "name": "stderr",
     "output_type": "stream",
     "text": [
      "100%|██████████| 346/346 [01:19<00:00,  4.35it/s]\n"
     ]
    },
    {
     "name": "stdout",
     "output_type": "stream",
     "text": [
      "Epoch: 131 | Train Loss: 4.406 | Val Loss : 7.479\n"
     ]
    },
    {
     "name": "stderr",
     "output_type": "stream",
     "text": [
      "100%|██████████| 346/346 [01:18<00:00,  4.38it/s]\n"
     ]
    },
    {
     "name": "stdout",
     "output_type": "stream",
     "text": [
      "Epoch: 132 | Train Loss: 4.405 | Val Loss : 7.485\n"
     ]
    },
    {
     "name": "stderr",
     "output_type": "stream",
     "text": [
      "100%|██████████| 346/346 [01:19<00:00,  4.35it/s]\n"
     ]
    },
    {
     "name": "stdout",
     "output_type": "stream",
     "text": [
      "Epoch: 133 | Train Loss: 4.409 | Val Loss : 7.474\n"
     ]
    },
    {
     "name": "stderr",
     "output_type": "stream",
     "text": [
      "100%|██████████| 346/346 [01:19<00:00,  4.37it/s]\n"
     ]
    },
    {
     "name": "stdout",
     "output_type": "stream",
     "text": [
      "Epoch: 134 | Train Loss: 4.406 | Val Loss : 7.469\n"
     ]
    },
    {
     "name": "stderr",
     "output_type": "stream",
     "text": [
      "100%|██████████| 346/346 [01:19<00:00,  4.37it/s]\n"
     ]
    },
    {
     "name": "stdout",
     "output_type": "stream",
     "text": [
      "Epoch: 135 | Train Loss: 4.400 | Val Loss : 7.490\n"
     ]
    },
    {
     "name": "stderr",
     "output_type": "stream",
     "text": [
      "100%|██████████| 346/346 [01:19<00:00,  4.34it/s]\n"
     ]
    },
    {
     "name": "stdout",
     "output_type": "stream",
     "text": [
      "Epoch: 136 | Train Loss: 4.396 | Val Loss : 7.482\n"
     ]
    },
    {
     "name": "stderr",
     "output_type": "stream",
     "text": [
      "100%|██████████| 346/346 [01:19<00:00,  4.37it/s]\n"
     ]
    },
    {
     "name": "stdout",
     "output_type": "stream",
     "text": [
      "Epoch: 137 | Train Loss: 4.396 | Val Loss : 7.496\n"
     ]
    },
    {
     "name": "stderr",
     "output_type": "stream",
     "text": [
      "100%|██████████| 346/346 [01:19<00:00,  4.35it/s]\n"
     ]
    },
    {
     "name": "stdout",
     "output_type": "stream",
     "text": [
      "Epoch: 138 | Train Loss: 4.403 | Val Loss : 7.476\n"
     ]
    },
    {
     "name": "stderr",
     "output_type": "stream",
     "text": [
      "100%|██████████| 346/346 [01:19<00:00,  4.35it/s]\n"
     ]
    },
    {
     "name": "stdout",
     "output_type": "stream",
     "text": [
      "Epoch: 139 | Train Loss: 4.402 | Val Loss : 7.484\n"
     ]
    },
    {
     "name": "stderr",
     "output_type": "stream",
     "text": [
      "100%|██████████| 346/346 [01:19<00:00,  4.37it/s]\n"
     ]
    },
    {
     "name": "stdout",
     "output_type": "stream",
     "text": [
      "Epoch: 140 | Train Loss: 4.396 | Val Loss : 7.498\n"
     ]
    },
    {
     "name": "stderr",
     "output_type": "stream",
     "text": [
      "100%|██████████| 346/346 [01:18<00:00,  4.38it/s]\n"
     ]
    },
    {
     "name": "stdout",
     "output_type": "stream",
     "text": [
      "Epoch: 141 | Train Loss: 4.392 | Val Loss : 7.479\n"
     ]
    },
    {
     "name": "stderr",
     "output_type": "stream",
     "text": [
      "100%|██████████| 346/346 [01:19<00:00,  4.37it/s]\n"
     ]
    },
    {
     "name": "stdout",
     "output_type": "stream",
     "text": [
      "Epoch: 142 | Train Loss: 4.392 | Val Loss : 7.484\n"
     ]
    },
    {
     "name": "stderr",
     "output_type": "stream",
     "text": [
      "100%|██████████| 346/346 [01:18<00:00,  4.38it/s]\n"
     ]
    },
    {
     "name": "stdout",
     "output_type": "stream",
     "text": [
      "Epoch: 143 | Train Loss: 4.396 | Val Loss : 7.504\n"
     ]
    },
    {
     "name": "stderr",
     "output_type": "stream",
     "text": [
      "100%|██████████| 346/346 [01:19<00:00,  4.36it/s]\n"
     ]
    },
    {
     "name": "stdout",
     "output_type": "stream",
     "text": [
      "Epoch: 144 | Train Loss: 4.383 | Val Loss : 7.484\n"
     ]
    },
    {
     "name": "stderr",
     "output_type": "stream",
     "text": [
      "100%|██████████| 346/346 [01:18<00:00,  4.40it/s]\n"
     ]
    },
    {
     "name": "stdout",
     "output_type": "stream",
     "text": [
      "Epoch: 145 | Train Loss: 4.386 | Val Loss : 7.505\n"
     ]
    },
    {
     "name": "stderr",
     "output_type": "stream",
     "text": [
      "100%|██████████| 346/346 [01:18<00:00,  4.39it/s]\n"
     ]
    },
    {
     "name": "stdout",
     "output_type": "stream",
     "text": [
      "Epoch: 146 | Train Loss: 4.381 | Val Loss : 7.486\n"
     ]
    },
    {
     "name": "stderr",
     "output_type": "stream",
     "text": [
      "100%|██████████| 346/346 [01:19<00:00,  4.38it/s]\n"
     ]
    },
    {
     "name": "stdout",
     "output_type": "stream",
     "text": [
      "Epoch: 147 | Train Loss: 4.381 | Val Loss : 7.487\n"
     ]
    },
    {
     "name": "stderr",
     "output_type": "stream",
     "text": [
      "100%|██████████| 346/346 [01:19<00:00,  4.37it/s]\n"
     ]
    },
    {
     "name": "stdout",
     "output_type": "stream",
     "text": [
      "Epoch: 148 | Train Loss: 4.382 | Val Loss : 7.521\n"
     ]
    },
    {
     "name": "stderr",
     "output_type": "stream",
     "text": [
      "100%|██████████| 346/346 [01:19<00:00,  4.37it/s]\n"
     ]
    },
    {
     "name": "stdout",
     "output_type": "stream",
     "text": [
      "Epoch: 149 | Train Loss: 4.378 | Val Loss : 7.492\n"
     ]
    },
    {
     "name": "stderr",
     "output_type": "stream",
     "text": [
      "100%|██████████| 346/346 [01:18<00:00,  4.38it/s]\n"
     ]
    },
    {
     "name": "stdout",
     "output_type": "stream",
     "text": [
      "Epoch: 150 | Train Loss: 4.384 | Val Loss : 7.501\n"
     ]
    },
    {
     "name": "stderr",
     "output_type": "stream",
     "text": [
      "100%|██████████| 346/346 [01:18<00:00,  4.38it/s]\n"
     ]
    },
    {
     "name": "stdout",
     "output_type": "stream",
     "text": [
      "Epoch: 151 | Train Loss: 4.373 | Val Loss : 7.520\n"
     ]
    },
    {
     "name": "stderr",
     "output_type": "stream",
     "text": [
      "100%|██████████| 346/346 [01:18<00:00,  4.39it/s]\n"
     ]
    },
    {
     "name": "stdout",
     "output_type": "stream",
     "text": [
      "Epoch: 152 | Train Loss: 4.385 | Val Loss : 7.514\n"
     ]
    },
    {
     "name": "stderr",
     "output_type": "stream",
     "text": [
      "100%|██████████| 346/346 [01:19<00:00,  4.37it/s]\n"
     ]
    },
    {
     "name": "stdout",
     "output_type": "stream",
     "text": [
      "Epoch: 153 | Train Loss: 4.379 | Val Loss : 7.514\n"
     ]
    },
    {
     "name": "stderr",
     "output_type": "stream",
     "text": [
      "100%|██████████| 346/346 [01:18<00:00,  4.39it/s]\n"
     ]
    },
    {
     "name": "stdout",
     "output_type": "stream",
     "text": [
      "Epoch: 154 | Train Loss: 4.378 | Val Loss : 7.504\n"
     ]
    },
    {
     "name": "stderr",
     "output_type": "stream",
     "text": [
      "100%|██████████| 346/346 [01:18<00:00,  4.38it/s]\n"
     ]
    },
    {
     "name": "stdout",
     "output_type": "stream",
     "text": [
      "Epoch: 155 | Train Loss: 4.367 | Val Loss : 7.502\n"
     ]
    },
    {
     "name": "stderr",
     "output_type": "stream",
     "text": [
      "100%|██████████| 346/346 [01:18<00:00,  4.41it/s]\n"
     ]
    },
    {
     "name": "stdout",
     "output_type": "stream",
     "text": [
      "Epoch: 156 | Train Loss: 4.377 | Val Loss : 7.494\n"
     ]
    },
    {
     "name": "stderr",
     "output_type": "stream",
     "text": [
      "100%|██████████| 346/346 [01:18<00:00,  4.42it/s]\n"
     ]
    },
    {
     "name": "stdout",
     "output_type": "stream",
     "text": [
      "Epoch: 157 | Train Loss: 4.370 | Val Loss : 7.507\n"
     ]
    },
    {
     "name": "stderr",
     "output_type": "stream",
     "text": [
      "100%|██████████| 346/346 [01:18<00:00,  4.41it/s]\n"
     ]
    },
    {
     "name": "stdout",
     "output_type": "stream",
     "text": [
      "Epoch: 158 | Train Loss: 4.366 | Val Loss : 7.505\n"
     ]
    },
    {
     "name": "stderr",
     "output_type": "stream",
     "text": [
      "100%|██████████| 346/346 [01:18<00:00,  4.40it/s]\n"
     ]
    },
    {
     "name": "stdout",
     "output_type": "stream",
     "text": [
      "Epoch: 159 | Train Loss: 4.363 | Val Loss : 7.499\n"
     ]
    },
    {
     "name": "stderr",
     "output_type": "stream",
     "text": [
      "100%|██████████| 346/346 [01:18<00:00,  4.40it/s]\n"
     ]
    },
    {
     "name": "stdout",
     "output_type": "stream",
     "text": [
      "Epoch: 160 | Train Loss: 4.368 | Val Loss : 7.497\n"
     ]
    },
    {
     "name": "stderr",
     "output_type": "stream",
     "text": [
      "100%|██████████| 346/346 [01:18<00:00,  4.40it/s]\n"
     ]
    },
    {
     "name": "stdout",
     "output_type": "stream",
     "text": [
      "Epoch: 161 | Train Loss: 4.366 | Val Loss : 7.517\n"
     ]
    },
    {
     "name": "stderr",
     "output_type": "stream",
     "text": [
      "100%|██████████| 346/346 [01:18<00:00,  4.38it/s]\n"
     ]
    },
    {
     "name": "stdout",
     "output_type": "stream",
     "text": [
      "Epoch: 162 | Train Loss: 4.358 | Val Loss : 7.509\n"
     ]
    },
    {
     "name": "stderr",
     "output_type": "stream",
     "text": [
      "100%|██████████| 346/346 [01:18<00:00,  4.40it/s]\n"
     ]
    },
    {
     "name": "stdout",
     "output_type": "stream",
     "text": [
      "Epoch: 163 | Train Loss: 4.372 | Val Loss : 7.497\n"
     ]
    },
    {
     "name": "stderr",
     "output_type": "stream",
     "text": [
      "100%|██████████| 346/346 [01:18<00:00,  4.41it/s]\n"
     ]
    },
    {
     "name": "stdout",
     "output_type": "stream",
     "text": [
      "Epoch: 164 | Train Loss: 4.356 | Val Loss : 7.506\n"
     ]
    },
    {
     "name": "stderr",
     "output_type": "stream",
     "text": [
      "100%|██████████| 346/346 [01:18<00:00,  4.40it/s]\n"
     ]
    },
    {
     "name": "stdout",
     "output_type": "stream",
     "text": [
      "Epoch: 165 | Train Loss: 4.353 | Val Loss : 7.505\n"
     ]
    },
    {
     "name": "stderr",
     "output_type": "stream",
     "text": [
      "100%|██████████| 346/346 [01:18<00:00,  4.40it/s]\n"
     ]
    },
    {
     "name": "stdout",
     "output_type": "stream",
     "text": [
      "Epoch: 166 | Train Loss: 4.361 | Val Loss : 7.510\n"
     ]
    },
    {
     "name": "stderr",
     "output_type": "stream",
     "text": [
      "100%|██████████| 346/346 [01:18<00:00,  4.39it/s]\n"
     ]
    },
    {
     "name": "stdout",
     "output_type": "stream",
     "text": [
      "Epoch: 167 | Train Loss: 4.355 | Val Loss : 7.519\n"
     ]
    },
    {
     "name": "stderr",
     "output_type": "stream",
     "text": [
      "100%|██████████| 346/346 [01:18<00:00,  4.41it/s]\n"
     ]
    },
    {
     "name": "stdout",
     "output_type": "stream",
     "text": [
      "Epoch: 168 | Train Loss: 4.350 | Val Loss : 7.522\n"
     ]
    },
    {
     "name": "stderr",
     "output_type": "stream",
     "text": [
      "100%|██████████| 346/346 [01:18<00:00,  4.39it/s]\n"
     ]
    },
    {
     "name": "stdout",
     "output_type": "stream",
     "text": [
      "Epoch: 169 | Train Loss: 4.353 | Val Loss : 7.534\n"
     ]
    },
    {
     "name": "stderr",
     "output_type": "stream",
     "text": [
      "100%|██████████| 346/346 [01:18<00:00,  4.40it/s]\n"
     ]
    },
    {
     "name": "stdout",
     "output_type": "stream",
     "text": [
      "Epoch: 170 | Train Loss: 4.353 | Val Loss : 7.514\n"
     ]
    },
    {
     "name": "stderr",
     "output_type": "stream",
     "text": [
      "100%|██████████| 346/346 [01:18<00:00,  4.38it/s]\n"
     ]
    },
    {
     "name": "stdout",
     "output_type": "stream",
     "text": [
      "Epoch: 171 | Train Loss: 4.354 | Val Loss : 7.516\n"
     ]
    },
    {
     "name": "stderr",
     "output_type": "stream",
     "text": [
      "100%|██████████| 346/346 [01:18<00:00,  4.40it/s]\n"
     ]
    },
    {
     "name": "stdout",
     "output_type": "stream",
     "text": [
      "Epoch: 172 | Train Loss: 4.351 | Val Loss : 7.529\n"
     ]
    },
    {
     "name": "stderr",
     "output_type": "stream",
     "text": [
      "100%|██████████| 346/346 [01:18<00:00,  4.39it/s]\n"
     ]
    },
    {
     "name": "stdout",
     "output_type": "stream",
     "text": [
      "Epoch: 173 | Train Loss: 4.344 | Val Loss : 7.524\n"
     ]
    },
    {
     "name": "stderr",
     "output_type": "stream",
     "text": [
      "100%|██████████| 346/346 [01:18<00:00,  4.39it/s]\n"
     ]
    },
    {
     "name": "stdout",
     "output_type": "stream",
     "text": [
      "Epoch: 174 | Train Loss: 4.342 | Val Loss : 7.526\n"
     ]
    },
    {
     "name": "stderr",
     "output_type": "stream",
     "text": [
      "100%|██████████| 346/346 [01:18<00:00,  4.40it/s]\n"
     ]
    },
    {
     "name": "stdout",
     "output_type": "stream",
     "text": [
      "Epoch: 175 | Train Loss: 4.350 | Val Loss : 7.505\n"
     ]
    },
    {
     "name": "stderr",
     "output_type": "stream",
     "text": [
      "100%|██████████| 346/346 [01:18<00:00,  4.39it/s]\n"
     ]
    },
    {
     "name": "stdout",
     "output_type": "stream",
     "text": [
      "Epoch: 176 | Train Loss: 4.339 | Val Loss : 7.522\n"
     ]
    },
    {
     "name": "stderr",
     "output_type": "stream",
     "text": [
      "100%|██████████| 346/346 [01:18<00:00,  4.40it/s]\n"
     ]
    },
    {
     "name": "stdout",
     "output_type": "stream",
     "text": [
      "Epoch: 177 | Train Loss: 4.351 | Val Loss : 7.540\n"
     ]
    },
    {
     "name": "stderr",
     "output_type": "stream",
     "text": [
      "100%|██████████| 346/346 [01:18<00:00,  4.40it/s]\n"
     ]
    },
    {
     "name": "stdout",
     "output_type": "stream",
     "text": [
      "Epoch: 178 | Train Loss: 4.344 | Val Loss : 7.527\n"
     ]
    },
    {
     "name": "stderr",
     "output_type": "stream",
     "text": [
      "100%|██████████| 346/346 [01:18<00:00,  4.40it/s]\n"
     ]
    },
    {
     "name": "stdout",
     "output_type": "stream",
     "text": [
      "Epoch: 179 | Train Loss: 4.346 | Val Loss : 7.532\n"
     ]
    },
    {
     "name": "stderr",
     "output_type": "stream",
     "text": [
      "100%|██████████| 346/346 [01:18<00:00,  4.38it/s]\n"
     ]
    },
    {
     "name": "stdout",
     "output_type": "stream",
     "text": [
      "Epoch: 180 | Train Loss: 4.340 | Val Loss : 7.520\n"
     ]
    },
    {
     "name": "stderr",
     "output_type": "stream",
     "text": [
      "100%|██████████| 346/346 [01:18<00:00,  4.39it/s]\n"
     ]
    },
    {
     "name": "stdout",
     "output_type": "stream",
     "text": [
      "Epoch: 181 | Train Loss: 4.339 | Val Loss : 7.528\n"
     ]
    },
    {
     "name": "stderr",
     "output_type": "stream",
     "text": [
      "100%|██████████| 346/346 [01:18<00:00,  4.39it/s]\n"
     ]
    },
    {
     "name": "stdout",
     "output_type": "stream",
     "text": [
      "Epoch: 182 | Train Loss: 4.340 | Val Loss : 7.525\n"
     ]
    },
    {
     "name": "stderr",
     "output_type": "stream",
     "text": [
      "100%|██████████| 346/346 [01:18<00:00,  4.39it/s]\n"
     ]
    },
    {
     "name": "stdout",
     "output_type": "stream",
     "text": [
      "Epoch: 183 | Train Loss: 4.336 | Val Loss : 7.540\n"
     ]
    },
    {
     "name": "stderr",
     "output_type": "stream",
     "text": [
      "100%|██████████| 346/346 [01:18<00:00,  4.40it/s]\n"
     ]
    },
    {
     "name": "stdout",
     "output_type": "stream",
     "text": [
      "Epoch: 184 | Train Loss: 4.329 | Val Loss : 7.530\n"
     ]
    },
    {
     "name": "stderr",
     "output_type": "stream",
     "text": [
      "100%|██████████| 346/346 [01:18<00:00,  4.39it/s]\n"
     ]
    },
    {
     "name": "stdout",
     "output_type": "stream",
     "text": [
      "Epoch: 185 | Train Loss: 4.332 | Val Loss : 7.547\n"
     ]
    },
    {
     "name": "stderr",
     "output_type": "stream",
     "text": [
      "100%|██████████| 346/346 [01:18<00:00,  4.39it/s]\n"
     ]
    },
    {
     "name": "stdout",
     "output_type": "stream",
     "text": [
      "Epoch: 186 | Train Loss: 4.343 | Val Loss : 7.539\n"
     ]
    },
    {
     "name": "stderr",
     "output_type": "stream",
     "text": [
      "100%|██████████| 346/346 [01:19<00:00,  4.38it/s]\n"
     ]
    },
    {
     "name": "stdout",
     "output_type": "stream",
     "text": [
      "Epoch: 187 | Train Loss: 4.325 | Val Loss : 7.534\n"
     ]
    },
    {
     "name": "stderr",
     "output_type": "stream",
     "text": [
      "100%|██████████| 346/346 [01:18<00:00,  4.38it/s]\n"
     ]
    },
    {
     "name": "stdout",
     "output_type": "stream",
     "text": [
      "Epoch: 188 | Train Loss: 4.327 | Val Loss : 7.548\n"
     ]
    },
    {
     "name": "stderr",
     "output_type": "stream",
     "text": [
      "100%|██████████| 346/346 [01:18<00:00,  4.41it/s]\n"
     ]
    },
    {
     "name": "stdout",
     "output_type": "stream",
     "text": [
      "Epoch: 189 | Train Loss: 4.328 | Val Loss : 7.541\n"
     ]
    },
    {
     "name": "stderr",
     "output_type": "stream",
     "text": [
      "100%|██████████| 346/346 [01:19<00:00,  4.36it/s]\n"
     ]
    },
    {
     "name": "stdout",
     "output_type": "stream",
     "text": [
      "Epoch: 190 | Train Loss: 4.323 | Val Loss : 7.532\n"
     ]
    },
    {
     "name": "stderr",
     "output_type": "stream",
     "text": [
      "100%|██████████| 346/346 [01:18<00:00,  4.38it/s]\n"
     ]
    },
    {
     "name": "stdout",
     "output_type": "stream",
     "text": [
      "Epoch: 191 | Train Loss: 4.324 | Val Loss : 7.527\n"
     ]
    },
    {
     "name": "stderr",
     "output_type": "stream",
     "text": [
      "100%|██████████| 346/346 [01:19<00:00,  4.38it/s]\n"
     ]
    },
    {
     "name": "stdout",
     "output_type": "stream",
     "text": [
      "Epoch: 192 | Train Loss: 4.329 | Val Loss : 7.529\n"
     ]
    },
    {
     "name": "stderr",
     "output_type": "stream",
     "text": [
      "100%|██████████| 346/346 [01:18<00:00,  4.39it/s]\n"
     ]
    },
    {
     "name": "stdout",
     "output_type": "stream",
     "text": [
      "Epoch: 193 | Train Loss: 4.323 | Val Loss : 7.542\n"
     ]
    },
    {
     "name": "stderr",
     "output_type": "stream",
     "text": [
      "100%|██████████| 346/346 [01:19<00:00,  4.37it/s]\n"
     ]
    },
    {
     "name": "stdout",
     "output_type": "stream",
     "text": [
      "Epoch: 194 | Train Loss: 4.326 | Val Loss : 7.547\n"
     ]
    },
    {
     "name": "stderr",
     "output_type": "stream",
     "text": [
      "100%|██████████| 346/346 [01:19<00:00,  4.37it/s]\n"
     ]
    },
    {
     "name": "stdout",
     "output_type": "stream",
     "text": [
      "Epoch: 195 | Train Loss: 4.325 | Val Loss : 7.531\n"
     ]
    },
    {
     "name": "stderr",
     "output_type": "stream",
     "text": [
      "100%|██████████| 346/346 [01:19<00:00,  4.36it/s]\n"
     ]
    },
    {
     "name": "stdout",
     "output_type": "stream",
     "text": [
      "Epoch: 196 | Train Loss: 4.323 | Val Loss : 7.561\n"
     ]
    },
    {
     "name": "stderr",
     "output_type": "stream",
     "text": [
      "100%|██████████| 346/346 [01:18<00:00,  4.39it/s]\n"
     ]
    },
    {
     "name": "stdout",
     "output_type": "stream",
     "text": [
      "Epoch: 197 | Train Loss: 4.319 | Val Loss : 7.532\n"
     ]
    },
    {
     "name": "stderr",
     "output_type": "stream",
     "text": [
      "100%|██████████| 346/346 [01:19<00:00,  4.36it/s]\n"
     ]
    },
    {
     "name": "stdout",
     "output_type": "stream",
     "text": [
      "Epoch: 198 | Train Loss: 4.323 | Val Loss : 7.557\n"
     ]
    },
    {
     "name": "stderr",
     "output_type": "stream",
     "text": [
      "100%|██████████| 346/346 [01:18<00:00,  4.39it/s]\n"
     ]
    },
    {
     "name": "stdout",
     "output_type": "stream",
     "text": [
      "Epoch: 199 | Train Loss: 4.324 | Val Loss : 7.545\n"
     ]
    },
    {
     "name": "stderr",
     "output_type": "stream",
     "text": [
      "100%|██████████| 346/346 [01:19<00:00,  4.36it/s]\n"
     ]
    },
    {
     "name": "stdout",
     "output_type": "stream",
     "text": [
      "Epoch: 200 | Train Loss: 4.322 | Val Loss : 7.534\n"
     ]
    },
    {
     "name": "stderr",
     "output_type": "stream",
     "text": [
      "100%|██████████| 346/346 [01:19<00:00,  4.34it/s]\n"
     ]
    },
    {
     "name": "stdout",
     "output_type": "stream",
     "text": [
      "Epoch: 201 | Train Loss: 4.315 | Val Loss : 7.535\n"
     ]
    },
    {
     "name": "stderr",
     "output_type": "stream",
     "text": [
      "100%|██████████| 346/346 [01:18<00:00,  4.40it/s]\n"
     ]
    },
    {
     "name": "stdout",
     "output_type": "stream",
     "text": [
      "Epoch: 202 | Train Loss: 4.315 | Val Loss : 7.548\n"
     ]
    },
    {
     "name": "stderr",
     "output_type": "stream",
     "text": [
      "100%|██████████| 346/346 [01:18<00:00,  4.41it/s]\n"
     ]
    },
    {
     "name": "stdout",
     "output_type": "stream",
     "text": [
      "Epoch: 203 | Train Loss: 4.314 | Val Loss : 7.545\n"
     ]
    },
    {
     "name": "stderr",
     "output_type": "stream",
     "text": [
      "100%|██████████| 346/346 [01:18<00:00,  4.42it/s]\n"
     ]
    },
    {
     "name": "stdout",
     "output_type": "stream",
     "text": [
      "Epoch: 204 | Train Loss: 4.318 | Val Loss : 7.530\n"
     ]
    },
    {
     "name": "stderr",
     "output_type": "stream",
     "text": [
      "100%|██████████| 346/346 [01:18<00:00,  4.38it/s]\n"
     ]
    },
    {
     "name": "stdout",
     "output_type": "stream",
     "text": [
      "Epoch: 205 | Train Loss: 4.306 | Val Loss : 7.539\n"
     ]
    },
    {
     "name": "stderr",
     "output_type": "stream",
     "text": [
      "100%|██████████| 346/346 [01:18<00:00,  4.42it/s]\n"
     ]
    },
    {
     "name": "stdout",
     "output_type": "stream",
     "text": [
      "Epoch: 206 | Train Loss: 4.308 | Val Loss : 7.547\n"
     ]
    },
    {
     "name": "stderr",
     "output_type": "stream",
     "text": [
      "100%|██████████| 346/346 [01:18<00:00,  4.39it/s]\n"
     ]
    },
    {
     "name": "stdout",
     "output_type": "stream",
     "text": [
      "Epoch: 207 | Train Loss: 4.307 | Val Loss : 7.558\n"
     ]
    },
    {
     "name": "stderr",
     "output_type": "stream",
     "text": [
      "100%|██████████| 346/346 [01:18<00:00,  4.41it/s]\n"
     ]
    },
    {
     "name": "stdout",
     "output_type": "stream",
     "text": [
      "Epoch: 208 | Train Loss: 4.309 | Val Loss : 7.538\n"
     ]
    },
    {
     "name": "stderr",
     "output_type": "stream",
     "text": [
      "100%|██████████| 346/346 [01:19<00:00,  4.38it/s]\n"
     ]
    },
    {
     "name": "stdout",
     "output_type": "stream",
     "text": [
      "Epoch: 209 | Train Loss: 4.307 | Val Loss : 7.555\n"
     ]
    },
    {
     "name": "stderr",
     "output_type": "stream",
     "text": [
      "100%|██████████| 346/346 [01:19<00:00,  4.38it/s]\n"
     ]
    },
    {
     "name": "stdout",
     "output_type": "stream",
     "text": [
      "Epoch: 210 | Train Loss: 4.303 | Val Loss : 7.551\n"
     ]
    },
    {
     "name": "stderr",
     "output_type": "stream",
     "text": [
      "100%|██████████| 346/346 [01:18<00:00,  4.41it/s]\n"
     ]
    },
    {
     "name": "stdout",
     "output_type": "stream",
     "text": [
      "Epoch: 211 | Train Loss: 4.307 | Val Loss : 7.537\n"
     ]
    },
    {
     "name": "stderr",
     "output_type": "stream",
     "text": [
      "100%|██████████| 346/346 [01:18<00:00,  4.41it/s]\n"
     ]
    },
    {
     "name": "stdout",
     "output_type": "stream",
     "text": [
      "Epoch: 212 | Train Loss: 4.309 | Val Loss : 7.538\n"
     ]
    },
    {
     "name": "stderr",
     "output_type": "stream",
     "text": [
      "100%|██████████| 346/346 [01:18<00:00,  4.40it/s]\n"
     ]
    },
    {
     "name": "stdout",
     "output_type": "stream",
     "text": [
      "Epoch: 213 | Train Loss: 4.306 | Val Loss : 7.575\n"
     ]
    },
    {
     "name": "stderr",
     "output_type": "stream",
     "text": [
      "100%|██████████| 346/346 [01:18<00:00,  4.42it/s]\n"
     ]
    },
    {
     "name": "stdout",
     "output_type": "stream",
     "text": [
      "Epoch: 214 | Train Loss: 4.302 | Val Loss : 7.568\n"
     ]
    },
    {
     "name": "stderr",
     "output_type": "stream",
     "text": [
      "100%|██████████| 346/346 [01:18<00:00,  4.41it/s]\n"
     ]
    },
    {
     "name": "stdout",
     "output_type": "stream",
     "text": [
      "Epoch: 215 | Train Loss: 4.304 | Val Loss : 7.552\n"
     ]
    },
    {
     "name": "stderr",
     "output_type": "stream",
     "text": [
      "100%|██████████| 346/346 [01:18<00:00,  4.40it/s]\n"
     ]
    },
    {
     "name": "stdout",
     "output_type": "stream",
     "text": [
      "Epoch: 216 | Train Loss: 4.306 | Val Loss : 7.555\n"
     ]
    },
    {
     "name": "stderr",
     "output_type": "stream",
     "text": [
      "100%|██████████| 346/346 [01:18<00:00,  4.39it/s]\n"
     ]
    },
    {
     "name": "stdout",
     "output_type": "stream",
     "text": [
      "Epoch: 217 | Train Loss: 4.300 | Val Loss : 7.561\n"
     ]
    },
    {
     "name": "stderr",
     "output_type": "stream",
     "text": [
      "100%|██████████| 346/346 [01:18<00:00,  4.41it/s]\n"
     ]
    },
    {
     "name": "stdout",
     "output_type": "stream",
     "text": [
      "Epoch: 218 | Train Loss: 4.299 | Val Loss : 7.558\n"
     ]
    },
    {
     "name": "stderr",
     "output_type": "stream",
     "text": [
      "100%|██████████| 346/346 [01:18<00:00,  4.40it/s]\n"
     ]
    },
    {
     "name": "stdout",
     "output_type": "stream",
     "text": [
      "Epoch: 219 | Train Loss: 4.300 | Val Loss : 7.558\n"
     ]
    },
    {
     "name": "stderr",
     "output_type": "stream",
     "text": [
      "100%|██████████| 346/346 [01:18<00:00,  4.40it/s]\n"
     ]
    },
    {
     "name": "stdout",
     "output_type": "stream",
     "text": [
      "Epoch: 220 | Train Loss: 4.296 | Val Loss : 7.585\n"
     ]
    },
    {
     "name": "stderr",
     "output_type": "stream",
     "text": [
      "100%|██████████| 346/346 [01:18<00:00,  4.41it/s]\n"
     ]
    },
    {
     "name": "stdout",
     "output_type": "stream",
     "text": [
      "Epoch: 221 | Train Loss: 4.294 | Val Loss : 7.550\n"
     ]
    },
    {
     "name": "stderr",
     "output_type": "stream",
     "text": [
      "100%|██████████| 346/346 [01:18<00:00,  4.39it/s]\n"
     ]
    },
    {
     "name": "stdout",
     "output_type": "stream",
     "text": [
      "Epoch: 222 | Train Loss: 4.298 | Val Loss : 7.544\n"
     ]
    },
    {
     "name": "stderr",
     "output_type": "stream",
     "text": [
      "100%|██████████| 346/346 [01:18<00:00,  4.41it/s]\n"
     ]
    },
    {
     "name": "stdout",
     "output_type": "stream",
     "text": [
      "Epoch: 223 | Train Loss: 4.289 | Val Loss : 7.570\n"
     ]
    },
    {
     "name": "stderr",
     "output_type": "stream",
     "text": [
      "100%|██████████| 346/346 [01:18<00:00,  4.40it/s]\n"
     ]
    },
    {
     "name": "stdout",
     "output_type": "stream",
     "text": [
      "Epoch: 224 | Train Loss: 4.296 | Val Loss : 7.565\n"
     ]
    },
    {
     "name": "stderr",
     "output_type": "stream",
     "text": [
      "100%|██████████| 346/346 [01:18<00:00,  4.40it/s]\n"
     ]
    },
    {
     "name": "stdout",
     "output_type": "stream",
     "text": [
      "Epoch: 225 | Train Loss: 4.297 | Val Loss : 7.569\n"
     ]
    },
    {
     "name": "stderr",
     "output_type": "stream",
     "text": [
      "100%|██████████| 346/346 [01:18<00:00,  4.40it/s]\n"
     ]
    },
    {
     "name": "stdout",
     "output_type": "stream",
     "text": [
      "Epoch: 226 | Train Loss: 4.289 | Val Loss : 7.573\n"
     ]
    },
    {
     "name": "stderr",
     "output_type": "stream",
     "text": [
      "100%|██████████| 346/346 [01:19<00:00,  4.38it/s]\n"
     ]
    },
    {
     "name": "stdout",
     "output_type": "stream",
     "text": [
      "Epoch: 227 | Train Loss: 4.294 | Val Loss : 7.552\n"
     ]
    },
    {
     "name": "stderr",
     "output_type": "stream",
     "text": [
      "100%|██████████| 346/346 [01:18<00:00,  4.40it/s]\n"
     ]
    },
    {
     "name": "stdout",
     "output_type": "stream",
     "text": [
      "Epoch: 228 | Train Loss: 4.295 | Val Loss : 7.563\n"
     ]
    },
    {
     "name": "stderr",
     "output_type": "stream",
     "text": [
      "100%|██████████| 346/346 [01:18<00:00,  4.44it/s]\n"
     ]
    },
    {
     "name": "stdout",
     "output_type": "stream",
     "text": [
      "Epoch: 229 | Train Loss: 4.295 | Val Loss : 7.563\n"
     ]
    },
    {
     "name": "stderr",
     "output_type": "stream",
     "text": [
      "100%|██████████| 346/346 [01:18<00:00,  4.43it/s]\n"
     ]
    },
    {
     "name": "stdout",
     "output_type": "stream",
     "text": [
      "Epoch: 230 | Train Loss: 4.286 | Val Loss : 7.563\n"
     ]
    },
    {
     "name": "stderr",
     "output_type": "stream",
     "text": [
      "100%|██████████| 346/346 [01:18<00:00,  4.42it/s]\n"
     ]
    },
    {
     "name": "stdout",
     "output_type": "stream",
     "text": [
      "Epoch: 231 | Train Loss: 4.285 | Val Loss : 7.563\n"
     ]
    },
    {
     "name": "stderr",
     "output_type": "stream",
     "text": [
      "100%|██████████| 346/346 [01:18<00:00,  4.42it/s]\n"
     ]
    },
    {
     "name": "stdout",
     "output_type": "stream",
     "text": [
      "Epoch: 232 | Train Loss: 4.290 | Val Loss : 7.563\n"
     ]
    },
    {
     "name": "stderr",
     "output_type": "stream",
     "text": [
      "100%|██████████| 346/346 [01:18<00:00,  4.42it/s]\n"
     ]
    },
    {
     "name": "stdout",
     "output_type": "stream",
     "text": [
      "Epoch: 233 | Train Loss: 4.286 | Val Loss : 7.566\n"
     ]
    },
    {
     "name": "stderr",
     "output_type": "stream",
     "text": [
      "100%|██████████| 346/346 [01:18<00:00,  4.42it/s]\n"
     ]
    },
    {
     "name": "stdout",
     "output_type": "stream",
     "text": [
      "Epoch: 234 | Train Loss: 4.286 | Val Loss : 7.561\n"
     ]
    },
    {
     "name": "stderr",
     "output_type": "stream",
     "text": [
      "100%|██████████| 346/346 [01:18<00:00,  4.43it/s]\n"
     ]
    },
    {
     "name": "stdout",
     "output_type": "stream",
     "text": [
      "Epoch: 235 | Train Loss: 4.289 | Val Loss : 7.570\n"
     ]
    },
    {
     "name": "stderr",
     "output_type": "stream",
     "text": [
      "100%|██████████| 346/346 [01:19<00:00,  4.38it/s]\n"
     ]
    },
    {
     "name": "stdout",
     "output_type": "stream",
     "text": [
      "Epoch: 236 | Train Loss: 4.281 | Val Loss : 7.580\n"
     ]
    },
    {
     "name": "stderr",
     "output_type": "stream",
     "text": [
      "100%|██████████| 346/346 [01:18<00:00,  4.43it/s]\n"
     ]
    },
    {
     "name": "stdout",
     "output_type": "stream",
     "text": [
      "Epoch: 237 | Train Loss: 4.288 | Val Loss : 7.571\n"
     ]
    },
    {
     "name": "stderr",
     "output_type": "stream",
     "text": [
      "100%|██████████| 346/346 [01:17<00:00,  4.44it/s]\n"
     ]
    },
    {
     "name": "stdout",
     "output_type": "stream",
     "text": [
      "Epoch: 238 | Train Loss: 4.285 | Val Loss : 7.564\n"
     ]
    },
    {
     "name": "stderr",
     "output_type": "stream",
     "text": [
      "100%|██████████| 346/346 [01:18<00:00,  4.41it/s]\n"
     ]
    },
    {
     "name": "stdout",
     "output_type": "stream",
     "text": [
      "Epoch: 239 | Train Loss: 4.278 | Val Loss : 7.584\n"
     ]
    },
    {
     "name": "stderr",
     "output_type": "stream",
     "text": [
      "100%|██████████| 346/346 [01:18<00:00,  4.43it/s]\n"
     ]
    },
    {
     "name": "stdout",
     "output_type": "stream",
     "text": [
      "Epoch: 240 | Train Loss: 4.286 | Val Loss : 7.565\n"
     ]
    },
    {
     "name": "stderr",
     "output_type": "stream",
     "text": [
      "100%|██████████| 346/346 [01:18<00:00,  4.41it/s]\n"
     ]
    },
    {
     "name": "stdout",
     "output_type": "stream",
     "text": [
      "Epoch: 241 | Train Loss: 4.281 | Val Loss : 7.580\n"
     ]
    },
    {
     "name": "stderr",
     "output_type": "stream",
     "text": [
      "100%|██████████| 346/346 [01:18<00:00,  4.43it/s]\n"
     ]
    },
    {
     "name": "stdout",
     "output_type": "stream",
     "text": [
      "Epoch: 242 | Train Loss: 4.278 | Val Loss : 7.575\n"
     ]
    },
    {
     "name": "stderr",
     "output_type": "stream",
     "text": [
      "100%|██████████| 346/346 [01:18<00:00,  4.38it/s]\n"
     ]
    },
    {
     "name": "stdout",
     "output_type": "stream",
     "text": [
      "Epoch: 243 | Train Loss: 4.284 | Val Loss : 7.579\n"
     ]
    },
    {
     "name": "stderr",
     "output_type": "stream",
     "text": [
      "100%|██████████| 346/346 [01:18<00:00,  4.41it/s]\n"
     ]
    },
    {
     "name": "stdout",
     "output_type": "stream",
     "text": [
      "Epoch: 244 | Train Loss: 4.273 | Val Loss : 7.593\n"
     ]
    },
    {
     "name": "stderr",
     "output_type": "stream",
     "text": [
      "100%|██████████| 346/346 [01:18<00:00,  4.42it/s]\n"
     ]
    },
    {
     "name": "stdout",
     "output_type": "stream",
     "text": [
      "Epoch: 245 | Train Loss: 4.278 | Val Loss : 7.571\n"
     ]
    },
    {
     "name": "stderr",
     "output_type": "stream",
     "text": [
      "100%|██████████| 346/346 [01:18<00:00,  4.42it/s]\n"
     ]
    },
    {
     "name": "stdout",
     "output_type": "stream",
     "text": [
      "Epoch: 246 | Train Loss: 4.275 | Val Loss : 7.575\n"
     ]
    },
    {
     "name": "stderr",
     "output_type": "stream",
     "text": [
      "100%|██████████| 346/346 [01:18<00:00,  4.41it/s]\n"
     ]
    },
    {
     "name": "stdout",
     "output_type": "stream",
     "text": [
      "Epoch: 247 | Train Loss: 4.278 | Val Loss : 7.573\n"
     ]
    },
    {
     "name": "stderr",
     "output_type": "stream",
     "text": [
      "100%|██████████| 346/346 [01:18<00:00,  4.43it/s]\n"
     ]
    },
    {
     "name": "stdout",
     "output_type": "stream",
     "text": [
      "Epoch: 248 | Train Loss: 4.272 | Val Loss : 7.572\n"
     ]
    },
    {
     "name": "stderr",
     "output_type": "stream",
     "text": [
      "100%|██████████| 346/346 [01:18<00:00,  4.43it/s]\n"
     ]
    },
    {
     "name": "stdout",
     "output_type": "stream",
     "text": [
      "Epoch: 249 | Train Loss: 4.270 | Val Loss : 7.577\n"
     ]
    },
    {
     "name": "stderr",
     "output_type": "stream",
     "text": [
      "100%|██████████| 346/346 [01:18<00:00,  4.43it/s]\n"
     ]
    },
    {
     "name": "stdout",
     "output_type": "stream",
     "text": [
      "Epoch: 250 | Train Loss: 4.272 | Val Loss : 7.581\n"
     ]
    },
    {
     "name": "stderr",
     "output_type": "stream",
     "text": [
      "100%|██████████| 346/346 [01:17<00:00,  4.44it/s]\n"
     ]
    },
    {
     "name": "stdout",
     "output_type": "stream",
     "text": [
      "Epoch: 251 | Train Loss: 4.264 | Val Loss : 7.595\n"
     ]
    },
    {
     "name": "stderr",
     "output_type": "stream",
     "text": [
      "100%|██████████| 346/346 [01:18<00:00,  4.42it/s]\n"
     ]
    },
    {
     "name": "stdout",
     "output_type": "stream",
     "text": [
      "Epoch: 252 | Train Loss: 4.269 | Val Loss : 7.587\n"
     ]
    },
    {
     "name": "stderr",
     "output_type": "stream",
     "text": [
      "100%|██████████| 346/346 [01:18<00:00,  4.42it/s]\n"
     ]
    },
    {
     "name": "stdout",
     "output_type": "stream",
     "text": [
      "Epoch: 253 | Train Loss: 4.269 | Val Loss : 7.570\n"
     ]
    },
    {
     "name": "stderr",
     "output_type": "stream",
     "text": [
      "100%|██████████| 346/346 [01:18<00:00,  4.43it/s]\n"
     ]
    },
    {
     "name": "stdout",
     "output_type": "stream",
     "text": [
      "Epoch: 254 | Train Loss: 4.268 | Val Loss : 7.582\n"
     ]
    },
    {
     "name": "stderr",
     "output_type": "stream",
     "text": [
      "100%|██████████| 346/346 [01:18<00:00,  4.42it/s]\n"
     ]
    },
    {
     "name": "stdout",
     "output_type": "stream",
     "text": [
      "Epoch: 255 | Train Loss: 4.269 | Val Loss : 7.598\n"
     ]
    },
    {
     "name": "stderr",
     "output_type": "stream",
     "text": [
      "100%|██████████| 346/346 [01:18<00:00,  4.44it/s]\n"
     ]
    },
    {
     "name": "stdout",
     "output_type": "stream",
     "text": [
      "Epoch: 256 | Train Loss: 4.260 | Val Loss : 7.583\n"
     ]
    },
    {
     "name": "stderr",
     "output_type": "stream",
     "text": [
      "100%|██████████| 346/346 [01:18<00:00,  4.42it/s]\n"
     ]
    },
    {
     "name": "stdout",
     "output_type": "stream",
     "text": [
      "Epoch: 257 | Train Loss: 4.256 | Val Loss : 7.591\n"
     ]
    },
    {
     "name": "stderr",
     "output_type": "stream",
     "text": [
      "100%|██████████| 346/346 [01:18<00:00,  4.40it/s]\n"
     ]
    },
    {
     "name": "stdout",
     "output_type": "stream",
     "text": [
      "Epoch: 258 | Train Loss: 4.266 | Val Loss : 7.589\n"
     ]
    },
    {
     "name": "stderr",
     "output_type": "stream",
     "text": [
      "100%|██████████| 346/346 [01:18<00:00,  4.42it/s]\n"
     ]
    },
    {
     "name": "stdout",
     "output_type": "stream",
     "text": [
      "Epoch: 259 | Train Loss: 4.261 | Val Loss : 7.576\n"
     ]
    },
    {
     "name": "stderr",
     "output_type": "stream",
     "text": [
      "100%|██████████| 346/346 [01:18<00:00,  4.42it/s]\n"
     ]
    },
    {
     "name": "stdout",
     "output_type": "stream",
     "text": [
      "Epoch: 260 | Train Loss: 4.260 | Val Loss : 7.585\n"
     ]
    },
    {
     "name": "stderr",
     "output_type": "stream",
     "text": [
      "100%|██████████| 346/346 [01:18<00:00,  4.43it/s]\n"
     ]
    },
    {
     "name": "stdout",
     "output_type": "stream",
     "text": [
      "Epoch: 261 | Train Loss: 4.260 | Val Loss : 7.562\n"
     ]
    },
    {
     "name": "stderr",
     "output_type": "stream",
     "text": [
      "100%|██████████| 346/346 [01:18<00:00,  4.43it/s]\n"
     ]
    },
    {
     "name": "stdout",
     "output_type": "stream",
     "text": [
      "Epoch: 262 | Train Loss: 4.264 | Val Loss : 7.574\n"
     ]
    },
    {
     "name": "stderr",
     "output_type": "stream",
     "text": [
      "100%|██████████| 346/346 [01:18<00:00,  4.39it/s]\n"
     ]
    },
    {
     "name": "stdout",
     "output_type": "stream",
     "text": [
      "Epoch: 263 | Train Loss: 4.263 | Val Loss : 7.588\n"
     ]
    },
    {
     "name": "stderr",
     "output_type": "stream",
     "text": [
      "100%|██████████| 346/346 [01:18<00:00,  4.43it/s]\n"
     ]
    },
    {
     "name": "stdout",
     "output_type": "stream",
     "text": [
      "Epoch: 264 | Train Loss: 4.257 | Val Loss : 7.596\n"
     ]
    },
    {
     "name": "stderr",
     "output_type": "stream",
     "text": [
      "100%|██████████| 346/346 [01:18<00:00,  4.41it/s]\n"
     ]
    },
    {
     "name": "stdout",
     "output_type": "stream",
     "text": [
      "Epoch: 265 | Train Loss: 4.261 | Val Loss : 7.572\n"
     ]
    },
    {
     "name": "stderr",
     "output_type": "stream",
     "text": [
      "100%|██████████| 346/346 [01:18<00:00,  4.44it/s]\n"
     ]
    },
    {
     "name": "stdout",
     "output_type": "stream",
     "text": [
      "Epoch: 266 | Train Loss: 4.261 | Val Loss : 7.589\n"
     ]
    },
    {
     "name": "stderr",
     "output_type": "stream",
     "text": [
      "100%|██████████| 346/346 [01:18<00:00,  4.43it/s]\n"
     ]
    },
    {
     "name": "stdout",
     "output_type": "stream",
     "text": [
      "Epoch: 267 | Train Loss: 4.255 | Val Loss : 7.585\n"
     ]
    },
    {
     "name": "stderr",
     "output_type": "stream",
     "text": [
      "100%|██████████| 346/346 [01:18<00:00,  4.42it/s]\n"
     ]
    },
    {
     "name": "stdout",
     "output_type": "stream",
     "text": [
      "Epoch: 268 | Train Loss: 4.251 | Val Loss : 7.601\n"
     ]
    },
    {
     "name": "stderr",
     "output_type": "stream",
     "text": [
      "100%|██████████| 346/346 [01:18<00:00,  4.39it/s]\n"
     ]
    },
    {
     "name": "stdout",
     "output_type": "stream",
     "text": [
      "Epoch: 269 | Train Loss: 4.254 | Val Loss : 7.578\n"
     ]
    },
    {
     "name": "stderr",
     "output_type": "stream",
     "text": [
      "100%|██████████| 346/346 [01:18<00:00,  4.42it/s]\n"
     ]
    },
    {
     "name": "stdout",
     "output_type": "stream",
     "text": [
      "Epoch: 270 | Train Loss: 4.256 | Val Loss : 7.566\n"
     ]
    },
    {
     "name": "stderr",
     "output_type": "stream",
     "text": [
      "100%|██████████| 346/346 [01:18<00:00,  4.40it/s]\n"
     ]
    },
    {
     "name": "stdout",
     "output_type": "stream",
     "text": [
      "Epoch: 271 | Train Loss: 4.248 | Val Loss : 7.580\n"
     ]
    },
    {
     "name": "stderr",
     "output_type": "stream",
     "text": [
      "100%|██████████| 346/346 [01:18<00:00,  4.42it/s]\n"
     ]
    },
    {
     "name": "stdout",
     "output_type": "stream",
     "text": [
      "Epoch: 272 | Train Loss: 4.261 | Val Loss : 7.576\n"
     ]
    },
    {
     "name": "stderr",
     "output_type": "stream",
     "text": [
      "100%|██████████| 346/346 [01:18<00:00,  4.42it/s]\n"
     ]
    },
    {
     "name": "stdout",
     "output_type": "stream",
     "text": [
      "Epoch: 273 | Train Loss: 4.252 | Val Loss : 7.597\n"
     ]
    },
    {
     "name": "stderr",
     "output_type": "stream",
     "text": [
      "100%|██████████| 346/346 [01:18<00:00,  4.41it/s]\n"
     ]
    },
    {
     "name": "stdout",
     "output_type": "stream",
     "text": [
      "Epoch: 274 | Train Loss: 4.257 | Val Loss : 7.604\n"
     ]
    },
    {
     "name": "stderr",
     "output_type": "stream",
     "text": [
      "100%|██████████| 346/346 [01:18<00:00,  4.41it/s]\n"
     ]
    },
    {
     "name": "stdout",
     "output_type": "stream",
     "text": [
      "Epoch: 275 | Train Loss: 4.243 | Val Loss : 7.588\n"
     ]
    },
    {
     "name": "stderr",
     "output_type": "stream",
     "text": [
      "100%|██████████| 346/346 [01:18<00:00,  4.42it/s]\n"
     ]
    },
    {
     "name": "stdout",
     "output_type": "stream",
     "text": [
      "Epoch: 276 | Train Loss: 4.250 | Val Loss : 7.596\n"
     ]
    },
    {
     "name": "stderr",
     "output_type": "stream",
     "text": [
      "100%|██████████| 346/346 [01:18<00:00,  4.42it/s]\n"
     ]
    },
    {
     "name": "stdout",
     "output_type": "stream",
     "text": [
      "Epoch: 277 | Train Loss: 4.251 | Val Loss : 7.592\n"
     ]
    },
    {
     "name": "stderr",
     "output_type": "stream",
     "text": [
      "100%|██████████| 346/346 [01:18<00:00,  4.42it/s]\n"
     ]
    },
    {
     "name": "stdout",
     "output_type": "stream",
     "text": [
      "Epoch: 278 | Train Loss: 4.252 | Val Loss : 7.572\n"
     ]
    },
    {
     "name": "stderr",
     "output_type": "stream",
     "text": [
      "100%|██████████| 346/346 [01:18<00:00,  4.41it/s]\n"
     ]
    },
    {
     "name": "stdout",
     "output_type": "stream",
     "text": [
      "Epoch: 279 | Train Loss: 4.247 | Val Loss : 7.595\n"
     ]
    },
    {
     "name": "stderr",
     "output_type": "stream",
     "text": [
      "100%|██████████| 346/346 [01:18<00:00,  4.39it/s]\n"
     ]
    },
    {
     "name": "stdout",
     "output_type": "stream",
     "text": [
      "Epoch: 280 | Train Loss: 4.246 | Val Loss : 7.590\n"
     ]
    },
    {
     "name": "stderr",
     "output_type": "stream",
     "text": [
      "100%|██████████| 346/346 [01:18<00:00,  4.39it/s]\n"
     ]
    },
    {
     "name": "stdout",
     "output_type": "stream",
     "text": [
      "Epoch: 281 | Train Loss: 4.248 | Val Loss : 7.604\n"
     ]
    },
    {
     "name": "stderr",
     "output_type": "stream",
     "text": [
      "100%|██████████| 346/346 [01:18<00:00,  4.40it/s]\n"
     ]
    },
    {
     "name": "stdout",
     "output_type": "stream",
     "text": [
      "Epoch: 282 | Train Loss: 4.258 | Val Loss : 7.604\n"
     ]
    },
    {
     "name": "stderr",
     "output_type": "stream",
     "text": [
      "100%|██████████| 346/346 [01:18<00:00,  4.40it/s]\n"
     ]
    },
    {
     "name": "stdout",
     "output_type": "stream",
     "text": [
      "Epoch: 283 | Train Loss: 4.249 | Val Loss : 7.602\n"
     ]
    },
    {
     "name": "stderr",
     "output_type": "stream",
     "text": [
      "100%|██████████| 346/346 [01:18<00:00,  4.40it/s]\n"
     ]
    },
    {
     "name": "stdout",
     "output_type": "stream",
     "text": [
      "Epoch: 284 | Train Loss: 4.252 | Val Loss : 7.595\n"
     ]
    },
    {
     "name": "stderr",
     "output_type": "stream",
     "text": [
      "100%|██████████| 346/346 [01:18<00:00,  4.39it/s]\n"
     ]
    },
    {
     "name": "stdout",
     "output_type": "stream",
     "text": [
      "Epoch: 285 | Train Loss: 4.247 | Val Loss : 7.619\n"
     ]
    },
    {
     "name": "stderr",
     "output_type": "stream",
     "text": [
      "100%|██████████| 346/346 [01:19<00:00,  4.37it/s]\n"
     ]
    },
    {
     "name": "stdout",
     "output_type": "stream",
     "text": [
      "Epoch: 286 | Train Loss: 4.246 | Val Loss : 7.597\n"
     ]
    },
    {
     "name": "stderr",
     "output_type": "stream",
     "text": [
      "100%|██████████| 346/346 [01:18<00:00,  4.38it/s]\n"
     ]
    },
    {
     "name": "stdout",
     "output_type": "stream",
     "text": [
      "Epoch: 287 | Train Loss: 4.248 | Val Loss : 7.593\n"
     ]
    },
    {
     "name": "stderr",
     "output_type": "stream",
     "text": [
      "100%|██████████| 346/346 [01:18<00:00,  4.41it/s]\n"
     ]
    },
    {
     "name": "stdout",
     "output_type": "stream",
     "text": [
      "Epoch: 288 | Train Loss: 4.250 | Val Loss : 7.604\n"
     ]
    },
    {
     "name": "stderr",
     "output_type": "stream",
     "text": [
      "100%|██████████| 346/346 [01:18<00:00,  4.40it/s]\n"
     ]
    },
    {
     "name": "stdout",
     "output_type": "stream",
     "text": [
      "Epoch: 289 | Train Loss: 4.244 | Val Loss : 7.614\n"
     ]
    },
    {
     "name": "stderr",
     "output_type": "stream",
     "text": [
      "100%|██████████| 346/346 [01:18<00:00,  4.39it/s]\n"
     ]
    },
    {
     "name": "stdout",
     "output_type": "stream",
     "text": [
      "Epoch: 290 | Train Loss: 4.238 | Val Loss : 7.602\n"
     ]
    },
    {
     "name": "stderr",
     "output_type": "stream",
     "text": [
      "100%|██████████| 346/346 [01:18<00:00,  4.39it/s]\n"
     ]
    },
    {
     "name": "stdout",
     "output_type": "stream",
     "text": [
      "Epoch: 291 | Train Loss: 4.238 | Val Loss : 7.595\n"
     ]
    },
    {
     "name": "stderr",
     "output_type": "stream",
     "text": [
      "100%|██████████| 346/346 [01:18<00:00,  4.40it/s]\n"
     ]
    },
    {
     "name": "stdout",
     "output_type": "stream",
     "text": [
      "Epoch: 292 | Train Loss: 4.247 | Val Loss : 7.635\n"
     ]
    },
    {
     "name": "stderr",
     "output_type": "stream",
     "text": [
      "100%|██████████| 346/346 [01:18<00:00,  4.40it/s]\n"
     ]
    },
    {
     "name": "stdout",
     "output_type": "stream",
     "text": [
      "Epoch: 293 | Train Loss: 4.238 | Val Loss : 7.606\n"
     ]
    },
    {
     "name": "stderr",
     "output_type": "stream",
     "text": [
      "100%|██████████| 346/346 [01:18<00:00,  4.39it/s]\n"
     ]
    },
    {
     "name": "stdout",
     "output_type": "stream",
     "text": [
      "Epoch: 294 | Train Loss: 4.246 | Val Loss : 7.601\n"
     ]
    },
    {
     "name": "stderr",
     "output_type": "stream",
     "text": [
      "100%|██████████| 346/346 [01:18<00:00,  4.39it/s]\n"
     ]
    },
    {
     "name": "stdout",
     "output_type": "stream",
     "text": [
      "Epoch: 295 | Train Loss: 4.239 | Val Loss : 7.618\n"
     ]
    },
    {
     "name": "stderr",
     "output_type": "stream",
     "text": [
      "100%|██████████| 346/346 [01:18<00:00,  4.39it/s]\n"
     ]
    },
    {
     "name": "stdout",
     "output_type": "stream",
     "text": [
      "Epoch: 296 | Train Loss: 4.234 | Val Loss : 7.591\n"
     ]
    },
    {
     "name": "stderr",
     "output_type": "stream",
     "text": [
      "100%|██████████| 346/346 [01:18<00:00,  4.39it/s]\n"
     ]
    },
    {
     "name": "stdout",
     "output_type": "stream",
     "text": [
      "Epoch: 297 | Train Loss: 4.236 | Val Loss : 7.596\n"
     ]
    },
    {
     "name": "stderr",
     "output_type": "stream",
     "text": [
      "100%|██████████| 346/346 [01:18<00:00,  4.38it/s]\n"
     ]
    },
    {
     "name": "stdout",
     "output_type": "stream",
     "text": [
      "Epoch: 298 | Train Loss: 4.231 | Val Loss : 7.611\n"
     ]
    },
    {
     "name": "stderr",
     "output_type": "stream",
     "text": [
      "100%|██████████| 346/346 [01:19<00:00,  4.36it/s]\n"
     ]
    },
    {
     "name": "stdout",
     "output_type": "stream",
     "text": [
      "Epoch: 299 | Train Loss: 4.240 | Val Loss : 7.599\n"
     ]
    },
    {
     "name": "stderr",
     "output_type": "stream",
     "text": [
      "100%|██████████| 346/346 [01:18<00:00,  4.39it/s]\n"
     ]
    },
    {
     "name": "stdout",
     "output_type": "stream",
     "text": [
      "Epoch: 300 | Train Loss: 4.232 | Val Loss : 7.611\n"
     ]
    },
    {
     "name": "stderr",
     "output_type": "stream",
     "text": [
      "100%|██████████| 346/346 [01:18<00:00,  4.41it/s]\n"
     ]
    },
    {
     "name": "stdout",
     "output_type": "stream",
     "text": [
      "Epoch: 301 | Train Loss: 4.234 | Val Loss : 7.613\n"
     ]
    },
    {
     "name": "stderr",
     "output_type": "stream",
     "text": [
      "100%|██████████| 346/346 [01:18<00:00,  4.41it/s]\n"
     ]
    },
    {
     "name": "stdout",
     "output_type": "stream",
     "text": [
      "Epoch: 302 | Train Loss: 4.240 | Val Loss : 7.612\n"
     ]
    },
    {
     "name": "stderr",
     "output_type": "stream",
     "text": [
      "100%|██████████| 346/346 [01:18<00:00,  4.41it/s]\n"
     ]
    },
    {
     "name": "stdout",
     "output_type": "stream",
     "text": [
      "Epoch: 303 | Train Loss: 4.230 | Val Loss : 7.638\n"
     ]
    },
    {
     "name": "stderr",
     "output_type": "stream",
     "text": [
      "100%|██████████| 346/346 [01:18<00:00,  4.40it/s]\n"
     ]
    },
    {
     "name": "stdout",
     "output_type": "stream",
     "text": [
      "Epoch: 304 | Train Loss: 4.229 | Val Loss : 7.619\n"
     ]
    },
    {
     "name": "stderr",
     "output_type": "stream",
     "text": [
      "100%|██████████| 346/346 [01:19<00:00,  4.36it/s]\n"
     ]
    },
    {
     "name": "stdout",
     "output_type": "stream",
     "text": [
      "Epoch: 305 | Train Loss: 4.232 | Val Loss : 7.606\n"
     ]
    },
    {
     "name": "stderr",
     "output_type": "stream",
     "text": [
      "100%|██████████| 346/346 [01:18<00:00,  4.40it/s]\n"
     ]
    },
    {
     "name": "stdout",
     "output_type": "stream",
     "text": [
      "Epoch: 306 | Train Loss: 4.221 | Val Loss : 7.605\n"
     ]
    },
    {
     "name": "stderr",
     "output_type": "stream",
     "text": [
      "100%|██████████| 346/346 [01:18<00:00,  4.41it/s]\n"
     ]
    },
    {
     "name": "stdout",
     "output_type": "stream",
     "text": [
      "Epoch: 307 | Train Loss: 4.219 | Val Loss : 7.619\n"
     ]
    },
    {
     "name": "stderr",
     "output_type": "stream",
     "text": [
      "100%|██████████| 346/346 [01:18<00:00,  4.42it/s]\n"
     ]
    },
    {
     "name": "stdout",
     "output_type": "stream",
     "text": [
      "Epoch: 308 | Train Loss: 4.231 | Val Loss : 7.599\n"
     ]
    },
    {
     "name": "stderr",
     "output_type": "stream",
     "text": [
      "100%|██████████| 346/346 [01:18<00:00,  4.38it/s]\n"
     ]
    },
    {
     "name": "stdout",
     "output_type": "stream",
     "text": [
      "Epoch: 309 | Train Loss: 4.232 | Val Loss : 7.612\n"
     ]
    },
    {
     "name": "stderr",
     "output_type": "stream",
     "text": [
      "100%|██████████| 346/346 [01:18<00:00,  4.40it/s]\n"
     ]
    },
    {
     "name": "stdout",
     "output_type": "stream",
     "text": [
      "Epoch: 310 | Train Loss: 4.225 | Val Loss : 7.636\n"
     ]
    },
    {
     "name": "stderr",
     "output_type": "stream",
     "text": [
      "100%|██████████| 346/346 [01:18<00:00,  4.39it/s]\n"
     ]
    },
    {
     "name": "stdout",
     "output_type": "stream",
     "text": [
      "Epoch: 311 | Train Loss: 4.226 | Val Loss : 7.596\n"
     ]
    },
    {
     "name": "stderr",
     "output_type": "stream",
     "text": [
      "100%|██████████| 346/346 [01:19<00:00,  4.35it/s]\n"
     ]
    },
    {
     "name": "stdout",
     "output_type": "stream",
     "text": [
      "Epoch: 312 | Train Loss: 4.232 | Val Loss : 7.626\n"
     ]
    },
    {
     "name": "stderr",
     "output_type": "stream",
     "text": [
      "100%|██████████| 346/346 [01:18<00:00,  4.38it/s]\n"
     ]
    },
    {
     "name": "stdout",
     "output_type": "stream",
     "text": [
      "Epoch: 313 | Train Loss: 4.224 | Val Loss : 7.616\n"
     ]
    },
    {
     "name": "stderr",
     "output_type": "stream",
     "text": [
      "100%|██████████| 346/346 [01:18<00:00,  4.40it/s]\n"
     ]
    },
    {
     "name": "stdout",
     "output_type": "stream",
     "text": [
      "Epoch: 314 | Train Loss: 4.215 | Val Loss : 7.613\n"
     ]
    },
    {
     "name": "stderr",
     "output_type": "stream",
     "text": [
      "100%|██████████| 346/346 [01:18<00:00,  4.38it/s]\n"
     ]
    },
    {
     "name": "stdout",
     "output_type": "stream",
     "text": [
      "Epoch: 315 | Train Loss: 4.223 | Val Loss : 7.628\n"
     ]
    },
    {
     "name": "stderr",
     "output_type": "stream",
     "text": [
      "100%|██████████| 346/346 [01:18<00:00,  4.40it/s]\n"
     ]
    },
    {
     "name": "stdout",
     "output_type": "stream",
     "text": [
      "Epoch: 316 | Train Loss: 4.223 | Val Loss : 7.616\n"
     ]
    },
    {
     "name": "stderr",
     "output_type": "stream",
     "text": [
      "100%|██████████| 346/346 [01:18<00:00,  4.40it/s]\n"
     ]
    },
    {
     "name": "stdout",
     "output_type": "stream",
     "text": [
      "Epoch: 317 | Train Loss: 4.215 | Val Loss : 7.621\n"
     ]
    },
    {
     "name": "stderr",
     "output_type": "stream",
     "text": [
      "100%|██████████| 346/346 [01:19<00:00,  4.37it/s]\n"
     ]
    },
    {
     "name": "stdout",
     "output_type": "stream",
     "text": [
      "Epoch: 318 | Train Loss: 4.220 | Val Loss : 7.619\n"
     ]
    },
    {
     "name": "stderr",
     "output_type": "stream",
     "text": [
      "100%|██████████| 346/346 [01:18<00:00,  4.40it/s]\n"
     ]
    },
    {
     "name": "stdout",
     "output_type": "stream",
     "text": [
      "Epoch: 319 | Train Loss: 4.220 | Val Loss : 7.630\n"
     ]
    },
    {
     "name": "stderr",
     "output_type": "stream",
     "text": [
      "100%|██████████| 346/346 [01:18<00:00,  4.40it/s]\n"
     ]
    },
    {
     "name": "stdout",
     "output_type": "stream",
     "text": [
      "Epoch: 320 | Train Loss: 4.210 | Val Loss : 7.617\n"
     ]
    },
    {
     "name": "stderr",
     "output_type": "stream",
     "text": [
      "100%|██████████| 346/346 [01:18<00:00,  4.40it/s]\n"
     ]
    },
    {
     "name": "stdout",
     "output_type": "stream",
     "text": [
      "Epoch: 321 | Train Loss: 4.219 | Val Loss : 7.627\n"
     ]
    },
    {
     "name": "stderr",
     "output_type": "stream",
     "text": [
      "100%|██████████| 346/346 [01:18<00:00,  4.40it/s]\n"
     ]
    },
    {
     "name": "stdout",
     "output_type": "stream",
     "text": [
      "Epoch: 322 | Train Loss: 4.215 | Val Loss : 7.628\n"
     ]
    },
    {
     "name": "stderr",
     "output_type": "stream",
     "text": [
      "100%|██████████| 346/346 [01:18<00:00,  4.41it/s]\n"
     ]
    },
    {
     "name": "stdout",
     "output_type": "stream",
     "text": [
      "Epoch: 323 | Train Loss: 4.212 | Val Loss : 7.628\n"
     ]
    },
    {
     "name": "stderr",
     "output_type": "stream",
     "text": [
      "100%|██████████| 346/346 [01:18<00:00,  4.40it/s]\n"
     ]
    },
    {
     "name": "stdout",
     "output_type": "stream",
     "text": [
      "Epoch: 324 | Train Loss: 4.216 | Val Loss : 7.624\n"
     ]
    },
    {
     "name": "stderr",
     "output_type": "stream",
     "text": [
      "100%|██████████| 346/346 [01:18<00:00,  4.39it/s]\n"
     ]
    },
    {
     "name": "stdout",
     "output_type": "stream",
     "text": [
      "Epoch: 325 | Train Loss: 4.220 | Val Loss : 7.621\n"
     ]
    },
    {
     "name": "stderr",
     "output_type": "stream",
     "text": [
      "100%|██████████| 346/346 [01:18<00:00,  4.41it/s]\n"
     ]
    },
    {
     "name": "stdout",
     "output_type": "stream",
     "text": [
      "Epoch: 326 | Train Loss: 4.214 | Val Loss : 7.623\n"
     ]
    },
    {
     "name": "stderr",
     "output_type": "stream",
     "text": [
      "100%|██████████| 346/346 [01:18<00:00,  4.41it/s]\n"
     ]
    },
    {
     "name": "stdout",
     "output_type": "stream",
     "text": [
      "Epoch: 327 | Train Loss: 4.218 | Val Loss : 7.626\n"
     ]
    },
    {
     "name": "stderr",
     "output_type": "stream",
     "text": [
      "100%|██████████| 346/346 [01:19<00:00,  4.37it/s]\n"
     ]
    },
    {
     "name": "stdout",
     "output_type": "stream",
     "text": [
      "Epoch: 328 | Train Loss: 4.214 | Val Loss : 7.617\n"
     ]
    },
    {
     "name": "stderr",
     "output_type": "stream",
     "text": [
      "100%|██████████| 346/346 [01:18<00:00,  4.41it/s]\n"
     ]
    },
    {
     "name": "stdout",
     "output_type": "stream",
     "text": [
      "Epoch: 329 | Train Loss: 4.215 | Val Loss : 7.644\n"
     ]
    },
    {
     "name": "stderr",
     "output_type": "stream",
     "text": [
      "100%|██████████| 346/346 [01:18<00:00,  4.41it/s]\n"
     ]
    },
    {
     "name": "stdout",
     "output_type": "stream",
     "text": [
      "Epoch: 330 | Train Loss: 4.221 | Val Loss : 7.626\n"
     ]
    },
    {
     "name": "stderr",
     "output_type": "stream",
     "text": [
      "100%|██████████| 346/346 [01:18<00:00,  4.40it/s]\n"
     ]
    },
    {
     "name": "stdout",
     "output_type": "stream",
     "text": [
      "Epoch: 331 | Train Loss: 4.213 | Val Loss : 7.637\n"
     ]
    },
    {
     "name": "stderr",
     "output_type": "stream",
     "text": [
      "100%|██████████| 346/346 [01:19<00:00,  4.37it/s]\n"
     ]
    },
    {
     "name": "stdout",
     "output_type": "stream",
     "text": [
      "Epoch: 332 | Train Loss: 4.209 | Val Loss : 7.621\n"
     ]
    },
    {
     "name": "stderr",
     "output_type": "stream",
     "text": [
      "100%|██████████| 346/346 [01:18<00:00,  4.41it/s]\n"
     ]
    },
    {
     "name": "stdout",
     "output_type": "stream",
     "text": [
      "Epoch: 333 | Train Loss: 4.216 | Val Loss : 7.631\n"
     ]
    },
    {
     "name": "stderr",
     "output_type": "stream",
     "text": [
      "100%|██████████| 346/346 [01:18<00:00,  4.40it/s]\n"
     ]
    },
    {
     "name": "stdout",
     "output_type": "stream",
     "text": [
      "Epoch: 334 | Train Loss: 4.211 | Val Loss : 7.621\n"
     ]
    },
    {
     "name": "stderr",
     "output_type": "stream",
     "text": [
      "100%|██████████| 346/346 [01:18<00:00,  4.39it/s]\n"
     ]
    },
    {
     "name": "stdout",
     "output_type": "stream",
     "text": [
      "Epoch: 335 | Train Loss: 4.201 | Val Loss : 7.638\n"
     ]
    },
    {
     "name": "stderr",
     "output_type": "stream",
     "text": [
      "100%|██████████| 346/346 [01:18<00:00,  4.39it/s]\n"
     ]
    },
    {
     "name": "stdout",
     "output_type": "stream",
     "text": [
      "Epoch: 336 | Train Loss: 4.203 | Val Loss : 7.650\n"
     ]
    },
    {
     "name": "stderr",
     "output_type": "stream",
     "text": [
      "100%|██████████| 346/346 [01:18<00:00,  4.38it/s]\n"
     ]
    },
    {
     "name": "stdout",
     "output_type": "stream",
     "text": [
      "Epoch: 337 | Train Loss: 4.206 | Val Loss : 7.639\n"
     ]
    },
    {
     "name": "stderr",
     "output_type": "stream",
     "text": [
      "100%|██████████| 346/346 [01:18<00:00,  4.39it/s]\n"
     ]
    },
    {
     "name": "stdout",
     "output_type": "stream",
     "text": [
      "Epoch: 338 | Train Loss: 4.204 | Val Loss : 7.616\n"
     ]
    },
    {
     "name": "stderr",
     "output_type": "stream",
     "text": [
      "100%|██████████| 346/346 [01:19<00:00,  4.36it/s]\n"
     ]
    },
    {
     "name": "stdout",
     "output_type": "stream",
     "text": [
      "Epoch: 339 | Train Loss: 4.214 | Val Loss : 7.631\n"
     ]
    },
    {
     "name": "stderr",
     "output_type": "stream",
     "text": [
      "100%|██████████| 346/346 [01:19<00:00,  4.37it/s]\n"
     ]
    },
    {
     "name": "stdout",
     "output_type": "stream",
     "text": [
      "Epoch: 340 | Train Loss: 4.206 | Val Loss : 7.636\n"
     ]
    },
    {
     "name": "stderr",
     "output_type": "stream",
     "text": [
      "100%|██████████| 346/346 [01:18<00:00,  4.39it/s]\n"
     ]
    },
    {
     "name": "stdout",
     "output_type": "stream",
     "text": [
      "Epoch: 341 | Train Loss: 4.202 | Val Loss : 7.621\n"
     ]
    },
    {
     "name": "stderr",
     "output_type": "stream",
     "text": [
      "100%|██████████| 346/346 [01:18<00:00,  4.38it/s]\n"
     ]
    },
    {
     "name": "stdout",
     "output_type": "stream",
     "text": [
      "Epoch: 342 | Train Loss: 4.200 | Val Loss : 7.631\n"
     ]
    },
    {
     "name": "stderr",
     "output_type": "stream",
     "text": [
      "100%|██████████| 346/346 [01:18<00:00,  4.40it/s]\n"
     ]
    },
    {
     "name": "stdout",
     "output_type": "stream",
     "text": [
      "Epoch: 343 | Train Loss: 4.203 | Val Loss : 7.640\n"
     ]
    },
    {
     "name": "stderr",
     "output_type": "stream",
     "text": [
      "100%|██████████| 346/346 [01:19<00:00,  4.37it/s]\n"
     ]
    },
    {
     "name": "stdout",
     "output_type": "stream",
     "text": [
      "Epoch: 344 | Train Loss: 4.202 | Val Loss : 7.628\n"
     ]
    },
    {
     "name": "stderr",
     "output_type": "stream",
     "text": [
      "100%|██████████| 346/346 [01:19<00:00,  4.36it/s]\n"
     ]
    },
    {
     "name": "stdout",
     "output_type": "stream",
     "text": [
      "Epoch: 345 | Train Loss: 4.206 | Val Loss : 7.636\n"
     ]
    },
    {
     "name": "stderr",
     "output_type": "stream",
     "text": [
      "100%|██████████| 346/346 [01:18<00:00,  4.38it/s]\n"
     ]
    },
    {
     "name": "stdout",
     "output_type": "stream",
     "text": [
      "Epoch: 346 | Train Loss: 4.198 | Val Loss : 7.646\n"
     ]
    },
    {
     "name": "stderr",
     "output_type": "stream",
     "text": [
      "100%|██████████| 346/346 [01:18<00:00,  4.39it/s]\n"
     ]
    },
    {
     "name": "stdout",
     "output_type": "stream",
     "text": [
      "Epoch: 347 | Train Loss: 4.200 | Val Loss : 7.633\n"
     ]
    },
    {
     "name": "stderr",
     "output_type": "stream",
     "text": [
      "100%|██████████| 346/346 [01:18<00:00,  4.38it/s]\n"
     ]
    },
    {
     "name": "stdout",
     "output_type": "stream",
     "text": [
      "Epoch: 348 | Train Loss: 4.198 | Val Loss : 7.635\n"
     ]
    },
    {
     "name": "stderr",
     "output_type": "stream",
     "text": [
      "100%|██████████| 346/346 [01:18<00:00,  4.41it/s]\n"
     ]
    },
    {
     "name": "stdout",
     "output_type": "stream",
     "text": [
      "Epoch: 349 | Train Loss: 4.197 | Val Loss : 7.649\n"
     ]
    },
    {
     "name": "stderr",
     "output_type": "stream",
     "text": [
      "100%|██████████| 346/346 [01:18<00:00,  4.39it/s]\n"
     ]
    },
    {
     "name": "stdout",
     "output_type": "stream",
     "text": [
      "Epoch: 350 | Train Loss: 4.202 | Val Loss : 7.643\n"
     ]
    },
    {
     "data": {
      "image/png": "[encoded data removed]",
      "text/plain": [
       "<Figure size 1000x500 with 1 Axes>"
      ]
     },
     "metadata": {},
     "output_type": "display_data"
    },
    {
     "name": "stdout",
     "output_type": "stream",
     "text": [
      "12730 23730\n"
     ]
    }
   ],
   "source": [
    "\n",
    "hindi_vocab={}\n",
    "bhili_vocab={}\n",
    "\n",
    "# hindi_set= set()\n",
    "\n",
    "hindi_vocab={'<start>':0, '<end>':1, '<pad>':2, '<unk>':3}\n",
    "bhili_vocab={'<start>':0, '<end>':1, '<pad>':2, '<unk>':3}\n",
    "ctr_h=4\n",
    "def build_vocab_hindi(indic_string, vocab):\n",
    "    global ctr_h\n",
    "#     words= text.split(\" \")\n",
    "    for word in indic_tokenize.trivial_tokenize(indic_string): \n",
    "        if word not in vocab:\n",
    "            vocab[word]= ctr_h\n",
    "            ctr_h+=1\n",
    "            \n",
    "            \n",
    "ctr_b=4\n",
    "def build_vocab_bhili(indic_string, vocab):\n",
    "    global ctr_b\n",
    "#     words= text.split(\" \")\n",
    "    for word in indic_tokenize.trivial_tokenize(indic_string): \n",
    "        if word not in vocab:\n",
    "            vocab[word]= ctr_b\n",
    "            ctr_b+=1\n",
    "# print(hindi_vocab)\n",
    "for index, row in df.iterrows():\n",
    "    text= row['Hindi']\n",
    "    build_vocab_hindi(text, hindi_vocab)\n",
    "#     print(f\"{index}==>{text}\")\n",
    "\n",
    "\n",
    "\n",
    "for index, row in df.iterrows():\n",
    "    text= row['Bhili']\n",
    "#     print(text)\n",
    "    build_vocab_bhili(text, bhili_vocab)\n",
    "rev_hindi_vocab= {value: key for key, value in hindi_vocab.items()}\n",
    "rev_bhili_vocab= {value: key for key, value in bhili_vocab.items()}\n",
    "# print(rev_hindi_vocab)\n",
    "# print(rev_bhili_vocab)\n",
    "# print(len(hindi_vocab), len(bhili_vocab))\n",
    "# import json\n",
    "\n",
    "with open('/kaggle/working/hindi_vocab_chunked-speeches.json', 'w') as json_file:\n",
    "    json.dump(hindi_vocab, json_file)\n",
    "    \n",
    "with open('/kaggle/working/bhili_vocab_chunked-speeches.json', 'w') as json_file:\n",
    "    json.dump(bhili_vocab, json_file)\n",
    "\n",
    "def hindi_tensor_to_hindi_words(hindi_tensor):\n",
    "    hindi_tensor= hindi_tensor[0]\n",
    "    hindi_numpy_tensor= hindi_tensor.cpu().numpy()\n",
    "    list= [rev_hindi_vocab[item] for item in hindi_numpy_tensor]\n",
    "    return list \n",
    "\n",
    "def bhili_tensor_to_bhili_words(bhili_tensor):\n",
    "    bhili_tensor= bhili_tensor[0]\n",
    "    bhili_numpy_tensor= bhili_tensor.cpu().numpy()\n",
    "    list= [rev_bhili_vocab[item] for item in bhili_numpy_tensor]\n",
    "    return list \n",
    "\n",
    "def tokenize_text(indic_string):\n",
    "    tokens= indic_tokenize.trivial_tokenize(indic_string)\n",
    "    return tokens\n",
    "\n",
    "\n",
    "# Text to index functions\n",
    "def hindi_to_indices(hindi_text):\n",
    "    indices = [hindi_vocab.get(token, hindi_vocab['<unk>']) for token in tokenize_text(hindi_text)]\n",
    "#     print(indices)\n",
    "    # indices2 = [hindi_vocab['<start>']] + indices + [hindi_vocab['<end>']]\n",
    "    indices2 =  indices + [hindi_vocab['<end>']]\n",
    "    return indices2\n",
    "\n",
    "def bhili_to_indices(bhili_text):\n",
    "    indices = [bhili_vocab.get(token, bhili_vocab['<unk>']) for token in tokenize_text(bhili_text)]\n",
    "    indices3 = [bhili_vocab['<start>']] + indices + [bhili_vocab['<end>']]\n",
    "    return indices3\n",
    "class Seq2SeqHinBhiliDataset(Dataset):\n",
    "    def __init__(self, data, hindi_vocab, bhili_vocab):\n",
    "        self.data = data.reset_index(drop=True)  # Reset indices to be continuous\n",
    "        self.hindi_vocab = hindi_vocab\n",
    "        self.bhili_vocab = bhili_vocab\n",
    "\n",
    "    def __len__(self):\n",
    "        return len(self.data) \n",
    "\n",
    "    def __getitem__(self, idx):\n",
    "        hindi_text = self.data.iloc[idx]['Hindi']\n",
    "        bhili_text = self.data.iloc[idx]['Bhili']\n",
    "        \n",
    "        hindi_indices = hindi_to_indices(hindi_text)\n",
    "        bhili_indices = bhili_to_indices(bhili_text)\n",
    "        \n",
    "        return {\n",
    "            'hindi_indices': torch.tensor(hindi_indices),\n",
    "            'bhili_indices': torch.tensor(bhili_indices)\n",
    "        }\n",
    "\n",
    "def collate_fn(batch):\n",
    "    hindi_indices = [item['hindi_indices'] for item in batch]\n",
    "    bhili_indices = [item['bhili_indices'] for item in batch]\n",
    "\n",
    "    # Pad sequences to the length of the longest sequence in the batch\n",
    "    hindi_indices_padded = torch.nn.utils.rnn.pad_sequence(hindi_indices, batch_first=True, padding_value=2)\n",
    "    bhili_indices_padded = torch.nn.utils.rnn.pad_sequence(bhili_indices, batch_first=True, padding_value=2)\n",
    "\n",
    "    return {\n",
    "        'hindi_indices': hindi_indices_padded,\n",
    "        'bhili_indices': bhili_indices_padded\n",
    "    }\n",
    "\n",
    "print(len(df_train), len(df_val),end=\"\\n\\n\\n\")\n",
    "print(df_train.info(), df_val.info())\n",
    "df_train.describe()\n",
    "batch_size= 32\n",
    "dataset_train = Seq2SeqHinBhiliDataset(df_train, hindi_vocab, bhili_vocab)\n",
    "data_loader_train = DataLoader(dataset_train, batch_size=batch_size, shuffle=False, collate_fn=collate_fn)\n",
    "\n",
    "dataset_dev = Seq2SeqHinBhiliDataset(df_val, hindi_vocab, bhili_vocab)\n",
    "data_loader_dev = DataLoader(dataset_dev, batch_size=batch_size, shuffle=False, collate_fn=collate_fn)\n",
    "\n",
    "num_data_points_train = len(dataset_train)\n",
    "print(num_data_points_train)\n",
    "print(len(dataset_dev))\n",
    "sample_batch = next(iter(data_loader_train))\n",
    "print(sample_batch['hindi_indices'])\n",
    "class Attention(nn.Module):\n",
    "    def __init__(self, enc_hid_dim, dec_hid_dim):\n",
    "        super().__init__()\n",
    "        print(f'enc dim : {enc_hid_dim} | dec dim : {dec_hid_dim}')\n",
    "        self.attn = nn.Linear((enc_hid_dim * 2) + dec_hid_dim, dec_hid_dim)\n",
    "        self.v = nn.Linear(dec_hid_dim, 1, bias=False)\n",
    "\n",
    "    def forward(self, hidden, encoder_outputs):\n",
    "        # hidden: [batch_size, dec_hid_dim]\n",
    "        # encoder_outputs: [src_len, batch_size, enc_hid_dim * 2]\n",
    "        # print(f'inside attention hidden : {hidden.shape} | encoder_outputs : {encoder_outputs.shape}')\n",
    "        batch_size = encoder_outputs.shape[1]\n",
    "        src_len = encoder_outputs.shape[0]\n",
    "        # print(f'inside_attention src_len {src_len}')\n",
    "        # Repeat decoder hidden state src_len times\n",
    "        hidden = hidden.unsqueeze(1).repeat(1, src_len, 1)\n",
    "        # print(f'inside attention hidden {hidden.shape}')\n",
    "        encoder_outputs = encoder_outputs.permute(1, 0, 2)\n",
    "        # print(f'inside_attention endoder ouput {encoder_outputs.shape}')\n",
    "\n",
    "        # print(f'concat {torch.cat((hidden, encoder_outputs), dim=2).shape}')\n",
    "        # Calculate energy\n",
    "        energy = torch.tanh(self.attn(torch.cat((hidden, encoder_outputs), dim=2)))\n",
    "\n",
    "        # attention: [batch_size, src_len]\n",
    "        attention = self.v(energy).squeeze(2)\n",
    "\n",
    "        return F.log_softmax(attention, dim=1)\n",
    "\n",
    "\n",
    "class Encoder(nn.Module):\n",
    "    def __init__(self, input_dim, emb_dim, enc_hid_dim, dec_hid_dim, dropout, n_layers=1):\n",
    "        # ENC_EMB_DIM, ENC_HID_DIM, DEC_HID_DIM, ENC_DROPOUT\n",
    "        super().__init__()\n",
    "        # print(embedding_matrix.shape)\n",
    "        self.embedding = nn.Embedding(input_dim, emb_dim)\n",
    "        self.rnn = nn.LSTM(emb_dim, enc_hid_dim, num_layers=n_layers, bidirectional=True, dropout=dropout if n_layers > 1 else 0)\n",
    "        self.fc = nn.Linear(enc_hid_dim * 2, dec_hid_dim)\n",
    "        self.dropout = nn.Dropout(dropout)\n",
    "\n",
    "    def forward(self, src):\n",
    "        # print(\"******************encoder**********************\")\n",
    "        # src shape: [src_len, batch_size]\n",
    "        # print(f'inside encoder src shape {src.shape}')\n",
    "        embedded = self.dropout(self.embedding(src))\n",
    "        # embedded shape: [src_len, batch_size, emb_dim]\n",
    "        # print(f'inside encoder embedded shape {embedded.shape}')\n",
    "        # embedded_ = embedded.permute(1,0,2)\n",
    "#         print(f'embedded_shape {embedded.shape}')\n",
    "\n",
    "        outputs, (hidden, cell) = self.rnn(embedded)\n",
    "        # outputs shape: [src_len, batch_size, enc_hid_dim * num_directions]\n",
    "        # hidden, cell shape: [num_layers * num_directions, batch_size, enc_hid_dim]\n",
    "        # print(f'encoder_hidden_shape {hidden.shape} | encoder_cell_shape {cell.shape} | outputs {outputs.shape}')\n",
    "\n",
    "        # Concatenate the hidden states from both directions\n",
    "        hidden = torch.cat((hidden[0], hidden[1]), dim=-1)\n",
    "        cell = torch.cat((cell[0], cell[1]), dim=-1)\n",
    "        # hidden = torch.tanh(self.fc(torch.cat((hidden[-2,:,:], hidden[-1,:,:]), dim=1)))\n",
    "        # cell = torch.tanh(self.fc(torch.cat((cell[-2,:,:], cell[-1,:,:]), dim=1)))\n",
    "        # print(f\"final_encoder_output_hidden {hidden.shape}\")\n",
    "        # print(f\"final_encoder_output_cell {cell.shape}\")\n",
    "        # print(\"***********************************************\")\n",
    "\n",
    "        # print(outputs)\n",
    "        return outputs, hidden, cell\n",
    "\n",
    "class Decoder(nn.Module):\n",
    "    def __init__(self, output_dim, emb_dim, enc_hid_dim, dec_hid_dim, dropout, attention):\n",
    "        super().__init__()\n",
    "        self.output_dim = output_dim\n",
    "        self.attention = attention\n",
    "\n",
    "#         self.embedding = nn.Embedding.from_pretrained(torch.tensor(embedding_matrix_bhili, dtype=torch.float),freeze=False)\n",
    "        self.embedding = nn.Embedding(output_dim, emb_dim)\n",
    "        self.rnn = nn.LSTM((enc_hid_dim * 2) + emb_dim, dec_hid_dim, dropout=dropout)\n",
    "        self.fc_out = nn.Linear((enc_hid_dim * 2) + dec_hid_dim + emb_dim, output_dim)\n",
    "        self.dropout = nn.Dropout(dropout)\n",
    "\n",
    "    def forward(self, input, hidden, cell, encoder_outputs):\n",
    "        input = input.unsqueeze(0)  # input: [1, batch_size]\n",
    "        # print(f'input inside  decoder {input.shape}')\n",
    "        embedded = self.dropout(self.embedding(input))  # embedded: [1, batch_size, emb_dim]\n",
    "        # print(f'embedded inside decoder {embedded.shape}')\n",
    "        # Calculate attention weights\n",
    "        # print(hidden.shape, encoder_outputs.shape)\n",
    "        attention = self.attention(hidden, encoder_outputs)  # attention: [batch_size, src_len]\n",
    "\n",
    "        # Apply attention weights to encoder outputs\n",
    "        attention = attention.unsqueeze(1)  # attention: [batch_size, 1, src_len]\n",
    "        encoder_outputs = encoder_outputs.permute(1, 0, 2)  # encoder_outputs: [batch_size, src_len, enc_hid_dim * 2]\n",
    "        weighted = torch.bmm(attention, encoder_outputs)  # weighted: [batch_size, 1, enc_hid_dim * 2]\n",
    "        weighted = weighted.permute(1, 0, 2)  # weighted: [1, batch_size, enc_hid_dim * 2]\n",
    "\n",
    "        rnn_input = torch.cat((embedded, weighted), dim=2)  # rnn_input: [1, batch_size, (enc_hid_dim * 2) + emb_dim]\n",
    "\n",
    "        output, (hidden, cell) = self.rnn(rnn_input, (hidden.unsqueeze(0), cell.unsqueeze(0)))\n",
    "\n",
    "        # Prepare input for fully connected layer\n",
    "        output = output.squeeze(0)  # output: [batch_size, dec_hid_dim]\n",
    "        embedded = embedded.squeeze(0)  # embedded: [batch_size, emb_dim]\n",
    "        weighted = weighted.squeeze(0)  # weighted: [batch_size, enc_hid_dim * 2]\n",
    "\n",
    "        prediction = self.fc_out(torch.cat((output, weighted, embedded), dim=1))\n",
    "        # print(f\"embedded shape: {embedded.shape}\")\n",
    "        # print(f\"weighted shape: {weighted.shape}\")\n",
    "        return prediction, hidden.squeeze(0), cell.squeeze(0), attention.squeeze(1)\n",
    "\n",
    "\n",
    "\n",
    "        # src_ = src.permute(1,0)\n",
    "        # trg_ = trg.permute(1,0)\n",
    "        # # print(f'src {src.shape} | src_ {src_.shape}')\n",
    "        # # print(f'trg {trg.shape} | trg_ {trg_.shape}')\n",
    "        # batch_size = trg_.shape[1]\n",
    "        # trg_len = trg_.shape[0]\n",
    "\n",
    "        # # print(f'batch_size {batch_size} | trg_len {trg_len}')\n",
    "        # trg_vocab_size = self.decoder.output_dim\n",
    "\n",
    "class Seq2Seq(nn.Module):\n",
    "    def __init__(self, encoder, decoder, device):\n",
    "        super().__init__()\n",
    "\n",
    "        self.encoder = encoder\n",
    "        self.decoder = decoder\n",
    "        self.device = device\n",
    "\n",
    "    def forward(self, src, trg, teacher_forcing_ratio=0.3):\n",
    "        src_ = src.permute(1,0)\n",
    "        trg_ = trg.permute(1,0)\n",
    "        # print(trg_)\n",
    "        batch_size = trg_.shape[1]\n",
    "        trg_len = trg_.shape[0]\n",
    "        trg_vocab_size = self.decoder.output_dim\n",
    "\n",
    "        outputs = torch.zeros(trg_len-1, batch_size, trg_vocab_size).to(self.device)\n",
    "\n",
    "        encoder_outputs, hidden, cell = self.encoder(src_)\n",
    "\n",
    "        input = trg_[0,:]\n",
    "        # input = torch.tensor(2).unsqueeze(0).to(device)\n",
    "        # print(f'input outside loop {input}')\n",
    "\n",
    "        for t in range(0, trg_len-1):\n",
    "            # print(f'input seq to seq {input}')\n",
    "            output, hidden, cell, _ = self.decoder(input, hidden, cell, encoder_outputs)\n",
    "            outputs[t] = output\n",
    "            teacher_force = random.random() < teacher_forcing_ratio\n",
    "            top1 = output.argmax(1)\n",
    "            input = trg_[t+1,:] if teacher_force else top1\n",
    "\n",
    "\n",
    "\n",
    "        return outputs\n",
    "# ENC_EMB_DIM = 64  # Embedding dimension for encoder\n",
    "# DEC_EMB_DIM = 64  # Embedding dimension for decoder\n",
    "# ENC_HID_DIM = 64  # Hidden dimension for encoder\n",
    "# DEC_HID_DIM = 128 # Hidden dimension for decoder \n",
    "# ENC_DROPOUT = 0.5  # Dropout rate for encoder|\n",
    "# DEC_DROPOUT = 0.5  # Dropout rate for decoder\n",
    "\n",
    "\n",
    "ENC_EMB_DIM = 16  # Embedding dimension for encoder\n",
    "DEC_EMB_DIM = 16  # Embedding dimension for decoder\n",
    "ENC_HID_DIM = 16  # Hidden dimension for encoder\n",
    "DEC_HID_DIM = 32 # Hidden dimension for decoder \n",
    "ENC_DROPOUT = 0.5  # Dropout rate for encoder\n",
    "DEC_DROPOUT = 0.5  # Dropout rate for decoder\n",
    "\n",
    "OUTPUT_DIM = len(bhili_vocab)  # Output dimension is the size of formula vocabulary\n",
    "INPUT_DIM= len(hindi_vocab)\n",
    "print(INPUT_DIM, OUTPUT_DIM)\n",
    "\n",
    "config = {\n",
    "    \"ENC_EMB_DIM\": ENC_EMB_DIM,\n",
    "    \"DEC_EMB_DIM\": DEC_EMB_DIM,\n",
    "    \"ENC_HID_DIM\": ENC_HID_DIM,\n",
    "    \"DEC_HID_DIM\": DEC_HID_DIM\n",
    "}\n",
    "\n",
    "# Writing to a JSON file\n",
    "with open('config.json', 'w') as json_file:\n",
    "    json.dump(config, json_file, indent=4)\n",
    "\n",
    "# Instantiating the model components\n",
    "encoder = Encoder(INPUT_DIM, ENC_EMB_DIM, ENC_HID_DIM, DEC_HID_DIM, ENC_DROPOUT)\n",
    "attention = Attention(ENC_HID_DIM, DEC_HID_DIM)\n",
    "decoder = Decoder(OUTPUT_DIM, DEC_EMB_DIM, ENC_HID_DIM, DEC_HID_DIM, DEC_DROPOUT, attention)\n",
    "# Device setup\n",
    "device = torch.device('cuda' if torch.cuda.is_available() else 'cpu')\n",
    "# device = 'cpu'\n",
    "\n",
    "# Seq2Seq model\n",
    "model = Seq2Seq(encoder, decoder, device).to(device)\n",
    "# Optimizer\n",
    "\n",
    "initial_learning_rate = 1e-3\n",
    "later_learning_rate = 1e-4\n",
    "switch_epoch = 75  # Epoch at which to switch learning rate\n",
    "optimizer = optim.Adam(model.parameters(), lr=initial_learning_rate, weight_decay=1e-5)\n",
    "\n",
    "\n",
    "# Loss function, ignoring the index of the padding\n",
    "PAD_IDX = 2\n",
    "criterion = nn.CrossEntropyLoss(ignore_index=PAD_IDX)\n",
    "\n",
    "# scheduler = optim.lr_scheduler.ReduceLROnPlateau(optimizer, mode='min', factor=0.85, patience=5)\n",
    "train_losses = []\n",
    "valid_losses = []\n",
    "\n",
    "loss_data = {\n",
    "    'train_losses': train_losses,\n",
    "    'valid_losses': valid_losses\n",
    "}\n",
    "\n",
    "N_EPOCHS = 350\n",
    "CLIP = 1\n",
    "def train(model, iterator, optimizer, criterion):\n",
    "    model.train()  \n",
    "    epoch_loss = 0\n",
    "\n",
    "    for i, batch in enumerate(tqdm(iterator)):\n",
    "        input_ids = batch['hindi_indices'].to(device)\n",
    "\n",
    "        trg = batch['bhili_indices'].to(device)\n",
    "        \n",
    "        # print(input_ids.shape, trg.shape)\n",
    "       \n",
    "        trg_input = trg\n",
    "        trg_output = trg[:, 1:]\n",
    "        # trg_new = trg[:, 1:]\n",
    "        # print(f'trg_out : {trg_output.shape}')\n",
    "        # print(f'trg_output : {trg_output}')\n",
    "\n",
    "        optimizer.zero_grad()  \n",
    "        \n",
    "        # print(hindi_tensor_to_hindi_words(input_ids))\n",
    "        # print(bhili_tensor_to_bhili_words(torch.tensor(trg)))\n",
    "        \n",
    "        output = model(input_ids, trg)\n",
    "        # print(f'output {output.shape}')\n",
    "\n",
    "        # Reshape output and target tensors to compute loss\n",
    "        output_dim = output.shape[-1]\n",
    "        # output = output.contiguous().view(-1, output_dim)\n",
    "        # trg_output = trg_output.contiguous().view(-1)\n",
    "        output=output.permute(1,2,0)\n",
    "        # Calculate loss\n",
    "        # print(output, trg_output)\n",
    "        # print(f\"I/p id is: {input_ids}, Model ouput is: {output} Target is {trg_output}\")\n",
    "        loss = criterion(output, trg_output)\n",
    "#         print(loss)\n",
    "        loss.backward() \n",
    "\n",
    "        torch.nn.utils.clip_grad_norm_(model.parameters(), CLIP)  # Gradient clipping\n",
    "\n",
    "        optimizer.step() \n",
    "        epoch_loss += loss.item()\n",
    "\n",
    "    return epoch_loss / len(iterator)\n",
    "\n",
    "\n",
    "def evaluate(model, iterator, criterion):\n",
    "    model.eval()\n",
    "    epoch_loss = 0\n",
    "    with torch.no_grad():\n",
    "        for i, batch in enumerate(iterator):\n",
    "            src = batch['hindi_indices'].to(device)\n",
    "            trg = batch['bhili_indices'].to(device)\n",
    "            # print(src)\n",
    "\n",
    "            trg_new = trg[:, 1:]  \n",
    "\n",
    "            output = model(src, trg, 0)  # Turn off teacher forcing\n",
    "            # print(f'output shape {output.shape}')\n",
    "            # print(output)\n",
    "            output_dim = output.shape[-1]\n",
    "            output = output.permute(1, 2, 0)  \n",
    "\n",
    "            loss = criterion(output, trg_new)\n",
    "            epoch_loss += loss.item()\n",
    "\n",
    "    return epoch_loss / len(iterator)\n",
    "\n",
    "best_valid_loss = float('inf')\n",
    "\n",
    "for epoch in range(N_EPOCHS):\n",
    "    # Adjust learning rate after the switch_epoch\n",
    "    if epoch == switch_epoch:\n",
    "        for param_group in optimizer.param_groups:\n",
    "            param_group['lr'] = later_learning_rate\n",
    "    \n",
    "    train_loss = train(model, data_loader_train, optimizer, criterion)\n",
    "    valid_loss = evaluate(model, data_loader_dev, criterion)\n",
    "\n",
    "    train_losses.append(train_loss)\n",
    "    valid_losses.append(valid_loss)\n",
    "    \n",
    "    print(f'Epoch: {epoch+1} | Train Loss: {train_loss:.3f} | Val Loss : {valid_loss:.3f}')\n",
    "\n",
    "    # Save the best model\n",
    "    if valid_loss < best_valid_loss:\n",
    "        best_valid_loss = valid_loss\n",
    "        \n",
    "        checkpoint = {\n",
    "            'epoch': epoch,\n",
    "            'model_state_dict': model.state_dict(),\n",
    "            'optimizer_state_dict': optimizer.state_dict(),\n",
    "            'train_losses': train_losses,\n",
    "            'valid_losses': valid_losses,\n",
    "            'best_valid_loss': best_valid_loss\n",
    "        }\n",
    "        torch.save(checkpoint, f'/kaggle/working/chunked_speeches_attention_0.6_checkpoint_final_800ep.pt')\n",
    "\n",
    "# Save final model\n",
    "torch.save(model.state_dict(), '/kaggle/working/chunked_speeches_attention_model_0.6_v700ep.pt')\n",
    "\n",
    "\n",
    "\n",
    "import matplotlib.pyplot as plt\n",
    "plt.figure(figsize=(10, 5))\n",
    "\n",
    "# Plot the train and validation loss\n",
    "plt.plot(train_losses, label='Train Loss')\n",
    "plt.plot(valid_losses, label='Validation Loss')\n",
    "\n",
    "# Mark the first train and validation loss values\n",
    "plt.scatter(0, train_losses[0], color='red')  # First train loss value\n",
    "plt.text(0, train_losses[0], f'{train_losses[0]:.2f}', color='red', fontsize=10, ha='left', va='bottom')\n",
    "\n",
    "plt.scatter(0, valid_losses[0], color='blue')  # First validation loss value\n",
    "plt.text(0, valid_losses[0], f'{valid_losses[0]:.2f}', color='blue', fontsize=10, ha='left', va='top')\n",
    "\n",
    "# Mark the last train and validation loss values\n",
    "last_epoch = len(train_losses) - 1\n",
    "plt.scatter(last_epoch, train_losses[-1], color='red')  # Last train loss value\n",
    "plt.text(last_epoch, train_losses[-1], f'{train_losses[-1]:.2f}', color='red', fontsize=10, ha='right', va='bottom')\n",
    "\n",
    "plt.scatter(last_epoch, valid_losses[-1], color='blue')  # Last validation loss value\n",
    "plt.text(last_epoch, valid_losses[-1], f'{valid_losses[-1]:.2f}', color='blue', fontsize=10, ha='right', va='top')\n",
    "\n",
    "# Add labels, title, and grid\n",
    "plt.xlabel('Epoch')\n",
    "plt.ylabel('Loss')\n",
    "plt.title('Train and Validation Loss over Epochs')\n",
    "plt.legend()\n",
    "plt.grid(True)\n",
    "# Save the plot as a JPG file\n",
    "plt.savefig('train_valid_loss_plot.jpg', format='jpg')\n",
    "\n",
    "# Display the plot\n",
    "plt.show()\n",
    "print(len(hindi_vocab), len(bhili_vocab))\n",
    "class BeamSearchNode(object):\n",
    "    def __init__(self, hidden, previousNode, wordId, logProb, length):\n",
    "        self.hidden = hidden\n",
    "        self.prevNode = previousNode\n",
    "        self.wordid = wordId\n",
    "        self.logp = logProb\n",
    "        self.length = length\n",
    "\n",
    "    def eval(self, alpha=1.0):\n",
    "        reward = 0\n",
    "        # Adjust the length penalty\n",
    "        return self.logp / float(self.length - 1 + 1e-6) + alpha * reward\n",
    "    \n",
    "    \n",
    "def attn_text_to_indices(text, vocab):\n",
    "    tokens = ['<start>'] + tokenize_text(text + ['<end>'])  # Tokenize the text\n",
    "    indices = []\n",
    "    for token in tokens:\n",
    "        indices.append(vocab.get(token, vocab[\"<unk>\"]))  # Use the token itself\n",
    "    return indices\n",
    "\n",
    "def attn_beam_search(model, src,device, beam_width=7, max_len=30):\n",
    "    src = src.to(device)\n",
    "    # print(src)\n",
    "    src = src.unsqueeze(1)  # [src_len, 1] for a single example\n",
    "\n",
    "    with torch.no_grad():\n",
    "        encoder_outputs, hidden, cell = model.encoder(src)\n",
    "\n",
    "    # print(encoder_outputs.shape, hidden.shape, cell.shape)\n",
    "    # Starting Node - hidden state, previous node, word id, log prob, length\n",
    "    start_node = BeamSearchNode((hidden, cell), None, [torch.tensor(0)], 0, 1)\n",
    "    nodes = [start_node]\n",
    "\n",
    "    # Start beam search\n",
    "    for _ in range(max_len):\n",
    "        new_nodes = []\n",
    "        for node in nodes:\n",
    "            input = torch.LongTensor([node.wordid[-1]]).to(device)\n",
    "            hidden, cell = node.hidden  # Unpack hidden state\n",
    "\n",
    "            with torch.no_grad():\n",
    "                # Make sure to pass encoder_outputs for attention mechanism\n",
    "                output, hidden, cell,_ = model.decoder(input, hidden, cell, encoder_outputs)\n",
    "                log_probs = F.log_softmax(output, dim=1)\n",
    "\n",
    "            top_log_probs, top_idx = log_probs.topk(beam_width)\n",
    "            for i in range(beam_width):\n",
    "                word_idx = top_idx[0][i].item()\n",
    "                log_prob = top_log_probs[0][i].item()\n",
    "\n",
    "                new_node = BeamSearchNode((hidden, cell), node, node.wordid + [word_idx], node.logp + log_prob, node.length + 1)\n",
    "                new_nodes.append(new_node)\n",
    "\n",
    "        # Sort nodes by log probability\n",
    "        nodes = sorted(new_nodes, key=lambda node: node.logp, reverse=True)[:beam_width]\n",
    "\n",
    "    # Find the path with the highest probability\n",
    "    end_node = nodes[0]\n",
    "    output_sequence = end_node.wordid\n",
    "\n",
    "    # Convert indices to tokens\n",
    "    output_tokens = []\n",
    "    for i in output_sequence:\n",
    "        if i == bhili_vocab[\"<end>\"]:  # Assuming <eos> is your end of sequence token\n",
    "            break\n",
    "        elif i == bhili_vocab[\"<start>\"]:\n",
    "            continue\n",
    "        else:\n",
    "            output_tokens.append(list(bhili_vocab.keys())[list(bhili_vocab.values()).index(i)])\n",
    "    return output_tokens\n",
    "\n",
    "def make_sentence_from_list(list):\n",
    "    sentence= \"\"\n",
    "    for word in list:\n",
    "        sentence+= word+\" \"\n",
    "    return sentence\n"
   ]
  },
  {
   "cell_type": "code",
   "execution_count": null,
   "id": "7a8a0be5",
   "metadata": {
    "execution": {
     "iopub.execute_input": "2024-08-20T22:29:02.705274Z",
     "iopub.status.busy": "2024-08-20T22:29:02.704227Z",
     "iopub.status.idle": "2024-08-20T22:29:02.711049Z",
     "shell.execute_reply": "2024-08-20T22:29:02.710128Z"
    },
    "papermill": {
     "duration": 10.004457,
     "end_time": "2024-08-20T22:29:02.713078",
     "exception": false,
     "start_time": "2024-08-20T22:28:52.708621",
     "status": "completed"
    },
    "tags": []
   },
   "outputs": [],
   "source": [
    "def calculate_bleu(reference_text, candidate_text):\n",
    "    reference_tokens = [list(reference_text)]  \n",
    "    candidate_tokens = list(candidate_text)\n",
    "    \n",
    "\n",
    "    smoothie = SmoothingFunction().method4\n",
    "    bleu_score = sentence_bleu(reference_tokens, candidate_tokens, smoothing_function=smoothie)\n",
    "    \n",
    "    return bleu_score\n",
    "\n",
    "\n",
    "\n",
    "def calculate_chrf2(actual, predicted):\n",
    "    \"\"\"\n",
    "    Calculate the CHRF2 score between two sentences using sacrebleu.\n",
    "    \"\"\"\n",
    "    score = sacrebleu.sentence_chrf(predicted, [actual], beta=1)\n",
    "    return score.score"
   ]
  },
  {
   "cell_type": "code",
   "execution_count": null,
   "id": "c3b9cd87",
   "metadata": {
    "execution": {
     "iopub.execute_input": "2024-08-20T22:29:22.644966Z",
     "iopub.status.busy": "2024-08-20T22:29:22.644603Z",
     "iopub.status.idle": "2024-08-20T22:31:39.930358Z",
     "shell.execute_reply": "2024-08-20T22:31:39.929432Z"
    },
    "papermill": {
     "duration": 149.953999,
     "end_time": "2024-08-20T22:31:42.793479",
     "exception": false,
     "start_time": "2024-08-20T22:29:12.839480",
     "status": "completed"
    },
    "tags": []
   },
   "outputs": [
    {
     "name": "stderr",
     "output_type": "stream",
     "text": [
      "582it [02:17,  4.24it/s]"
     ]
    },
    {
     "name": "stdout",
     "output_type": "stream",
     "text": [
      "Results saved to results_validation.csv\n",
      "Average BLEU Score on validation dataset is: 16.858674968107216\n",
      "Average CHRF2 Score on validation dataset is: 10.60791840273717\n"
     ]
    },
    {
     "name": "stderr",
     "output_type": "stream",
     "text": [
      "\n"
     ]
    }
   ],
   "source": [
    "ctr = 0\n",
    "bleu_score=0\n",
    "chrf2_score=0\n",
    "total_bleu_score=0\n",
    "total_chrf2_score=0\n",
    "results=[]\n",
    "\n",
    "for index, row in tqdm(df_val.iterrows()):\n",
    "\n",
    "    hindi_sentence = row['Hindi']\n",
    "    bhili_sentence = row['Bhili']\n",
    "    hindi_sentence_tensor = torch.tensor(hindi_to_indices(hindi_sentence))\n",
    "    # print(hindi_sentence_tensor)\n",
    "    bhili_sentence_list = attn_beam_search(model, hindi_sentence_tensor, \"cuda\")\n",
    "    bhili_sentence_predicted = make_sentence_from_list(bhili_sentence_list)\n",
    "    bleu_score= calculate_bleu(bhili_sentence, bhili_sentence_predicted)\n",
    "    chrf2_score= calculate_chrf2(bhili_sentence, bhili_sentence_predicted)\n",
    "    total_bleu_score+=bleu_score\n",
    "    total_chrf2_score+= chrf2_score\n",
    "\n",
    "    results.append({\n",
    "        \"Hindi\": hindi_sentence,\n",
    "        \"Actual Bhili\": bhili_sentence,\n",
    "        \"Predicted Bhili\": bhili_sentence_predicted,\n",
    "        \"BLEU Score\": bleu_score,\n",
    "        \"CHRF2 Score\": chrf2_score\n",
    "    })\n",
    "        \n",
    "    ctr += 1\n",
    "\n",
    "results_df = pd.DataFrame(results)\n",
    "results_df.to_csv('/kaggle/working/results_validation.csv', index=False)\n",
    "\n",
    "print(\"Results saved to results_validation.csv\")\n",
    "average_bleu_score= 100* total_bleu_score/ctr\n",
    "average_chrf2_score= total_chrf2_score/ctr\n",
    "print(f\"Average BLEU Score on validation dataset is: {average_bleu_score}\")\n",
    "print(f\"Average CHRF2 Score on validation dataset is: {average_chrf2_score}\")\n",
    "\n",
    "\n",
    "\n",
    "# ctr = 0\n",
    "# bleu_score=0\n",
    "# chrf2_score=0\n",
    "# total_bleu_score=0\n",
    "# total_chrf2_score=0\n",
    "# results=[]\n",
    "\n",
    "# for index, row in df.iterrows():\n",
    "\n",
    "#     hindi_sentence = row['Hindi']\n",
    "#     bhili_sentence = row['Bhili']\n",
    "#     hindi_sentence_tensor = torch.tensor(hindi_to_indices(hindi_sentence))\n",
    "#     # print(hindi_sentence_tensor)\n",
    "#     bhili_sentence_list = attn_beam_search(model, hindi_sentence_tensor, \"cuda\")\n",
    "#     bhili_sentence_predicted = make_sentence_from_list(bhili_sentence_list)\n",
    "#     bleu_score= calculate_bleu(bhili_sentence, bhili_sentence_predicted)\n",
    "#     chrf2_score= calculate_chrf2(bhili_sentence, bhili_sentence_predicted)\n",
    "#     total_bleu_score+=bleu_score\n",
    "#     total_chrf2_score+= chrf2_score\n",
    "\n",
    "\n",
    "#     results.append({\n",
    "#         \"Hindi\": hindi_sentence,\n",
    "#         \"Actual Bhili\": bhili_sentence,\n",
    "#         \"Predicted Bhili\": bhili_sentence_predicted,\n",
    "#         \"BLEU Score\": bleu_score,\n",
    "#         \"CHRF2 Score\": chrf2_score\n",
    "#     })\n",
    "        \n",
    "#     ctr += 1\n",
    "\n",
    "# results_df = pd.DataFrame(results)\n",
    "# results_df.to_csv('/kaggle/working/results_combined.csv', index=False)\n",
    "\n",
    "# print(\"Results saved to results_combined.csv\")\n",
    "# average_bleu_score= total_bleu_score/ctr\n",
    "# average_chrf2_score= total_chrf2_score/ctr\n",
    "# print(f\"Average BLEU Score on combined dataset is: {average_bleu_score}\")\n",
    "# print(f\"Average CHRF2 Score on combined dataset is: {average_chrf2_score}\")"
   ]
  },
  {
   "cell_type": "code",
   "execution_count": null,
   "id": "43a36a30",
   "metadata": {
    "execution": {
     "iopub.execute_input": "2024-08-20T22:32:02.731088Z",
     "iopub.status.busy": "2024-08-20T22:32:02.730451Z",
     "iopub.status.idle": "2024-08-20T22:32:02.734856Z",
     "shell.execute_reply": "2024-08-20T22:32:02.733917Z"
    },
    "papermill": {
     "duration": 9.856357,
     "end_time": "2024-08-20T22:32:02.737677",
     "exception": false,
     "start_time": "2024-08-20T22:31:52.881320",
     "status": "completed"
    },
    "tags": []
   },
   "outputs": [],
   "source": [
    "import csv"
   ]
  },
  {
   "cell_type": "code",
   "execution_count": null,
   "id": "e4f84d7a",
   "metadata": {
    "execution": {
     "iopub.execute_input": "2024-08-20T22:32:22.836845Z",
     "iopub.status.busy": "2024-08-20T22:32:22.836079Z",
     "iopub.status.idle": "2024-08-20T22:34:19.308176Z",
     "shell.execute_reply": "2024-08-20T22:34:19.307097Z"
    },
    "papermill": {
     "duration": 126.560779,
     "end_time": "2024-08-20T22:34:19.310176",
     "exception": false,
     "start_time": "2024-08-20T22:32:12.749397",
     "status": "completed"
    },
    "tags": []
   },
   "outputs": [
    {
     "name": "stdout",
     "output_type": "stream",
     "text": [
      "473\n",
      "473\n"
     ]
    },
    {
     "name": "stderr",
     "output_type": "stream",
     "text": [
      "473it [01:56,  4.06it/s]\n"
     ]
    }
   ],
   "source": [
    "def infer(hindi_sentence):\n",
    "    hindi_sentence_tensor = torch.tensor(hindi_to_indices(hindi_sentence))\n",
    "    bhili_sentence_list = attn_beam_search(model, hindi_sentence_tensor, \"cuda\")\n",
    "    bhili_sentence_predicted = make_sentence_from_list(bhili_sentence_list)  \n",
    "    \n",
    "    results.append({\n",
    "        \"Hindi\": hindi_sentence,\n",
    "        \"Predicted Bhili\": bhili_sentence_predicted,\n",
    "    })\n",
    "    \n",
    "    # Append the results to a CSV file\n",
    "    with open('speech_predictions.csv', mode='a', newline='', encoding='utf-8') as file:\n",
    "        writer = csv.DictWriter(file, fieldnames=[\"Hindi\", \"Predicted Bhili\"])\n",
    "        \n",
    "        # Write the header only once\n",
    "        if file.tell() == 0:\n",
    "            writer.writeheader()\n",
    "        \n",
    "        writer.writerow({\n",
    "            \"Hindi\": hindi_sentence,\n",
    "            \"Predicted Bhili\": bhili_sentence_predicted,\n",
    "        })\n",
    "    \n",
    "    return bhili_sentence_predicted\n",
    "  \n",
    " \n",
    "    \n",
    "\n",
    "\n",
    "df= pd.read_csv('/kaggle/input/comb-modi/Speech_2024 - Sheet1.csv')\n",
    "# df = df.drop('Unnamed: 2', axis=1)\n",
    "print(len(df))\n",
    "df.dropna()\n",
    "print(len(df))\n",
    "\n",
    "# Identify duplicates in each column\n",
    "duplicates_col1 = df.duplicated('Hindi', keep=False)\n",
    "# duplicates_col2 = df.duplicated('Bhili', keep=False)\n",
    "\n",
    "# Combine the conditions to identify rows where either column has duplicates\n",
    "duplicates_any_col = duplicates_col1\n",
    "df_cleaned = df[~duplicates_any_col]\n",
    "\n",
    "# len(df_cleaned)\n",
    "# df= df_cleaned\n",
    "\n",
    "df_val= df_cleaned\n",
    "\n",
    "ctr = 0\n",
    "bleu_score=0\n",
    "chrf2_score=0\n",
    "total_bleu_score=0\n",
    "total_chrf2_score=0\n",
    "results=[]\n",
    "\n",
    "for index, row in tqdm(df_val.iterrows()):\n",
    "\n",
    "    hindi_sentence = row['Hindi']\n",
    "    # bhili_sentence = row['Bhili']\n",
    "    predicted_sentence= infer(hindi_sentence)\n",
    "    ctr+=1\n",
    "#     print(f\"{ctr} sentences processed!\")"
   ]
  },
  {
   "cell_type": "code",
   "execution_count": null,
   "id": "680889bd",
   "metadata": {
    "papermill": {
     "duration": 10.141877,
     "end_time": "2024-08-20T22:34:39.419565",
     "exception": false,
     "start_time": "2024-08-20T22:34:29.277688",
     "status": "completed"
    },
    "tags": []
   },
   "outputs": [],
   "source": []
  },
  {
   "cell_type": "code",
   "execution_count": null,
   "id": "02df74a5",
   "metadata": {
    "papermill": {
     "duration": 10.264122,
     "end_time": "2024-08-20T22:34:59.545331",
     "exception": false,
     "start_time": "2024-08-20T22:34:49.281209",
     "status": "completed"
    },
    "tags": []
   },
   "outputs": [],
   "source": []
  },
  {
   "cell_type": "code",
   "execution_count": null,
   "id": "5237d687",
   "metadata": {
    "papermill": {
     "duration": 10.063552,
     "end_time": "2024-08-20T22:35:19.504921",
     "exception": false,
     "start_time": "2024-08-20T22:35:09.441369",
     "status": "completed"
    },
    "tags": []
   },
   "outputs": [],
   "source": []
  }
 ],
 "metadata": {
  "kaggle": {
   "accelerator": "gpu",
   "dataSources": [
    {
     "datasetId": 5539895,
     "sourceId": 9168074,
     "sourceType": "datasetVersion"
    },
    {
     "datasetId": 5569925,
     "sourceId": 9211449,
     "sourceType": "datasetVersion"
    }
   ],
   "dockerImageVersionId": 30747,
   "isGpuEnabled": true,
   "isInternetEnabled": true,
   "language": "python",
   "sourceType": "notebook"
  },
  "kernelspec": {
   "display_name": "Python 3",
   "language": "python",
   "name": "python3"
  },
  "language_info": {
   "codemirror_mode": {
    "name": "ipython",
    "version": 3
   },
   "file_extension": ".py",
   "mimetype": "text/x-python",
   "name": "python",
   "nbconvert_exporter": "python",
   "pygments_lexer": "ipython3",
   "version": "3.11.9"
  },
  "papermill": {
   "default_parameters": {},
   "duration": 28720.764792,
   "end_time": "2024-08-20T22:35:31.156759",
   "environment_variables": {},
   "exception": null,
   "input_path": "__notebook__.ipynb",
   "output_path": "__notebook__.ipynb",
   "parameters": {},
   "start_time": "2024-08-20T14:36:50.391967",
   "version": "2.5.0"
  }
 },
 "nbformat": 4,
 "nbformat_minor": 5
}
